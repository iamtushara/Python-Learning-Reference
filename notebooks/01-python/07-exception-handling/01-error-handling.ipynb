{
 "cells": [
  {
   "cell_type": "markdown",
   "id": "18ace0fe",
   "metadata": {},
   "source": [
    "# Error Handling"
   ]
  },
  {
   "cell_type": "code",
   "execution_count": null,
   "id": "2980b712",
   "metadata": {},
   "outputs": [],
   "source": []
  },
  {
   "cell_type": "markdown",
   "id": "b55d21be",
   "metadata": {},
   "source": [
    "# Syntax"
   ]
  },
  {
   "cell_type": "raw",
   "id": "90102b1e",
   "metadata": {},
   "source": [
    "try:\n",
    "\n",
    "    potentially faulty code\n",
    "    \n",
    "except:\n",
    "\n",
    "    how we want to handle errors\n",
    "    \n",
    "finally:  # optional\n",
    "\n",
    "    some code that will always execute"
   ]
  },
  {
   "cell_type": "markdown",
   "id": "1e575f8d",
   "metadata": {},
   "source": [
    "# Examples of Errors"
   ]
  },
  {
   "cell_type": "code",
   "execution_count": 22,
   "id": "5ce275ab",
   "metadata": {
    "ExecuteTime": {
     "end_time": "2021-10-27T04:57:59.546439Z",
     "start_time": "2021-10-27T04:57:57.139146Z"
    }
   },
   "outputs": [
    {
     "name": "stdout",
     "output_type": "stream",
     "text": [
      "enter your marks: anand\n",
      "Invalid data-types. Try Again\n"
     ]
    }
   ],
   "source": [
    "marks = input('enter your marks: ')\n",
    "\n",
    "try:\n",
    "    marks = float(marks)\n",
    "    print(f\"{marks} was converted successfully\")\n",
    "    \n",
    "except:\n",
    "    print(\"Invalid data-types. Try Again\")\n"
   ]
  },
  {
   "cell_type": "code",
   "execution_count": 23,
   "id": "7c3ce191",
   "metadata": {
    "ExecuteTime": {
     "end_time": "2021-10-27T04:59:34.023547Z",
     "start_time": "2021-10-27T04:59:34.017530Z"
    }
   },
   "outputs": [],
   "source": [
    "def divide_numbers(num, divisor):\n",
    "    \n",
    "    try:\n",
    "        ans = num / divisor\n",
    "    \n",
    "    except ZeroDivisionError:\n",
    "        print('Check your inputs')\n",
    "        ans = None\n",
    "    \n",
    "    return ans"
   ]
  },
  {
   "cell_type": "code",
   "execution_count": 24,
   "id": "d4118e6c",
   "metadata": {
    "ExecuteTime": {
     "end_time": "2021-10-27T04:59:35.263565Z",
     "start_time": "2021-10-27T04:59:35.256572Z"
    }
   },
   "outputs": [
    {
     "name": "stdout",
     "output_type": "stream",
     "text": [
      "Check your inputs\n",
      "None\n"
     ]
    }
   ],
   "source": [
    "ans = divide_numbers(3, 0)\n",
    "print(ans)"
   ]
  },
  {
   "cell_type": "code",
   "execution_count": null,
   "id": "ecf362e7",
   "metadata": {},
   "outputs": [],
   "source": [
    "try:\n",
    "    print('A') # error might occur\n",
    "except:\n",
    "    handling_code()\n",
    "\n",
    "print('A')\n",
    "\n",
    "print('A')\n",
    "\n",
    "print('A')\n",
    "\n",
    "print('A')\n",
    "\n",
    "print('A')\n",
    "\n",
    "print('A')\n",
    "\n",
    "try:\n",
    "    print('A') # error might occur\n",
    "except:\n",
    "    handling_code()\n",
    "\n",
    "print('A')\n",
    "\n",
    "print('A')\n",
    "\n",
    "print('A')\n",
    "\n",
    "try:\n",
    "    print('A') # error might occur\n",
    "except:\n",
    "    handling_code()\n",
    "\n",
    "print('A')\n",
    "\n",
    "print('A')\n",
    "\n",
    "print('A')"
   ]
  }
 ],
 "metadata": {
  "kernelspec": {
   "display_name": "Python [conda env:iocl-python-training]",
   "language": "python",
   "name": "conda-env-iocl-python-training-py"
  },
  "language_info": {
   "codemirror_mode": {
    "name": "ipython",
    "version": 3
   },
   "file_extension": ".py",
   "mimetype": "text/x-python",
   "name": "python",
   "nbconvert_exporter": "python",
   "pygments_lexer": "ipython3",
   "version": "3.9.7"
  },
  "toc": {
   "base_numbering": 1,
   "nav_menu": {},
   "number_sections": true,
   "sideBar": true,
   "skip_h1_title": false,
   "title_cell": "Table of Contents",
   "title_sidebar": "Contents",
   "toc_cell": false,
   "toc_position": {},
   "toc_section_display": true,
   "toc_window_display": false
  },
  "varInspector": {
   "cols": {
    "lenName": 16,
    "lenType": 16,
    "lenVar": 40
   },
   "kernels_config": {
    "python": {
     "delete_cmd_postfix": "",
     "delete_cmd_prefix": "del ",
     "library": "var_list.py",
     "varRefreshCmd": "print(var_dic_list())"
    },
    "r": {
     "delete_cmd_postfix": ") ",
     "delete_cmd_prefix": "rm(",
     "library": "var_list.r",
     "varRefreshCmd": "cat(var_dic_list()) "
    }
   },
   "types_to_exclude": [
    "module",
    "function",
    "builtin_function_or_method",
    "instance",
    "_Feature"
   ],
   "window_display": false
  }
 },
 "nbformat": 4,
 "nbformat_minor": 5
}
