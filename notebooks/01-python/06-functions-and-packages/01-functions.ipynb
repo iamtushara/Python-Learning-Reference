{
 "cells": [
  {
   "cell_type": "markdown",
   "id": "c7eb7e7e",
   "metadata": {},
   "source": [
    "# Functions"
   ]
  },
  {
   "cell_type": "markdown",
   "id": "ef655998",
   "metadata": {},
   "source": [
    "Actions associated with Functions\n",
    "- defining/creating a function\n",
    "- calling/using the function"
   ]
  },
  {
   "cell_type": "markdown",
   "id": "a86da872",
   "metadata": {},
   "source": [
    "# Built-in functions"
   ]
  },
  {
   "cell_type": "code",
   "execution_count": 14,
   "id": "10b92993",
   "metadata": {
    "ExecuteTime": {
     "end_time": "2021-10-26T11:00:03.514482Z",
     "start_time": "2021-10-26T11:00:03.499480Z"
    }
   },
   "outputs": [
    {
     "name": "stdout",
     "output_type": "stream",
     "text": [
      "Tushar, Anand\n"
     ]
    }
   ],
   "source": [
    "print(\"Tushar\", end=', ')\n",
    "print(\"Anand\")"
   ]
  },
  {
   "cell_type": "code",
   "execution_count": 2,
   "id": "5f93484c",
   "metadata": {
    "ExecuteTime": {
     "end_time": "2021-10-26T10:54:05.629181Z",
     "start_time": "2021-10-26T10:54:05.605179Z"
    }
   },
   "outputs": [
    {
     "data": {
      "text/plain": [
       "4"
      ]
     },
     "execution_count": 2,
     "metadata": {},
     "output_type": "execute_result"
    }
   ],
   "source": [
    "len(\"IOCL\")"
   ]
  },
  {
   "cell_type": "code",
   "execution_count": 3,
   "id": "d0ca4c67",
   "metadata": {
    "ExecuteTime": {
     "end_time": "2021-10-26T10:54:13.256544Z",
     "start_time": "2021-10-26T10:54:13.248541Z"
    }
   },
   "outputs": [
    {
     "data": {
      "text/plain": [
       "int"
      ]
     },
     "execution_count": 3,
     "metadata": {},
     "output_type": "execute_result"
    }
   ],
   "source": [
    "type(4)"
   ]
  },
  {
   "cell_type": "code",
   "execution_count": 5,
   "id": "fc28ef26",
   "metadata": {
    "ExecuteTime": {
     "end_time": "2021-10-26T10:54:45.779868Z",
     "start_time": "2021-10-26T10:54:45.770867Z"
    }
   },
   "outputs": [
    {
     "data": {
      "text/plain": [
       "[1, 2, 3, 4, 5, 6, 7, 8, 9, 10]"
      ]
     },
     "execution_count": 5,
     "metadata": {},
     "output_type": "execute_result"
    }
   ],
   "source": [
    "list(range(1, 11))"
   ]
  },
  {
   "cell_type": "code",
   "execution_count": 8,
   "id": "0acc3d87",
   "metadata": {
    "ExecuteTime": {
     "end_time": "2021-10-26T10:56:02.975031Z",
     "start_time": "2021-10-26T10:56:02.964025Z"
    }
   },
   "outputs": [
    {
     "data": {
      "text/plain": [
       "True"
      ]
     },
     "execution_count": 8,
     "metadata": {},
     "output_type": "execute_result"
    }
   ],
   "source": [
    "isinstance([1, 2], list)"
   ]
  },
  {
   "cell_type": "code",
   "execution_count": 11,
   "id": "875becd9",
   "metadata": {
    "ExecuteTime": {
     "end_time": "2021-10-26T10:57:49.438427Z",
     "start_time": "2021-10-26T10:57:49.428422Z"
    }
   },
   "outputs": [
    {
     "data": {
      "text/plain": [
       "[(100, 'a'), (101, 'b'), (102, 'c')]"
      ]
     },
     "execution_count": 11,
     "metadata": {},
     "output_type": "execute_result"
    }
   ],
   "source": [
    "list(enumerate(['a', 'b', 'c'], start=100))"
   ]
  },
  {
   "cell_type": "code",
   "execution_count": 15,
   "id": "c957ffab",
   "metadata": {
    "ExecuteTime": {
     "end_time": "2021-10-26T11:09:45.822287Z",
     "start_time": "2021-10-26T11:09:45.813285Z"
    }
   },
   "outputs": [
    {
     "data": {
      "text/plain": [
       "10"
      ]
     },
     "execution_count": 15,
     "metadata": {},
     "output_type": "execute_result"
    }
   ],
   "source": [
    "sum([1, 2, 3, 4])"
   ]
  },
  {
   "cell_type": "markdown",
   "id": "24c2457f",
   "metadata": {},
   "source": [
    "# User defined functions"
   ]
  },
  {
   "cell_type": "code",
   "execution_count": null,
   "id": "4903780e",
   "metadata": {},
   "outputs": [],
   "source": []
  },
  {
   "cell_type": "markdown",
   "id": "eb66fd93",
   "metadata": {},
   "source": [
    "## Syntax"
   ]
  },
  {
   "cell_type": "markdown",
   "id": "045f2d6d",
   "metadata": {},
   "source": [
    "defining the function"
   ]
  },
  {
   "cell_type": "raw",
   "id": "a2033ece",
   "metadata": {},
   "source": [
    "def identifier(optional arguments):\n",
    "    \n",
    "    statement(s)\n",
    "    \n",
    "    return identifiers # optional"
   ]
  },
  {
   "cell_type": "markdown",
   "id": "15283fbc",
   "metadata": {},
   "source": [
    "calling the function"
   ]
  },
  {
   "cell_type": "raw",
   "id": "26071c99",
   "metadata": {},
   "source": [
    "identifier(optional arguments)"
   ]
  },
  {
   "cell_type": "markdown",
   "id": "0e6c80d5",
   "metadata": {},
   "source": [
    "# Examples"
   ]
  },
  {
   "cell_type": "markdown",
   "id": "e77ee8e4",
   "metadata": {},
   "source": [
    "##### write a function to add two numbers"
   ]
  },
  {
   "cell_type": "markdown",
   "id": "e6eb0a2c",
   "metadata": {},
   "source": [
    "## positional arguments"
   ]
  },
  {
   "cell_type": "code",
   "execution_count": 59,
   "id": "433b0c3e",
   "metadata": {
    "ExecuteTime": {
     "end_time": "2021-10-26T11:36:29.248858Z",
     "start_time": "2021-10-26T11:36:29.243848Z"
    }
   },
   "outputs": [],
   "source": [
    "def add_numbers(first_number, second_number):\n",
    "    \n",
    "    ans = first_number + second_number\n",
    "\n",
    "    return ans"
   ]
  },
  {
   "cell_type": "code",
   "execution_count": 62,
   "id": "3f134151",
   "metadata": {
    "ExecuteTime": {
     "end_time": "2021-10-26T11:37:04.817501Z",
     "start_time": "2021-10-26T11:37:04.807500Z"
    },
    "scrolled": true
   },
   "outputs": [
    {
     "data": {
      "text/plain": [
       "9"
      ]
     },
     "execution_count": 62,
     "metadata": {},
     "output_type": "execute_result"
    }
   ],
   "source": [
    "add_numbers(4, 5)"
   ]
  },
  {
   "cell_type": "markdown",
   "id": "8c5eb3ea",
   "metadata": {},
   "source": [
    "## default arguments\n",
    "\n",
    "positional args with some default value"
   ]
  },
  {
   "cell_type": "code",
   "execution_count": 34,
   "id": "ee0aee40",
   "metadata": {
    "ExecuteTime": {
     "end_time": "2021-10-26T11:24:55.521216Z",
     "start_time": "2021-10-26T11:24:55.515217Z"
    }
   },
   "outputs": [],
   "source": [
    "def add_numbers(first_number=0, second_number=0):\n",
    "    \n",
    "    ans = first_number + second_number\n",
    "\n",
    "    return ans"
   ]
  },
  {
   "cell_type": "code",
   "execution_count": 35,
   "id": "7f6d87e3",
   "metadata": {
    "ExecuteTime": {
     "end_time": "2021-10-26T11:25:34.511949Z",
     "start_time": "2021-10-26T11:25:34.501951Z"
    }
   },
   "outputs": [
    {
     "data": {
      "text/plain": [
       "0"
      ]
     },
     "execution_count": 35,
     "metadata": {},
     "output_type": "execute_result"
    }
   ],
   "source": [
    "add_numbers()"
   ]
  },
  {
   "cell_type": "code",
   "execution_count": 36,
   "id": "829a9cc3",
   "metadata": {
    "ExecuteTime": {
     "end_time": "2021-10-26T11:25:34.511949Z",
     "start_time": "2021-10-26T11:25:34.501951Z"
    }
   },
   "outputs": [
    {
     "data": {
      "text/plain": [
       "4"
      ]
     },
     "execution_count": 36,
     "metadata": {},
     "output_type": "execute_result"
    }
   ],
   "source": [
    "add_numbers(4)"
   ]
  },
  {
   "cell_type": "code",
   "execution_count": 37,
   "id": "2c54777a",
   "metadata": {
    "ExecuteTime": {
     "end_time": "2021-10-26T11:25:57.183798Z",
     "start_time": "2021-10-26T11:25:57.173800Z"
    }
   },
   "outputs": [
    {
     "data": {
      "text/plain": [
       "12"
      ]
     },
     "execution_count": 37,
     "metadata": {},
     "output_type": "execute_result"
    }
   ],
   "source": [
    "add_numbers(3, 9)"
   ]
  },
  {
   "cell_type": "code",
   "execution_count": 38,
   "id": "24353924",
   "metadata": {
    "ExecuteTime": {
     "end_time": "2021-10-26T11:26:43.352842Z",
     "start_time": "2021-10-26T11:26:43.334843Z"
    }
   },
   "outputs": [
    {
     "ename": "TypeError",
     "evalue": "add_numbers() takes from 0 to 2 positional arguments but 4 were given",
     "output_type": "error",
     "traceback": [
      "\u001b[1;31m---------------------------------------------------------------------------\u001b[0m",
      "\u001b[1;31mTypeError\u001b[0m                                 Traceback (most recent call last)",
      "\u001b[1;32mC:\\Users\\TUSHAR~1\\AppData\\Local\\Temp/ipykernel_11168/101360950.py\u001b[0m in \u001b[0;36m<module>\u001b[1;34m\u001b[0m\n\u001b[1;32m----> 1\u001b[1;33m \u001b[0madd_numbers\u001b[0m\u001b[1;33m(\u001b[0m\u001b[1;36m1\u001b[0m\u001b[1;33m,\u001b[0m \u001b[1;36m2\u001b[0m\u001b[1;33m,\u001b[0m \u001b[1;36m3\u001b[0m\u001b[1;33m,\u001b[0m \u001b[1;36m4\u001b[0m\u001b[1;33m)\u001b[0m\u001b[1;33m\u001b[0m\u001b[1;33m\u001b[0m\u001b[0m\n\u001b[0m",
      "\u001b[1;31mTypeError\u001b[0m: add_numbers() takes from 0 to 2 positional arguments but 4 were given"
     ]
    }
   ],
   "source": [
    "add_numbers(1, 2, 3, 4)"
   ]
  },
  {
   "cell_type": "markdown",
   "id": "f75e55e4",
   "metadata": {},
   "source": [
    "## variable number of arguments"
   ]
  },
  {
   "cell_type": "code",
   "execution_count": 66,
   "id": "1335bec7",
   "metadata": {
    "ExecuteTime": {
     "end_time": "2021-10-26T11:42:37.007379Z",
     "start_time": "2021-10-26T11:42:37.001379Z"
    }
   },
   "outputs": [],
   "source": [
    "def add_numbers(first_number=0, second_number=0, *milton):\n",
    "    \n",
    "    ans = first_number + second_number\n",
    "    for num in milton:\n",
    "        ans += num\n",
    "\n",
    "    return ans"
   ]
  },
  {
   "cell_type": "code",
   "execution_count": 55,
   "id": "c1b376d0",
   "metadata": {
    "ExecuteTime": {
     "end_time": "2021-10-26T11:34:52.967724Z",
     "start_time": "2021-10-26T11:34:52.958721Z"
    }
   },
   "outputs": [
    {
     "data": {
      "text/plain": [
       "10"
      ]
     },
     "execution_count": 55,
     "metadata": {},
     "output_type": "execute_result"
    }
   ],
   "source": [
    "add_numbers(1, 2, 3, 4)"
   ]
  },
  {
   "cell_type": "markdown",
   "id": "dee400eb",
   "metadata": {},
   "source": [
    "## keyword arguments"
   ]
  },
  {
   "cell_type": "code",
   "execution_count": 57,
   "id": "18155ca8",
   "metadata": {
    "ExecuteTime": {
     "end_time": "2021-10-26T11:35:49.832543Z",
     "start_time": "2021-10-26T11:35:49.825540Z"
    }
   },
   "outputs": [
    {
     "name": "stdout",
     "output_type": "stream",
     "text": [
      "1|2|3\n"
     ]
    }
   ],
   "source": [
    "print(1, 2, 3, sep=\"|\")"
   ]
  },
  {
   "cell_type": "code",
   "execution_count": 79,
   "id": "e7db6a5b",
   "metadata": {
    "ExecuteTime": {
     "end_time": "2021-10-26T11:50:03.757122Z",
     "start_time": "2021-10-26T11:50:03.750120Z"
    }
   },
   "outputs": [],
   "source": [
    "def calculator(first_number=0, second_number=0, *milton, **dheeraj):\n",
    "    \n",
    "    print(dheeraj)\n",
    "    op = dheeraj.get('op_type', 'prod')\n",
    "    print(op)\n",
    "    \n",
    "    if op == 'sum':\n",
    "        \n",
    "        res = add_numbers(first_number, second_number, *milton)\n",
    "        return res\n",
    "    \n",
    "    if op == 'prod':\n",
    "        \n",
    "        return \"product\"\n",
    "    \n",
    "    return 'undefined op'"
   ]
  },
  {
   "cell_type": "code",
   "execution_count": 82,
   "id": "6c8fe065",
   "metadata": {
    "ExecuteTime": {
     "end_time": "2021-10-26T11:52:18.195085Z",
     "start_time": "2021-10-26T11:52:18.186084Z"
    }
   },
   "outputs": [
    {
     "data": {
      "text/plain": [
       "20"
      ]
     },
     "execution_count": 82,
     "metadata": {},
     "output_type": "execute_result"
    }
   ],
   "source": [
    "add_numbers(2, 3, 4, 5, 6)"
   ]
  },
  {
   "cell_type": "code",
   "execution_count": 81,
   "id": "6f132f4c",
   "metadata": {
    "ExecuteTime": {
     "end_time": "2021-10-26T11:50:14.933440Z",
     "start_time": "2021-10-26T11:50:14.922439Z"
    }
   },
   "outputs": [
    {
     "name": "stdout",
     "output_type": "stream",
     "text": [
      "{'op_type': 'sum', 'tushar': 23456}\n",
      "sum\n"
     ]
    },
    {
     "data": {
      "text/plain": [
       "20"
      ]
     },
     "execution_count": 81,
     "metadata": {},
     "output_type": "execute_result"
    }
   ],
   "source": [
    "calculator(2, 3, 4, 5, 6, op_type='sum', tushar=23456)"
   ]
  }
 ],
 "metadata": {
  "kernelspec": {
   "display_name": "Python [conda env:iocl-python-training]",
   "language": "python",
   "name": "conda-env-iocl-python-training-py"
  },
  "language_info": {
   "codemirror_mode": {
    "name": "ipython",
    "version": 3
   },
   "file_extension": ".py",
   "mimetype": "text/x-python",
   "name": "python",
   "nbconvert_exporter": "python",
   "pygments_lexer": "ipython3",
   "version": "3.9.7"
  },
  "toc": {
   "base_numbering": 1,
   "nav_menu": {},
   "number_sections": true,
   "sideBar": true,
   "skip_h1_title": false,
   "title_cell": "Table of Contents",
   "title_sidebar": "Contents",
   "toc_cell": false,
   "toc_position": {},
   "toc_section_display": true,
   "toc_window_display": true
  },
  "varInspector": {
   "cols": {
    "lenName": 16,
    "lenType": 16,
    "lenVar": 40
   },
   "kernels_config": {
    "python": {
     "delete_cmd_postfix": "",
     "delete_cmd_prefix": "del ",
     "library": "var_list.py",
     "varRefreshCmd": "print(var_dic_list())"
    },
    "r": {
     "delete_cmd_postfix": ") ",
     "delete_cmd_prefix": "rm(",
     "library": "var_list.r",
     "varRefreshCmd": "cat(var_dic_list()) "
    }
   },
   "types_to_exclude": [
    "module",
    "function",
    "builtin_function_or_method",
    "instance",
    "_Feature"
   ],
   "window_display": false
  }
 },
 "nbformat": 4,
 "nbformat_minor": 5
}
