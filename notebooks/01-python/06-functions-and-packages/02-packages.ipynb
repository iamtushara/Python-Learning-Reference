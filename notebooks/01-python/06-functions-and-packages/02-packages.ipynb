{
 "cells": [
  {
   "cell_type": "markdown",
   "id": "5ee34b41",
   "metadata": {},
   "source": [
    "# Modules and Packages"
   ]
  },
  {
   "cell_type": "code",
   "execution_count": 1,
   "id": "125e1d0d",
   "metadata": {
    "ExecuteTime": {
     "end_time": "2021-10-24T23:53:04.739081Z",
     "start_time": "2021-10-24T23:53:04.643093Z"
    }
   },
   "outputs": [],
   "source": [
    "%config Completer.use_jedi = False\n",
    "%load_ext autoreload\n",
    "%autoreload 2"
   ]
  },
  {
   "cell_type": "markdown",
   "id": "3e7766f7",
   "metadata": {},
   "source": [
    "# Example"
   ]
  },
  {
   "cell_type": "code",
   "execution_count": 8,
   "id": "2682c08c",
   "metadata": {
    "ExecuteTime": {
     "end_time": "2021-10-24T23:54:30.509141Z",
     "start_time": "2021-10-24T23:54:30.446153Z"
    }
   },
   "outputs": [],
   "source": [
    "import project\n",
    "from iocl_python_training import test_module"
   ]
  },
  {
   "cell_type": "code",
   "execution_count": 9,
   "id": "51966db3",
   "metadata": {
    "ExecuteTime": {
     "end_time": "2021-10-24T23:54:42.193089Z",
     "start_time": "2021-10-24T23:54:42.126930Z"
    }
   },
   "outputs": [
    {
     "name": "stdout",
     "output_type": "stream",
     "text": [
      "Hello!\n"
     ]
    }
   ],
   "source": [
    "test_module.greet()"
   ]
  },
  {
   "cell_type": "code",
   "execution_count": null,
   "id": "072e10c8",
   "metadata": {},
   "outputs": [],
   "source": []
  }
 ],
 "metadata": {
  "kernelspec": {
   "display_name": "Python [conda env:iocl-python-training]",
   "language": "python",
   "name": "conda-env-iocl-python-training-py"
  },
  "language_info": {
   "codemirror_mode": {
    "name": "ipython",
    "version": 3
   },
   "file_extension": ".py",
   "mimetype": "text/x-python",
   "name": "python",
   "nbconvert_exporter": "python",
   "pygments_lexer": "ipython3",
   "version": "3.9.7"
  },
  "toc": {
   "base_numbering": 1,
   "nav_menu": {},
   "number_sections": true,
   "sideBar": true,
   "skip_h1_title": false,
   "title_cell": "Table of Contents",
   "title_sidebar": "Contents",
   "toc_cell": false,
   "toc_position": {},
   "toc_section_display": true,
   "toc_window_display": false
  },
  "varInspector": {
   "cols": {
    "lenName": 16,
    "lenType": 16,
    "lenVar": 40
   },
   "kernels_config": {
    "python": {
     "delete_cmd_postfix": "",
     "delete_cmd_prefix": "del ",
     "library": "var_list.py",
     "varRefreshCmd": "print(var_dic_list())"
    },
    "r": {
     "delete_cmd_postfix": ") ",
     "delete_cmd_prefix": "rm(",
     "library": "var_list.r",
     "varRefreshCmd": "cat(var_dic_list()) "
    }
   },
   "types_to_exclude": [
    "module",
    "function",
    "builtin_function_or_method",
    "instance",
    "_Feature"
   ],
   "window_display": false
  }
 },
 "nbformat": 4,
 "nbformat_minor": 5
}
