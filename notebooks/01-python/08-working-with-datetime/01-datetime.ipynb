{
 "cells": [
  {
   "cell_type": "markdown",
   "id": "2d834b65",
   "metadata": {},
   "source": [
    "# Datetime"
   ]
  },
  {
   "cell_type": "markdown",
   "id": "089ed4e6",
   "metadata": {},
   "source": [
    "Introduction to Python datetime library"
   ]
  },
  {
   "cell_type": "markdown",
   "id": "40ff3fff",
   "metadata": {},
   "source": [
    "# Setup"
   ]
  },
  {
   "cell_type": "code",
   "execution_count": 1,
   "id": "6eb56d2b",
   "metadata": {
    "ExecuteTime": {
     "end_time": "2021-10-24T23:58:20.163772Z",
     "start_time": "2021-10-24T23:58:20.146738Z"
    }
   },
   "outputs": [],
   "source": [
    "from datetime import datetime as dt"
   ]
  },
  {
   "cell_type": "markdown",
   "id": "fc406c87",
   "metadata": {},
   "source": [
    "# Current datetime"
   ]
  },
  {
   "cell_type": "code",
   "execution_count": 2,
   "id": "b44df603",
   "metadata": {
    "ExecuteTime": {
     "end_time": "2021-10-24T23:58:45.868598Z",
     "start_time": "2021-10-24T23:58:45.837053Z"
    }
   },
   "outputs": [
    {
     "data": {
      "text/plain": [
       "datetime.datetime(2021, 10, 25, 5, 28, 45, 837053)"
      ]
     },
     "execution_count": 2,
     "metadata": {},
     "output_type": "execute_result"
    }
   ],
   "source": [
    "dt.now()"
   ]
  },
  {
   "cell_type": "code",
   "execution_count": 3,
   "id": "6b03db48",
   "metadata": {
    "ExecuteTime": {
     "end_time": "2021-10-24T23:58:55.842053Z",
     "start_time": "2021-10-24T23:58:55.837053Z"
    }
   },
   "outputs": [
    {
     "name": "stdout",
     "output_type": "stream",
     "text": [
      "2021-10-25 05:28:55.838053\n"
     ]
    }
   ],
   "source": [
    "print(dt.now())"
   ]
  },
  {
   "cell_type": "markdown",
   "id": "157e6b88",
   "metadata": {},
   "source": [
    "# Creating and Formatting datetime values\n",
    "\n",
    "https://strftime.org/"
   ]
  },
  {
   "cell_type": "markdown",
   "id": "57452848",
   "metadata": {},
   "source": [
    "## `strptime`"
   ]
  },
  {
   "cell_type": "code",
   "execution_count": 6,
   "id": "8b978360",
   "metadata": {
    "ExecuteTime": {
     "end_time": "2021-10-25T00:00:43.986162Z",
     "start_time": "2021-10-25T00:00:43.966162Z"
    }
   },
   "outputs": [
    {
     "data": {
      "text/plain": [
       "datetime.datetime(2020, 12, 30, 0, 0)"
      ]
     },
     "execution_count": 6,
     "metadata": {},
     "output_type": "execute_result"
    }
   ],
   "source": [
    "dt.strptime(\"2020-12-30\", \"%Y-%m-%d\")"
   ]
  },
  {
   "cell_type": "markdown",
   "id": "795c87bb",
   "metadata": {},
   "source": [
    "## `strftime`"
   ]
  },
  {
   "cell_type": "code",
   "execution_count": 8,
   "id": "13a0458e",
   "metadata": {
    "ExecuteTime": {
     "end_time": "2021-10-25T00:02:18.965465Z",
     "start_time": "2021-10-25T00:02:18.942465Z"
    }
   },
   "outputs": [
    {
     "data": {
      "text/plain": [
       "'day 25 of the month October, 2021'"
      ]
     },
     "execution_count": 8,
     "metadata": {},
     "output_type": "execute_result"
    }
   ],
   "source": [
    "dt.strftime(dt.now(), \"day %d of the month %B, %Y\")"
   ]
  },
  {
   "cell_type": "markdown",
   "id": "62d7d248",
   "metadata": {},
   "source": [
    "# Timedelta"
   ]
  },
  {
   "cell_type": "code",
   "execution_count": 10,
   "id": "3f2c131b",
   "metadata": {
    "ExecuteTime": {
     "end_time": "2021-10-25T00:02:53.797978Z",
     "start_time": "2021-10-25T00:02:53.784978Z"
    }
   },
   "outputs": [],
   "source": [
    "from datetime import timedelta"
   ]
  },
  {
   "cell_type": "code",
   "execution_count": 12,
   "id": "7c370207",
   "metadata": {
    "ExecuteTime": {
     "end_time": "2021-10-25T00:03:09.224978Z",
     "start_time": "2021-10-25T00:03:09.203981Z"
    }
   },
   "outputs": [
    {
     "data": {
      "text/plain": [
       "datetime.datetime(2021, 10, 25, 5, 33, 9, 204978)"
      ]
     },
     "execution_count": 12,
     "metadata": {},
     "output_type": "execute_result"
    }
   ],
   "source": [
    "dt.now()"
   ]
  },
  {
   "cell_type": "code",
   "execution_count": 14,
   "id": "407554b4",
   "metadata": {
    "ExecuteTime": {
     "end_time": "2021-10-25T00:03:30.138538Z",
     "start_time": "2021-10-25T00:03:30.122538Z"
    }
   },
   "outputs": [
    {
     "data": {
      "text/plain": [
       "datetime.datetime(2021, 10, 30, 5, 33, 30, 123538)"
      ]
     },
     "execution_count": 14,
     "metadata": {},
     "output_type": "execute_result"
    }
   ],
   "source": [
    "dt.now() + timedelta(5)"
   ]
  },
  {
   "cell_type": "code",
   "execution_count": null,
   "id": "31a84e97",
   "metadata": {},
   "outputs": [],
   "source": []
  }
 ],
 "metadata": {
  "kernelspec": {
   "display_name": "Python [conda env:iocl-python-training]",
   "language": "python",
   "name": "conda-env-iocl-python-training-py"
  },
  "language_info": {
   "codemirror_mode": {
    "name": "ipython",
    "version": 3
   },
   "file_extension": ".py",
   "mimetype": "text/x-python",
   "name": "python",
   "nbconvert_exporter": "python",
   "pygments_lexer": "ipython3",
   "version": "3.9.7"
  },
  "toc": {
   "base_numbering": 1,
   "nav_menu": {},
   "number_sections": true,
   "sideBar": true,
   "skip_h1_title": false,
   "title_cell": "Table of Contents",
   "title_sidebar": "Contents",
   "toc_cell": false,
   "toc_position": {},
   "toc_section_display": true,
   "toc_window_display": false
  },
  "varInspector": {
   "cols": {
    "lenName": 16,
    "lenType": 16,
    "lenVar": 40
   },
   "kernels_config": {
    "python": {
     "delete_cmd_postfix": "",
     "delete_cmd_prefix": "del ",
     "library": "var_list.py",
     "varRefreshCmd": "print(var_dic_list())"
    },
    "r": {
     "delete_cmd_postfix": ") ",
     "delete_cmd_prefix": "rm(",
     "library": "var_list.r",
     "varRefreshCmd": "cat(var_dic_list()) "
    }
   },
   "types_to_exclude": [
    "module",
    "function",
    "builtin_function_or_method",
    "instance",
    "_Feature"
   ],
   "window_display": false
  }
 },
 "nbformat": 4,
 "nbformat_minor": 5
}
