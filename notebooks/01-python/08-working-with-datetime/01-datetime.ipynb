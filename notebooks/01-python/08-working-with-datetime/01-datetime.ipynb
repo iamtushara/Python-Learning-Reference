{
 "cells": [
  {
   "cell_type": "markdown",
   "id": "2d834b65",
   "metadata": {},
   "source": [
    "# Datetime"
   ]
  },
  {
   "cell_type": "markdown",
   "id": "089ed4e6",
   "metadata": {},
   "source": [
    "Introduction to Python datetime library"
   ]
  },
  {
   "cell_type": "markdown",
   "id": "40ff3fff",
   "metadata": {},
   "source": [
    "# Setup"
   ]
  },
  {
   "cell_type": "code",
   "execution_count": 1,
   "id": "6eb56d2b",
   "metadata": {
    "ExecuteTime": {
     "end_time": "2021-10-26T12:06:23.441989Z",
     "start_time": "2021-10-26T12:06:23.435989Z"
    }
   },
   "outputs": [],
   "source": [
    "from datetime import datetime as dt"
   ]
  },
  {
   "cell_type": "markdown",
   "id": "fc406c87",
   "metadata": {},
   "source": [
    "# Current datetime"
   ]
  },
  {
   "cell_type": "code",
   "execution_count": 3,
   "id": "b44df603",
   "metadata": {
    "ExecuteTime": {
     "end_time": "2021-10-26T12:06:37.089094Z",
     "start_time": "2021-10-26T12:06:37.081095Z"
    }
   },
   "outputs": [
    {
     "data": {
      "text/plain": [
       "datetime.datetime(2021, 10, 26, 17, 36, 37, 82094)"
      ]
     },
     "execution_count": 3,
     "metadata": {},
     "output_type": "execute_result"
    }
   ],
   "source": [
    "dt.now()"
   ]
  },
  {
   "cell_type": "code",
   "execution_count": 4,
   "id": "6b03db48",
   "metadata": {
    "ExecuteTime": {
     "end_time": "2021-10-26T12:06:40.061649Z",
     "start_time": "2021-10-26T12:06:40.052660Z"
    }
   },
   "outputs": [
    {
     "name": "stdout",
     "output_type": "stream",
     "text": [
      "2021-10-26 17:36:40.055653\n"
     ]
    }
   ],
   "source": [
    "print(dt.now())"
   ]
  },
  {
   "cell_type": "markdown",
   "id": "157e6b88",
   "metadata": {},
   "source": [
    "# Creating and Formatting datetime values\n",
    "\n",
    "https://strftime.org/"
   ]
  },
  {
   "cell_type": "markdown",
   "id": "57452848",
   "metadata": {},
   "source": [
    "## `strptime`"
   ]
  },
  {
   "cell_type": "code",
   "execution_count": 5,
   "id": "8b978360",
   "metadata": {
    "ExecuteTime": {
     "end_time": "2021-10-26T12:08:27.846119Z",
     "start_time": "2021-10-26T12:08:27.836116Z"
    }
   },
   "outputs": [
    {
     "data": {
      "text/plain": [
       "datetime.datetime(2230, 12, 30, 0, 0)"
      ]
     },
     "execution_count": 5,
     "metadata": {},
     "output_type": "execute_result"
    }
   ],
   "source": [
    "dt.strptime(\"2230-12-30\", \"%Y-%m-%d\")"
   ]
  },
  {
   "cell_type": "code",
   "execution_count": 5,
   "id": "d988fba3",
   "metadata": {
    "ExecuteTime": {
     "end_time": "2021-10-26T12:08:27.846119Z",
     "start_time": "2021-10-26T12:08:27.836116Z"
    }
   },
   "outputs": [
    {
     "data": {
      "text/plain": [
       "datetime.datetime(2230, 12, 30, 0, 0)"
      ]
     },
     "execution_count": 5,
     "metadata": {},
     "output_type": "execute_result"
    }
   ],
   "source": [
    "dt.strptime(\"2230/12/30\", \"%Y/%m/%d\")"
   ]
  },
  {
   "cell_type": "code",
   "execution_count": 7,
   "id": "477cfdba",
   "metadata": {
    "ExecuteTime": {
     "end_time": "2021-10-26T12:11:49.105542Z",
     "start_time": "2021-10-26T12:11:49.094538Z"
    }
   },
   "outputs": [
    {
     "data": {
      "text/plain": [
       "datetime.datetime(2230, 12, 30, 0, 0)"
      ]
     },
     "execution_count": 7,
     "metadata": {},
     "output_type": "execute_result"
    }
   ],
   "source": [
    "dt.strptime(\"the month December of year 2230, 30\", \"the month %B of year %Y, %d\")"
   ]
  },
  {
   "cell_type": "markdown",
   "id": "795c87bb",
   "metadata": {},
   "source": [
    "## `strftime`"
   ]
  },
  {
   "cell_type": "code",
   "execution_count": 10,
   "id": "13a0458e",
   "metadata": {
    "ExecuteTime": {
     "end_time": "2021-10-26T12:13:04.576808Z",
     "start_time": "2021-10-26T12:13:04.566808Z"
    }
   },
   "outputs": [
    {
     "data": {
      "text/plain": [
       "'day 26 of the month Oct, 2021'"
      ]
     },
     "execution_count": 10,
     "metadata": {},
     "output_type": "execute_result"
    }
   ],
   "source": [
    "dt.strftime(dt.now(), \"day %d of the month %b, %Y\")"
   ]
  },
  {
   "cell_type": "code",
   "execution_count": 11,
   "id": "9e2f04c3",
   "metadata": {
    "ExecuteTime": {
     "end_time": "2021-10-26T12:13:17.596474Z",
     "start_time": "2021-10-26T12:13:17.590459Z"
    }
   },
   "outputs": [],
   "source": [
    "x = dt.now()"
   ]
  },
  {
   "cell_type": "code",
   "execution_count": 25,
   "id": "7e718566",
   "metadata": {
    "ExecuteTime": {
     "end_time": "2021-10-26T12:16:19.067661Z",
     "start_time": "2021-10-26T12:16:19.054655Z"
    }
   },
   "outputs": [
    {
     "data": {
      "text/plain": [
       "1"
      ]
     },
     "execution_count": 25,
     "metadata": {},
     "output_type": "execute_result"
    }
   ],
   "source": [
    "x.weekday()"
   ]
  },
  {
   "cell_type": "markdown",
   "id": "62d7d248",
   "metadata": {},
   "source": [
    "# Timedelta"
   ]
  },
  {
   "cell_type": "code",
   "execution_count": 18,
   "id": "3f2c131b",
   "metadata": {
    "ExecuteTime": {
     "end_time": "2021-10-26T12:14:29.590916Z",
     "start_time": "2021-10-26T12:14:29.585913Z"
    }
   },
   "outputs": [],
   "source": [
    "from datetime import timedelta"
   ]
  },
  {
   "cell_type": "code",
   "execution_count": 19,
   "id": "7c370207",
   "metadata": {
    "ExecuteTime": {
     "end_time": "2021-10-26T12:14:30.789921Z",
     "start_time": "2021-10-26T12:14:30.783914Z"
    }
   },
   "outputs": [],
   "source": [
    "today = dt.now()"
   ]
  },
  {
   "cell_type": "code",
   "execution_count": 23,
   "id": "7c0b6f50",
   "metadata": {
    "ExecuteTime": {
     "end_time": "2021-10-26T12:15:27.163086Z",
     "start_time": "2021-10-26T12:15:27.152085Z"
    }
   },
   "outputs": [
    {
     "data": {
      "text/plain": [
       "datetime.datetime(2022, 10, 26, 17, 44, 30, 785917)"
      ]
     },
     "execution_count": 23,
     "metadata": {},
     "output_type": "execute_result"
    }
   ],
   "source": [
    "today + timedelta()"
   ]
  },
  {
   "cell_type": "code",
   "execution_count": null,
   "id": "31a84e97",
   "metadata": {},
   "outputs": [],
   "source": []
  }
 ],
 "metadata": {
  "kernelspec": {
   "display_name": "Python [conda env:iocl-python-training]",
   "language": "python",
   "name": "conda-env-iocl-python-training-py"
  },
  "language_info": {
   "codemirror_mode": {
    "name": "ipython",
    "version": 3
   },
   "file_extension": ".py",
   "mimetype": "text/x-python",
   "name": "python",
   "nbconvert_exporter": "python",
   "pygments_lexer": "ipython3",
   "version": "3.9.7"
  },
  "toc": {
   "base_numbering": 1,
   "nav_menu": {},
   "number_sections": true,
   "sideBar": true,
   "skip_h1_title": false,
   "title_cell": "Table of Contents",
   "title_sidebar": "Contents",
   "toc_cell": false,
   "toc_position": {},
   "toc_section_display": true,
   "toc_window_display": false
  },
  "varInspector": {
   "cols": {
    "lenName": 16,
    "lenType": 16,
    "lenVar": 40
   },
   "kernels_config": {
    "python": {
     "delete_cmd_postfix": "",
     "delete_cmd_prefix": "del ",
     "library": "var_list.py",
     "varRefreshCmd": "print(var_dic_list())"
    },
    "r": {
     "delete_cmd_postfix": ") ",
     "delete_cmd_prefix": "rm(",
     "library": "var_list.r",
     "varRefreshCmd": "cat(var_dic_list()) "
    }
   },
   "types_to_exclude": [
    "module",
    "function",
    "builtin_function_or_method",
    "instance",
    "_Feature"
   ],
   "window_display": false
  }
 },
 "nbformat": 4,
 "nbformat_minor": 5
}
