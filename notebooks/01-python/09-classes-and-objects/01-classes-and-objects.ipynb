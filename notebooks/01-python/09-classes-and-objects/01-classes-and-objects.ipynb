{
 "cells": [
  {
   "cell_type": "markdown",
   "id": "b9b8160e",
   "metadata": {},
   "source": [
    "# Classes"
   ]
  },
  {
   "cell_type": "code",
   "execution_count": null,
   "id": "cd4900ae",
   "metadata": {},
   "outputs": [],
   "source": []
  },
  {
   "cell_type": "markdown",
   "id": "4e5dfb65",
   "metadata": {},
   "source": [
    "# Syntax"
   ]
  },
  {
   "cell_type": "code",
   "execution_count": null,
   "id": "d4ad122c",
   "metadata": {},
   "outputs": [],
   "source": []
  },
  {
   "cell_type": "markdown",
   "id": "0a6ef237",
   "metadata": {},
   "source": [
    "# Examples"
   ]
  },
  {
   "cell_type": "code",
   "execution_count": 38,
   "id": "da1e06fa",
   "metadata": {
    "ExecuteTime": {
     "end_time": "2021-10-25T11:16:39.005836Z",
     "start_time": "2021-10-25T11:16:38.996832Z"
    }
   },
   "outputs": [],
   "source": [
    "# Encapsulation\n",
    "class BankAccount:\n",
    "    \n",
    "    def __init__(self, acc_num, acc_bal, acc_holder):\n",
    "        self.acc_num = acc_num\n",
    "        self.acc_bal = acc_bal\n",
    "        self.acc_holder = acc_holder\n",
    "        \n",
    "    # Member Functions\n",
    "    def withdraw_money(self, amount):\n",
    "        self.acc_bal = self.acc_bal - amount\n",
    "    \n",
    "    def deposit(self, amount):\n",
    "        self.acc_bal = self.acc_bal + amount\n",
    "        \n",
    "    def show_balance(self):\n",
    "        print(self.acc_bal)\n",
    "        \n",
    "    def print(self):\n",
    "        print(self.acc_bal, self.acc_num)\n"
   ]
  },
  {
   "cell_type": "code",
   "execution_count": 40,
   "id": "6466736c",
   "metadata": {
    "ExecuteTime": {
     "end_time": "2021-10-25T11:16:48.829699Z",
     "start_time": "2021-10-25T11:16:48.825698Z"
    }
   },
   "outputs": [],
   "source": [
    "amit_account = BankAccount('A001', 2000, 'Amit')\n",
    "priya_account = BankAccount('A002', 4000, 'Priya')"
   ]
  },
  {
   "cell_type": "code",
   "execution_count": 25,
   "id": "01cfaf39",
   "metadata": {
    "ExecuteTime": {
     "end_time": "2021-10-25T11:05:37.400101Z",
     "start_time": "2021-10-25T11:05:37.394101Z"
    }
   },
   "outputs": [
    {
     "name": "stdout",
     "output_type": "stream",
     "text": [
      "<class '__main__.BankAccount'>\n"
     ]
    }
   ],
   "source": [
    "print(type(amit_account))"
   ]
  },
  {
   "cell_type": "code",
   "execution_count": 26,
   "id": "9c222962",
   "metadata": {
    "ExecuteTime": {
     "end_time": "2021-10-25T11:11:10.340878Z",
     "start_time": "2021-10-25T11:11:10.332871Z"
    }
   },
   "outputs": [
    {
     "data": {
      "text/plain": [
       "'A001'"
      ]
     },
     "execution_count": 26,
     "metadata": {},
     "output_type": "execute_result"
    }
   ],
   "source": [
    "amit_account.acc_num"
   ]
  },
  {
   "cell_type": "code",
   "execution_count": 27,
   "id": "fe353e1d",
   "metadata": {
    "ExecuteTime": {
     "end_time": "2021-10-25T11:11:16.781768Z",
     "start_time": "2021-10-25T11:11:16.773767Z"
    }
   },
   "outputs": [
    {
     "data": {
      "text/plain": [
       "'Amit'"
      ]
     },
     "execution_count": 27,
     "metadata": {},
     "output_type": "execute_result"
    }
   ],
   "source": [
    "amit_account.acc_holder"
   ]
  },
  {
   "cell_type": "code",
   "execution_count": 28,
   "id": "4a14e4c7",
   "metadata": {
    "ExecuteTime": {
     "end_time": "2021-10-25T11:11:29.451982Z",
     "start_time": "2021-10-25T11:11:29.439985Z"
    }
   },
   "outputs": [
    {
     "data": {
      "text/plain": [
       "2000"
      ]
     },
     "execution_count": 28,
     "metadata": {},
     "output_type": "execute_result"
    }
   ],
   "source": [
    "amit_account.acc_bal"
   ]
  },
  {
   "cell_type": "code",
   "execution_count": 29,
   "id": "0378f304",
   "metadata": {
    "ExecuteTime": {
     "end_time": "2021-10-25T11:11:54.914622Z",
     "start_time": "2021-10-25T11:11:54.907616Z"
    }
   },
   "outputs": [
    {
     "name": "stdout",
     "output_type": "stream",
     "text": [
      "2000\n"
     ]
    }
   ],
   "source": [
    "amit_account.show_balance()"
   ]
  },
  {
   "cell_type": "code",
   "execution_count": 30,
   "id": "955611d5",
   "metadata": {
    "ExecuteTime": {
     "end_time": "2021-10-25T11:12:08.433718Z",
     "start_time": "2021-10-25T11:12:08.428734Z"
    }
   },
   "outputs": [],
   "source": [
    "amit_account.withdraw_money(500)"
   ]
  },
  {
   "cell_type": "code",
   "execution_count": 31,
   "id": "d52b1331",
   "metadata": {
    "ExecuteTime": {
     "end_time": "2021-10-25T11:12:17.782145Z",
     "start_time": "2021-10-25T11:12:17.775142Z"
    }
   },
   "outputs": [
    {
     "data": {
      "text/plain": [
       "1500"
      ]
     },
     "execution_count": 31,
     "metadata": {},
     "output_type": "execute_result"
    }
   ],
   "source": [
    "amit_account.acc_bal"
   ]
  },
  {
   "cell_type": "code",
   "execution_count": 36,
   "id": "eb4baf51",
   "metadata": {
    "ExecuteTime": {
     "end_time": "2021-10-25T11:14:24.203670Z",
     "start_time": "2021-10-25T11:14:24.196673Z"
    }
   },
   "outputs": [
    {
     "data": {
      "text/plain": [
       "__main__.BankAccount"
      ]
     },
     "execution_count": 36,
     "metadata": {},
     "output_type": "execute_result"
    }
   ],
   "source": [
    "type(amit_account)"
   ]
  },
  {
   "cell_type": "code",
   "execution_count": 41,
   "id": "90cf2f02",
   "metadata": {
    "ExecuteTime": {
     "end_time": "2021-10-25T11:16:51.925817Z",
     "start_time": "2021-10-25T11:16:51.918813Z"
    }
   },
   "outputs": [
    {
     "name": "stdout",
     "output_type": "stream",
     "text": [
      "2000 A001\n"
     ]
    }
   ],
   "source": [
    "amit_account.print()"
   ]
  },
  {
   "cell_type": "code",
   "execution_count": 32,
   "id": "6cf1322c",
   "metadata": {
    "ExecuteTime": {
     "end_time": "2021-10-25T11:12:34.145750Z",
     "start_time": "2021-10-25T11:12:34.140749Z"
    }
   },
   "outputs": [],
   "source": [
    "amit_account.deposit(700)"
   ]
  },
  {
   "cell_type": "code",
   "execution_count": 35,
   "id": "55078063",
   "metadata": {
    "ExecuteTime": {
     "end_time": "2021-10-25T11:12:50.747460Z",
     "start_time": "2021-10-25T11:12:50.741460Z"
    }
   },
   "outputs": [
    {
     "data": {
      "text/plain": [
       "2200"
      ]
     },
     "execution_count": 35,
     "metadata": {},
     "output_type": "execute_result"
    }
   ],
   "source": [
    "amit_account.acc_bal"
   ]
  },
  {
   "cell_type": "code",
   "execution_count": null,
   "id": "ac379e18",
   "metadata": {},
   "outputs": [],
   "source": []
  },
  {
   "cell_type": "code",
   "execution_count": null,
   "id": "5c55c1e4",
   "metadata": {},
   "outputs": [],
   "source": []
  }
 ],
 "metadata": {
  "kernelspec": {
   "display_name": "Python [conda env:iocl-python-training]",
   "language": "python",
   "name": "conda-env-iocl-python-training-py"
  },
  "language_info": {
   "codemirror_mode": {
    "name": "ipython",
    "version": 3
   },
   "file_extension": ".py",
   "mimetype": "text/x-python",
   "name": "python",
   "nbconvert_exporter": "python",
   "pygments_lexer": "ipython3",
   "version": "3.9.7"
  },
  "toc": {
   "base_numbering": 1,
   "nav_menu": {},
   "number_sections": true,
   "sideBar": true,
   "skip_h1_title": false,
   "title_cell": "Table of Contents",
   "title_sidebar": "Contents",
   "toc_cell": false,
   "toc_position": {},
   "toc_section_display": true,
   "toc_window_display": false
  },
  "varInspector": {
   "cols": {
    "lenName": 16,
    "lenType": 16,
    "lenVar": 40
   },
   "kernels_config": {
    "python": {
     "delete_cmd_postfix": "",
     "delete_cmd_prefix": "del ",
     "library": "var_list.py",
     "varRefreshCmd": "print(var_dic_list())"
    },
    "r": {
     "delete_cmd_postfix": ") ",
     "delete_cmd_prefix": "rm(",
     "library": "var_list.r",
     "varRefreshCmd": "cat(var_dic_list()) "
    }
   },
   "types_to_exclude": [
    "module",
    "function",
    "builtin_function_or_method",
    "instance",
    "_Feature"
   ],
   "window_display": false
  }
 },
 "nbformat": 4,
 "nbformat_minor": 5
}
