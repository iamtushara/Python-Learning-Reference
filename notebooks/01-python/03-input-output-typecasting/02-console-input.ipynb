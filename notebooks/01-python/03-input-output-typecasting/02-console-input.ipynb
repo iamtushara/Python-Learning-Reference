{
 "cells": [
  {
   "cell_type": "markdown",
   "id": "2184bb75",
   "metadata": {},
   "source": [
    "# input from the console"
   ]
  },
  {
   "cell_type": "code",
   "execution_count": 1,
   "id": "3a39f502",
   "metadata": {
    "ExecuteTime": {
     "end_time": "2021-10-26T06:49:28.809566Z",
     "start_time": "2021-10-26T06:49:28.804354Z"
    }
   },
   "outputs": [],
   "source": [
    "name = \"Tushar Anand\"\n",
    "age = 78\n",
    "salary = 100\n",
    "add = 'Mumbai'\n",
    "alive = True"
   ]
  },
  {
   "cell_type": "code",
   "execution_count": 3,
   "id": "969c2da3",
   "metadata": {
    "ExecuteTime": {
     "end_time": "2021-10-26T06:49:35.603288Z",
     "start_time": "2021-10-26T06:49:35.599287Z"
    }
   },
   "outputs": [
    {
     "name": "stdout",
     "output_type": "stream",
     "text": [
      "Tushar Anand is lives in Mumbai. His age is 78. He earns 100.\n"
     ]
    }
   ],
   "source": [
    "print(f'{name} is lives in {add}. His age is {age}. He earns {salary}.')"
   ]
  },
  {
   "cell_type": "markdown",
   "id": "bc2ec476",
   "metadata": {},
   "source": [
    "# `input()` function"
   ]
  },
  {
   "cell_type": "code",
   "execution_count": 12,
   "id": "9a64e6ae",
   "metadata": {
    "ExecuteTime": {
     "end_time": "2021-10-26T07:21:29.404082Z",
     "start_time": "2021-10-26T07:21:02.097822Z"
    }
   },
   "outputs": [
    {
     "name": "stdout",
     "output_type": "stream",
     "text": [
      "enter your name:Tushar Anand\n",
      "enter your age:23\n",
      "enter your salary:2000000\n",
      "enter your address:Mumbai\n",
      "are you alive?:False\n"
     ]
    }
   ],
   "source": [
    "name = input(\"enter your name:\")\n",
    "age = input(\"enter your age:\")\n",
    "salary = input(\"enter your salary:\")\n",
    "add = input(\"enter your address:\")\n",
    "alive = input(\"are you alive?:\")"
   ]
  },
  {
   "cell_type": "code",
   "execution_count": 11,
   "id": "761d140a",
   "metadata": {
    "ExecuteTime": {
     "end_time": "2021-10-26T07:18:57.317472Z",
     "start_time": "2021-10-26T07:18:57.310471Z"
    }
   },
   "outputs": [
    {
     "name": "stdout",
     "output_type": "stream",
     "text": [
      "tushar is lives in drf. His age is 12. He earns 12.\n"
     ]
    }
   ],
   "source": [
    "print(f'{name} is lives in {add}. His age is {age}. He earns {salary}.')"
   ]
  },
  {
   "cell_type": "code",
   "execution_count": 13,
   "id": "3f41daa4",
   "metadata": {
    "ExecuteTime": {
     "end_time": "2021-10-26T07:21:46.700339Z",
     "start_time": "2021-10-26T07:21:46.692338Z"
    }
   },
   "outputs": [
    {
     "name": "stdout",
     "output_type": "stream",
     "text": [
      "<class 'str'>\n",
      "<class 'str'>\n",
      "<class 'str'>\n",
      "<class 'str'>\n",
      "<class 'str'>\n"
     ]
    }
   ],
   "source": [
    "print(type(name))\n",
    "print(type(age))\n",
    "print(type(salary))\n",
    "print(type(add))\n",
    "print(type(alive))"
   ]
  },
  {
   "cell_type": "code",
   "execution_count": 14,
   "id": "21e37950",
   "metadata": {
    "ExecuteTime": {
     "end_time": "2021-10-26T07:24:09.510693Z",
     "start_time": "2021-10-26T07:24:09.505691Z"
    }
   },
   "outputs": [],
   "source": [
    "age = int(age)\n",
    "salary = float(salary)"
   ]
  },
  {
   "cell_type": "code",
   "execution_count": 15,
   "id": "ef41084d",
   "metadata": {
    "ExecuteTime": {
     "end_time": "2021-10-26T07:24:13.432422Z",
     "start_time": "2021-10-26T07:24:13.426424Z"
    }
   },
   "outputs": [
    {
     "name": "stdout",
     "output_type": "stream",
     "text": [
      "<class 'str'>\n",
      "<class 'int'>\n",
      "<class 'float'>\n",
      "<class 'str'>\n",
      "<class 'str'>\n"
     ]
    }
   ],
   "source": [
    "print(type(name))\n",
    "print(type(age))\n",
    "print(type(salary))\n",
    "print(type(add))\n",
    "print(type(alive))"
   ]
  }
 ],
 "metadata": {
  "kernelspec": {
   "display_name": "Python [conda env:iocl-python-training]",
   "language": "python",
   "name": "conda-env-iocl-python-training-py"
  },
  "language_info": {
   "codemirror_mode": {
    "name": "ipython",
    "version": 3
   },
   "file_extension": ".py",
   "mimetype": "text/x-python",
   "name": "python",
   "nbconvert_exporter": "python",
   "pygments_lexer": "ipython3",
   "version": "3.9.7"
  },
  "toc": {
   "base_numbering": 1,
   "nav_menu": {},
   "number_sections": true,
   "sideBar": true,
   "skip_h1_title": false,
   "title_cell": "Table of Contents",
   "title_sidebar": "Contents",
   "toc_cell": false,
   "toc_position": {},
   "toc_section_display": true,
   "toc_window_display": false
  },
  "varInspector": {
   "cols": {
    "lenName": 16,
    "lenType": 16,
    "lenVar": 40
   },
   "kernels_config": {
    "python": {
     "delete_cmd_postfix": "",
     "delete_cmd_prefix": "del ",
     "library": "var_list.py",
     "varRefreshCmd": "print(var_dic_list())"
    },
    "r": {
     "delete_cmd_postfix": ") ",
     "delete_cmd_prefix": "rm(",
     "library": "var_list.r",
     "varRefreshCmd": "cat(var_dic_list()) "
    }
   },
   "types_to_exclude": [
    "module",
    "function",
    "builtin_function_or_method",
    "instance",
    "_Feature"
   ],
   "window_display": false
  }
 },
 "nbformat": 4,
 "nbformat_minor": 5
}
