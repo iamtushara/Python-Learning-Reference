{
 "cells": [
  {
   "cell_type": "markdown",
   "id": "063f3299",
   "metadata": {},
   "source": [
    "# Typecasting\n",
    "\n",
    "modifying the data-type"
   ]
  },
  {
   "cell_type": "markdown",
   "id": "39f59671",
   "metadata": {},
   "source": [
    "- Implicit\n",
    "- Explicit"
   ]
  },
  {
   "cell_type": "markdown",
   "id": "48e13986",
   "metadata": {},
   "source": [
    "## Implicit Type Conversion"
   ]
  },
  {
   "cell_type": "code",
   "execution_count": 1,
   "id": "3f9d2144",
   "metadata": {
    "ExecuteTime": {
     "end_time": "2021-10-26T07:10:01.409509Z",
     "start_time": "2021-10-26T07:10:01.339348Z"
    }
   },
   "outputs": [
    {
     "data": {
      "text/plain": [
       "2.5"
      ]
     },
     "execution_count": 1,
     "metadata": {},
     "output_type": "execute_result"
    }
   ],
   "source": [
    "20 / 8"
   ]
  },
  {
   "cell_type": "markdown",
   "id": "edd80492",
   "metadata": {},
   "source": [
    "## Explicit Type Conversion"
   ]
  },
  {
   "cell_type": "code",
   "execution_count": 2,
   "id": "8c67e6cf",
   "metadata": {
    "ExecuteTime": {
     "end_time": "2021-10-26T07:10:01.429505Z",
     "start_time": "2021-10-26T07:10:01.415504Z"
    }
   },
   "outputs": [],
   "source": [
    "var_int = 34\n",
    "var_bool = False\n",
    "var_str = \"1000\"\n",
    "var_float = 123.345\n",
    "var_list = [1, 2, 3]\n",
    "var_tuple = (1, 2, 3)\n",
    "var_set = {1, 2, 3}\n",
    "var_dict = {'k1': 'v1', 'k2': 'v2'}"
   ]
  },
  {
   "cell_type": "markdown",
   "id": "5dd918bd",
   "metadata": {},
   "source": [
    "### integers\n",
    "\n",
    "- how to convert to integer `int()`\n",
    "- what can be converted"
   ]
  },
  {
   "cell_type": "code",
   "execution_count": 3,
   "id": "30aeec72",
   "metadata": {
    "ExecuteTime": {
     "end_time": "2021-10-26T07:10:01.457891Z",
     "start_time": "2021-10-26T07:10:01.434034Z"
    }
   },
   "outputs": [
    {
     "name": "stdout",
     "output_type": "stream",
     "text": [
      "<class 'float'>\n"
     ]
    }
   ],
   "source": [
    "var = 3.14\n",
    "print(type(var))"
   ]
  },
  {
   "cell_type": "markdown",
   "id": "8f2f86db",
   "metadata": {},
   "source": [
    "converting to integer"
   ]
  },
  {
   "cell_type": "code",
   "execution_count": 4,
   "id": "a9b1d61a",
   "metadata": {
    "ExecuteTime": {
     "end_time": "2021-10-26T07:10:01.480888Z",
     "start_time": "2021-10-26T07:10:01.469917Z"
    }
   },
   "outputs": [
    {
     "name": "stdout",
     "output_type": "stream",
     "text": [
      "3\n",
      "<class 'int'>\n"
     ]
    }
   ],
   "source": [
    "modified_var = int(var)\n",
    "print(modified_var)\n",
    "print(type(modified_var))"
   ]
  },
  {
   "cell_type": "code",
   "execution_count": 5,
   "id": "5db24d74",
   "metadata": {
    "ExecuteTime": {
     "end_time": "2021-10-26T07:10:01.501888Z",
     "start_time": "2021-10-26T07:10:01.487888Z"
    }
   },
   "outputs": [
    {
     "data": {
      "text/plain": [
       "0"
      ]
     },
     "execution_count": 5,
     "metadata": {},
     "output_type": "execute_result"
    }
   ],
   "source": [
    "int(var_bool)"
   ]
  },
  {
   "cell_type": "code",
   "execution_count": 6,
   "id": "5f9fa63b",
   "metadata": {
    "ExecuteTime": {
     "end_time": "2021-10-26T07:10:01.529893Z",
     "start_time": "2021-10-26T07:10:01.507922Z"
    }
   },
   "outputs": [
    {
     "data": {
      "text/plain": [
       "1000"
      ]
     },
     "execution_count": 6,
     "metadata": {},
     "output_type": "execute_result"
    }
   ],
   "source": [
    "int(var_str)"
   ]
  },
  {
   "cell_type": "code",
   "execution_count": 7,
   "id": "4edcab4f",
   "metadata": {
    "ExecuteTime": {
     "end_time": "2021-10-26T07:10:01.555886Z",
     "start_time": "2021-10-26T07:10:01.537888Z"
    }
   },
   "outputs": [
    {
     "data": {
      "text/plain": [
       "12334"
      ]
     },
     "execution_count": 7,
     "metadata": {},
     "output_type": "execute_result"
    }
   ],
   "source": [
    "int(\"12334\")"
   ]
  },
  {
   "cell_type": "markdown",
   "id": "c536169a",
   "metadata": {},
   "source": [
    "### bools"
   ]
  },
  {
   "cell_type": "markdown",
   "id": "3f2c2700",
   "metadata": {},
   "source": [
    "bool will only consider `0` as False; everything else is True"
   ]
  },
  {
   "cell_type": "code",
   "execution_count": 8,
   "id": "fd39e797",
   "metadata": {
    "ExecuteTime": {
     "end_time": "2021-10-26T07:10:01.582888Z",
     "start_time": "2021-10-26T07:10:01.561886Z"
    }
   },
   "outputs": [
    {
     "data": {
      "text/plain": [
       "False"
      ]
     },
     "execution_count": 8,
     "metadata": {},
     "output_type": "execute_result"
    }
   ],
   "source": [
    "bool(-0.0000000000)"
   ]
  },
  {
   "cell_type": "code",
   "execution_count": 9,
   "id": "34f72e79",
   "metadata": {
    "ExecuteTime": {
     "end_time": "2021-10-26T07:10:01.607888Z",
     "start_time": "2021-10-26T07:10:01.592888Z"
    }
   },
   "outputs": [
    {
     "data": {
      "text/plain": [
       "True"
      ]
     },
     "execution_count": 9,
     "metadata": {},
     "output_type": "execute_result"
    }
   ],
   "source": [
    "bool(\"Tushar\")"
   ]
  },
  {
   "cell_type": "code",
   "execution_count": 10,
   "id": "7067328e",
   "metadata": {
    "ExecuteTime": {
     "end_time": "2021-10-26T07:10:01.647899Z",
     "start_time": "2021-10-26T07:10:01.627915Z"
    }
   },
   "outputs": [
    {
     "data": {
      "text/plain": [
       "False"
      ]
     },
     "execution_count": 10,
     "metadata": {},
     "output_type": "execute_result"
    }
   ],
   "source": [
    "bool(\"\")"
   ]
  },
  {
   "cell_type": "code",
   "execution_count": 11,
   "id": "5ec6a716",
   "metadata": {
    "ExecuteTime": {
     "end_time": "2021-10-26T07:10:01.673888Z",
     "start_time": "2021-10-26T07:10:01.655886Z"
    }
   },
   "outputs": [
    {
     "data": {
      "text/plain": [
       "True"
      ]
     },
     "execution_count": 11,
     "metadata": {},
     "output_type": "execute_result"
    }
   ],
   "source": [
    "bool([1, 2, 3])"
   ]
  },
  {
   "cell_type": "code",
   "execution_count": 12,
   "id": "248835d6",
   "metadata": {
    "ExecuteTime": {
     "end_time": "2021-10-26T07:10:01.701887Z",
     "start_time": "2021-10-26T07:10:01.679889Z"
    }
   },
   "outputs": [
    {
     "data": {
      "text/plain": [
       "False"
      ]
     },
     "execution_count": 12,
     "metadata": {},
     "output_type": "execute_result"
    }
   ],
   "source": [
    "bool([])"
   ]
  },
  {
   "cell_type": "markdown",
   "id": "62dd7401",
   "metadata": {},
   "source": [
    "### str"
   ]
  },
  {
   "cell_type": "code",
   "execution_count": 13,
   "id": "f4285158",
   "metadata": {
    "ExecuteTime": {
     "end_time": "2021-10-26T07:10:01.723893Z",
     "start_time": "2021-10-26T07:10:01.708890Z"
    }
   },
   "outputs": [
    {
     "data": {
      "text/plain": [
       "'2345'"
      ]
     },
     "execution_count": 13,
     "metadata": {},
     "output_type": "execute_result"
    }
   ],
   "source": [
    "str(2345)"
   ]
  },
  {
   "cell_type": "code",
   "execution_count": 14,
   "id": "da469446",
   "metadata": {
    "ExecuteTime": {
     "end_time": "2021-10-26T07:10:01.760890Z",
     "start_time": "2021-10-26T07:10:01.728900Z"
    }
   },
   "outputs": [
    {
     "data": {
      "text/plain": [
       "'True'"
      ]
     },
     "execution_count": 14,
     "metadata": {},
     "output_type": "execute_result"
    }
   ],
   "source": [
    "str(True)"
   ]
  },
  {
   "cell_type": "code",
   "execution_count": 15,
   "id": "72f5b54f",
   "metadata": {
    "ExecuteTime": {
     "end_time": "2021-10-26T07:10:01.805887Z",
     "start_time": "2021-10-26T07:10:01.775891Z"
    }
   },
   "outputs": [
    {
     "data": {
      "text/plain": [
       "'[1, 2, 3]'"
      ]
     },
     "execution_count": 15,
     "metadata": {},
     "output_type": "execute_result"
    }
   ],
   "source": [
    "str([1, 2, 3])"
   ]
  },
  {
   "cell_type": "markdown",
   "id": "648ad538",
   "metadata": {},
   "source": [
    "### Lists"
   ]
  },
  {
   "cell_type": "code",
   "execution_count": 16,
   "id": "d11c2864",
   "metadata": {
    "ExecuteTime": {
     "end_time": "2021-10-26T07:10:01.830890Z",
     "start_time": "2021-10-26T07:10:01.812893Z"
    }
   },
   "outputs": [
    {
     "data": {
      "text/plain": [
       "[1, 2, 3]"
      ]
     },
     "execution_count": 16,
     "metadata": {},
     "output_type": "execute_result"
    }
   ],
   "source": [
    "list(var_tuple)"
   ]
  },
  {
   "cell_type": "code",
   "execution_count": 17,
   "id": "4c520a32",
   "metadata": {
    "ExecuteTime": {
     "end_time": "2021-10-26T07:10:01.877888Z",
     "start_time": "2021-10-26T07:10:01.864892Z"
    }
   },
   "outputs": [
    {
     "data": {
      "text/plain": [
       "[1, 2, 3]"
      ]
     },
     "execution_count": 17,
     "metadata": {},
     "output_type": "execute_result"
    }
   ],
   "source": [
    "list(var_set)"
   ]
  },
  {
   "cell_type": "code",
   "execution_count": 18,
   "id": "e842ebac",
   "metadata": {
    "ExecuteTime": {
     "end_time": "2021-10-26T07:10:01.877888Z",
     "start_time": "2021-10-26T07:10:01.864892Z"
    }
   },
   "outputs": [
    {
     "data": {
      "text/plain": [
       "['k1', 'k2']"
      ]
     },
     "execution_count": 18,
     "metadata": {},
     "output_type": "execute_result"
    }
   ],
   "source": [
    "list(var_dict)"
   ]
  },
  {
   "cell_type": "code",
   "execution_count": 19,
   "id": "e6dc494c",
   "metadata": {
    "ExecuteTime": {
     "end_time": "2021-10-26T07:10:01.899889Z",
     "start_time": "2021-10-26T07:10:01.883888Z"
    }
   },
   "outputs": [
    {
     "data": {
      "text/plain": [
       "dict_items([('k1', 'v1'), ('k2', 'v2')])"
      ]
     },
     "execution_count": 19,
     "metadata": {},
     "output_type": "execute_result"
    }
   ],
   "source": [
    "var_dict.items()"
   ]
  },
  {
   "cell_type": "code",
   "execution_count": 20,
   "id": "c83703a8",
   "metadata": {
    "ExecuteTime": {
     "end_time": "2021-10-26T07:10:01.925891Z",
     "start_time": "2021-10-26T07:10:01.906891Z"
    }
   },
   "outputs": [
    {
     "data": {
      "text/plain": [
       "'v1'"
      ]
     },
     "execution_count": 20,
     "metadata": {},
     "output_type": "execute_result"
    }
   ],
   "source": [
    "list(var_dict.items())[0][-1]"
   ]
  },
  {
   "cell_type": "markdown",
   "id": "e9a519f8",
   "metadata": {},
   "source": [
    "### Set"
   ]
  },
  {
   "cell_type": "code",
   "execution_count": 21,
   "id": "0783f6d4",
   "metadata": {
    "ExecuteTime": {
     "end_time": "2021-10-26T07:10:01.946885Z",
     "start_time": "2021-10-26T07:10:01.933888Z"
    }
   },
   "outputs": [
    {
     "data": {
      "text/plain": [
       "{1, 2, 3}"
      ]
     },
     "execution_count": 21,
     "metadata": {},
     "output_type": "execute_result"
    }
   ],
   "source": [
    "set([1, 2, 3])"
   ]
  }
 ],
 "metadata": {
  "kernelspec": {
   "display_name": "Python [conda env:iocl-python-training]",
   "language": "python",
   "name": "conda-env-iocl-python-training-py"
  },
  "language_info": {
   "codemirror_mode": {
    "name": "ipython",
    "version": 3
   },
   "file_extension": ".py",
   "mimetype": "text/x-python",
   "name": "python",
   "nbconvert_exporter": "python",
   "pygments_lexer": "ipython3",
   "version": "3.9.7"
  },
  "toc": {
   "base_numbering": 1,
   "nav_menu": {},
   "number_sections": true,
   "sideBar": true,
   "skip_h1_title": false,
   "title_cell": "Table of Contents",
   "title_sidebar": "Contents",
   "toc_cell": false,
   "toc_position": {},
   "toc_section_display": true,
   "toc_window_display": false
  },
  "varInspector": {
   "cols": {
    "lenName": 16,
    "lenType": 16,
    "lenVar": 40
   },
   "kernels_config": {
    "python": {
     "delete_cmd_postfix": "",
     "delete_cmd_prefix": "del ",
     "library": "var_list.py",
     "varRefreshCmd": "print(var_dic_list())"
    },
    "r": {
     "delete_cmd_postfix": ") ",
     "delete_cmd_prefix": "rm(",
     "library": "var_list.r",
     "varRefreshCmd": "cat(var_dic_list()) "
    }
   },
   "types_to_exclude": [
    "module",
    "function",
    "builtin_function_or_method",
    "instance",
    "_Feature"
   ],
   "window_display": false
  }
 },
 "nbformat": 4,
 "nbformat_minor": 5
}
