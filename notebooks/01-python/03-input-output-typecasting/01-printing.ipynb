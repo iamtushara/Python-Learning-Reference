{
 "cells": [
  {
   "cell_type": "markdown",
   "id": "ce3f2308",
   "metadata": {},
   "source": [
    "# printing to the console"
   ]
  },
  {
   "cell_type": "code",
   "execution_count": 42,
   "id": "11d5227b",
   "metadata": {
    "ExecuteTime": {
     "end_time": "2021-10-26T06:28:42.263081Z",
     "start_time": "2021-10-26T06:28:42.258637Z"
    }
   },
   "outputs": [],
   "source": [
    "name = \"Tushar Anand\"\n",
    "age = 78\n",
    "salary = 100\n",
    "add = 'Mumbai'\n",
    "alive=True"
   ]
  },
  {
   "cell_type": "code",
   "execution_count": 13,
   "id": "c94d2582",
   "metadata": {
    "ExecuteTime": {
     "end_time": "2021-10-26T05:59:25.420736Z",
     "start_time": "2021-10-26T05:59:25.414736Z"
    }
   },
   "outputs": [
    {
     "name": "stdout",
     "output_type": "stream",
     "text": [
      "Tushar Anand 78 100 mumbai True\n"
     ]
    }
   ],
   "source": [
    " print(name, age, salary, add, alive)"
   ]
  },
  {
   "cell_type": "code",
   "execution_count": 18,
   "id": "a7e38391",
   "metadata": {
    "ExecuteTime": {
     "end_time": "2021-10-26T06:02:49.809894Z",
     "start_time": "2021-10-26T06:02:49.804894Z"
    }
   },
   "outputs": [
    {
     "name": "stdout",
     "output_type": "stream",
     "text": [
      "My name is Tushar Anand . My age is 78 . I live in mumbai .\n"
     ]
    }
   ],
   "source": [
    "print(\"My name is\", name, \". My age is\", age, \". I live in\", add, \".\")"
   ]
  },
  {
   "cell_type": "code",
   "execution_count": 26,
   "id": "92bdf86a",
   "metadata": {
    "ExecuteTime": {
     "end_time": "2021-10-26T06:05:26.383704Z",
     "start_time": "2021-10-26T06:05:26.373704Z"
    }
   },
   "outputs": [
    {
     "ename": "TypeError",
     "evalue": "can only concatenate str (not \"int\") to str",
     "output_type": "error",
     "traceback": [
      "\u001b[1;31m---------------------------------------------------------------------------\u001b[0m",
      "\u001b[1;31mTypeError\u001b[0m                                 Traceback (most recent call last)",
      "\u001b[1;32m<ipython-input-26-0babf2756f6d>\u001b[0m in \u001b[0;36m<module>\u001b[1;34m\u001b[0m\n\u001b[1;32m----> 1\u001b[1;33m \u001b[0mprint\u001b[0m\u001b[1;33m(\u001b[0m\u001b[1;34m\"My age is \"\u001b[0m \u001b[1;33m+\u001b[0m \u001b[0mage\u001b[0m\u001b[1;33m)\u001b[0m\u001b[1;33m\u001b[0m\u001b[1;33m\u001b[0m\u001b[0m\n\u001b[0m",
      "\u001b[1;31mTypeError\u001b[0m: can only concatenate str (not \"int\") to str"
     ]
    }
   ],
   "source": [
    "print(\"My age is \" + age)"
   ]
  },
  {
   "cell_type": "markdown",
   "id": "6192de85",
   "metadata": {},
   "source": [
    "## f-strings"
   ]
  },
  {
   "cell_type": "code",
   "execution_count": 42,
   "id": "9027fc32",
   "metadata": {
    "ExecuteTime": {
     "end_time": "2021-10-26T06:28:42.263081Z",
     "start_time": "2021-10-26T06:28:42.258637Z"
    }
   },
   "outputs": [],
   "source": [
    "name = \"Tushar Anand\"\n",
    "age = 78\n",
    "salary = 100\n",
    "add = 'Mumbai'\n",
    "alive=True"
   ]
  },
  {
   "cell_type": "code",
   "execution_count": 45,
   "id": "869886e3",
   "metadata": {
    "ExecuteTime": {
     "end_time": "2021-10-26T06:30:37.955215Z",
     "start_time": "2021-10-26T06:30:37.943738Z"
    }
   },
   "outputs": [
    {
     "ename": "NameError",
     "evalue": "name 'full_name' is not defined",
     "output_type": "error",
     "traceback": [
      "\u001b[1;31m---------------------------------------------------------------------------\u001b[0m",
      "\u001b[1;31mNameError\u001b[0m                                 Traceback (most recent call last)",
      "\u001b[1;32m<ipython-input-45-131a2f185273>\u001b[0m in \u001b[0;36m<module>\u001b[1;34m\u001b[0m\n\u001b[1;32m----> 1\u001b[1;33m \u001b[0mprint\u001b[0m\u001b[1;33m(\u001b[0m\u001b[1;34mf'{full_name} is lives in {add}. His age is {age}. He earns {salary}.'\u001b[0m\u001b[1;33m)\u001b[0m\u001b[1;33m\u001b[0m\u001b[1;33m\u001b[0m\u001b[0m\n\u001b[0m",
      "\u001b[1;31mNameError\u001b[0m: name 'full_name' is not defined"
     ]
    }
   ],
   "source": [
    "print(f'{full_name} is lives in {add}. His age is {age}. He earns {salary}.')"
   ]
  },
  {
   "cell_type": "markdown",
   "id": "5a2758fd",
   "metadata": {},
   "source": [
    "---"
   ]
  },
  {
   "cell_type": "code",
   "execution_count": 47,
   "id": "c8520d8e",
   "metadata": {
    "ExecuteTime": {
     "end_time": "2021-10-26T06:31:51.309341Z",
     "start_time": "2021-10-26T06:31:51.306342Z"
    }
   },
   "outputs": [],
   "source": [
    "email_message = f\"\"\"\n",
    "Hello {name},\n",
    "\n",
    "Happy Diwali.\n",
    "\n",
    "Regards.\n",
    "\"\"\""
   ]
  },
  {
   "cell_type": "code",
   "execution_count": 48,
   "id": "675c9b5c",
   "metadata": {
    "ExecuteTime": {
     "end_time": "2021-10-26T06:31:53.662497Z",
     "start_time": "2021-10-26T06:31:53.656497Z"
    }
   },
   "outputs": [
    {
     "name": "stdout",
     "output_type": "stream",
     "text": [
      "\n",
      "Hello Tushar Anand,\n",
      "\n",
      "Happy Diwali.\n",
      "\n",
      "Regards.\n",
      "\n"
     ]
    }
   ],
   "source": [
    "print(email_message)"
   ]
  },
  {
   "cell_type": "markdown",
   "id": "91103d94",
   "metadata": {},
   "source": [
    "---"
   ]
  },
  {
   "cell_type": "code",
   "execution_count": 50,
   "id": "7ed8febe",
   "metadata": {
    "ExecuteTime": {
     "end_time": "2021-10-26T06:34:27.716276Z",
     "start_time": "2021-10-26T06:34:27.710274Z"
    }
   },
   "outputs": [
    {
     "name": "stdout",
     "output_type": "stream",
     "text": [
      "Tushar\n",
      "Anand\n",
      "Hello World\n",
      "Hello IOCL\n"
     ]
    }
   ],
   "source": [
    "print('Tushar')\n",
    "print('Anand')\n",
    "print('Hello World')\n",
    "print(\"Hello IOCL\")"
   ]
  },
  {
   "cell_type": "code",
   "execution_count": 56,
   "id": "790e40e8",
   "metadata": {
    "ExecuteTime": {
     "end_time": "2021-10-26T06:38:21.902228Z",
     "start_time": "2021-10-26T06:38:21.897248Z"
    }
   },
   "outputs": [
    {
     "name": "stdout",
     "output_type": "stream",
     "text": [
      "My name is Milton Bain.\n",
      "I work at IOCL.\n",
      "IOCL is a good firm! I have three siblings:\n",
      "\tTushar\n",
      "\tPriyam\n"
     ]
    }
   ],
   "source": [
    "print(\"My name is Milton Bain.\\nI work at IOCL.\\nIOCL is a good firm! I have three siblings:\\n\\tTushar\\n\\tPriyam\")"
   ]
  },
  {
   "cell_type": "markdown",
   "id": "ac77e8a0",
   "metadata": {},
   "source": [
    "`\\n`\n",
    "new line + carriage return\n",
    "\n",
    "`\\r`\n",
    "carriage return"
   ]
  },
  {
   "cell_type": "code",
   "execution_count": 57,
   "id": "0fe9c989",
   "metadata": {
    "ExecuteTime": {
     "end_time": "2021-10-26T06:41:44.137744Z",
     "start_time": "2021-10-26T06:41:44.131744Z"
    }
   },
   "outputs": [
    {
     "name": "stdout",
     "output_type": "stream",
     "text": [
      "Priyanka\r",
      "IOCL\n"
     ]
    }
   ],
   "source": [
    "print(\"Priyanka\\rIOCL\")"
   ]
  },
  {
   "cell_type": "code",
   "execution_count": null,
   "id": "0a347c81",
   "metadata": {},
   "outputs": [],
   "source": [
    "jkasehfjkrzeshdbjkxfnklklcgml;l;fmvklAjfviodzjnbomfl;n,m;'tg,m;', yh\n",
    "                                                                     "
   ]
  }
 ],
 "metadata": {
  "kernelspec": {
   "display_name": "Python 3",
   "language": "python",
   "name": "python3"
  },
  "language_info": {
   "codemirror_mode": {
    "name": "ipython",
    "version": 3
   },
   "file_extension": ".py",
   "mimetype": "text/x-python",
   "name": "python",
   "nbconvert_exporter": "python",
   "pygments_lexer": "ipython3",
   "version": "3.8.10"
  },
  "toc": {
   "base_numbering": 1,
   "nav_menu": {},
   "number_sections": true,
   "sideBar": true,
   "skip_h1_title": false,
   "title_cell": "Table of Contents",
   "title_sidebar": "Contents",
   "toc_cell": false,
   "toc_position": {},
   "toc_section_display": true,
   "toc_window_display": false
  },
  "varInspector": {
   "cols": {
    "lenName": 16,
    "lenType": 16,
    "lenVar": 40
   },
   "kernels_config": {
    "python": {
     "delete_cmd_postfix": "",
     "delete_cmd_prefix": "del ",
     "library": "var_list.py",
     "varRefreshCmd": "print(var_dic_list())"
    },
    "r": {
     "delete_cmd_postfix": ") ",
     "delete_cmd_prefix": "rm(",
     "library": "var_list.r",
     "varRefreshCmd": "cat(var_dic_list()) "
    }
   },
   "types_to_exclude": [
    "module",
    "function",
    "builtin_function_or_method",
    "instance",
    "_Feature"
   ],
   "window_display": false
  }
 },
 "nbformat": 4,
 "nbformat_minor": 5
}
