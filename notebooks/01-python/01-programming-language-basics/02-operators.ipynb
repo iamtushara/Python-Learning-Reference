{
 "cells": [
  {
   "cell_type": "markdown",
   "id": "c93fa64a",
   "metadata": {},
   "source": [
    "# Operators in Python"
   ]
  },
  {
   "cell_type": "markdown",
   "id": "993e9ccc",
   "metadata": {},
   "source": [
    "Python language supports the following types of operators.\n",
    "\n",
    "- Arithmetic Operators\n",
    "- Comparison (Relational) Operators\n",
    "- Assignment Operators\n",
    "- Logical Operators\n",
    "- Bitwise Operators\n",
    "- Membership Operators\n",
    "- Identity Operators"
   ]
  },
  {
   "cell_type": "markdown",
   "id": "d3cd0874",
   "metadata": {},
   "source": [
    "## Arithmetic Operators"
   ]
  },
  {
   "cell_type": "markdown",
   "id": "628bfc0e",
   "metadata": {},
   "source": [
    "<table class=\"table table-bordered\">\n",
    "<tbody><tr>\n",
    "<th style=\"text-align:left;width:10%\">Operator</th>\n",
    "<th style=\"text-align:left;width:45%\">Description</th>\n",
    "<th style=\"text-align:center;\">Example</th>\n",
    "</tr>\n",
    "<tr>\n",
    "<td class=\"ts\">+ (Addition)</td>\n",
    "<td>Adds values on either side of the operator.</td>\n",
    "<td class=\"ts\">a + b = 30</td>\n",
    "</tr>\n",
    "<tr>\n",
    "<td class=\"ts\">- Subtraction</td>\n",
    "<td>Subtracts right hand operand from left hand operand.</td>\n",
    "<td class=\"ts\">a – b = -10</td>\n",
    "</tr>\n",
    "<tr>\n",
    "<td class=\"ts\">* Multiplication</td>\n",
    "<td>Multiplies values on either side of the operator</td>\n",
    "<td class=\"ts\">a * b = 200</td>\n",
    "</tr>\n",
    "<tr>\n",
    "<td class=\"ts\">/ Division</td>\n",
    "<td>Divides left hand operand by right hand operand</td>\n",
    "<td class=\"ts\">b / a = 2</td>\n",
    "</tr>\n",
    "<tr>\n",
    "<td class=\"ts\">% Modulus</td>\n",
    "<td>Divides left hand operand by right hand operand and returns remainder</td>\n",
    "<td class=\"ts\">b % a = 0</td>\n",
    "</tr>\n",
    "<tr>\n",
    "<td class=\"ts\">** Exponent</td>\n",
    "<td>Performs exponential (power) calculation on operators</td>\n",
    "<td class=\"ts\">a**b =10 to the power 20</td>\n",
    "</tr>\n",
    "<tr>\n",
    "<td class=\"ts\">//</td>\n",
    "<td>Floor Division - The division of operands where the result is the quotient in which the digits after the decimal point are removed. But if one of the operands is negative, the result is floored, i.e., rounded away from zero (towards negative infinity) −</td>\n",
    "<td class=\"ts\">9//2 = 4 and 9.0//2.0 = 4.0, -11//3 = -4, -11.0//3 = -4.0</td>\n",
    "</tr>\n",
    "</tbody></table>"
   ]
  },
  {
   "cell_type": "code",
   "execution_count": null,
   "id": "7e4e4c46",
   "metadata": {},
   "outputs": [],
   "source": []
  },
  {
   "cell_type": "markdown",
   "id": "dcf4e568",
   "metadata": {},
   "source": [
    "## Comparison (Relational) Operators"
   ]
  },
  {
   "cell_type": "markdown",
   "id": "a300812f",
   "metadata": {},
   "source": [
    "<table class=\"table table-bordered\">\n",
    "<tbody><tr>\n",
    "<th style=\"text-align:center;width:1%\">Operator</th>\n",
    "<th style=\"text-align:center;width:10%\">Description</th>\n",
    "<th style=\"text-align:center;\">Example</th>\n",
    "</tr>\n",
    "<tr>\n",
    "<td class=\"ts\">==</td>\n",
    "<td>If the values of two operands are equal, then the condition becomes true.</td>\n",
    "<td class=\"ts\">(a == b) is not true.</td>\n",
    "</tr>\n",
    "<tr>\n",
    "<td class=\"ts\">!=</td>\n",
    "<td>If values of two operands are not equal, then condition becomes true.</td>\n",
    "<td class=\"ts\">(a != b) is true.</td>\n",
    "</tr>\n",
    "<tr>\n",
    "<td class=\"ts\">&lt;&gt;</td>\n",
    "<td>If values of two operands are not equal, then condition becomes true.</td>\n",
    "<td class=\"ts\">(a &lt;&gt; b) is true. This is similar to != operator.</td>\n",
    "</tr>\n",
    "<tr>\n",
    "<td class=\"ts\">&gt;</td>\n",
    "<td>If the value of left operand is greater than the value of right operand, then condition becomes true.</td>\n",
    "<td class=\"ts\">(a &gt; b) is not true.</td>\n",
    "</tr>\n",
    "<tr>\n",
    "<td class=\"ts\">&lt;</td>\n",
    "<td>If the value of left operand is less than the value of right operand, then condition becomes true.</td>\n",
    "<td class=\"ts\">(a &lt; b) is true.</td>\n",
    "</tr>\n",
    "<tr>\n",
    "<td class=\"ts\">&gt;=</td>\n",
    "<td>If the value of left operand is greater than or equal to the value of right operand, then condition becomes true.</td>\n",
    "<td class=\"ts\">(a &gt;= b) is not true.</td>\n",
    "</tr>\n",
    "<tr>\n",
    "<td class=\"ts\">&lt;=</td>\n",
    "<td>If the value of left operand is less than or equal to the value of right operand, then condition becomes true.</td>\n",
    "<td class=\"ts\">(a &lt;= b) is true.</td>\n",
    "</tr>\n",
    "</tbody></table>"
   ]
  },
  {
   "cell_type": "code",
   "execution_count": 1,
   "id": "50e884a7",
   "metadata": {
    "ExecuteTime": {
     "end_time": "2021-10-25T08:59:09.406004Z",
     "start_time": "2021-10-25T08:59:09.394008Z"
    }
   },
   "outputs": [
    {
     "ename": "SyntaxError",
     "evalue": "cannot assign to literal (Temp/ipykernel_14216/814398681.py, line 1)",
     "output_type": "error",
     "traceback": [
      "\u001b[1;36m  File \u001b[1;32m\"C:\\Users\\TUSHAR~1\\AppData\\Local\\Temp/ipykernel_14216/814398681.py\"\u001b[1;36m, line \u001b[1;32m1\u001b[0m\n\u001b[1;33m    1 = 1\u001b[0m\n\u001b[1;37m    ^\u001b[0m\n\u001b[1;31mSyntaxError\u001b[0m\u001b[1;31m:\u001b[0m cannot assign to literal\n"
     ]
    }
   ],
   "source": [
    "1 = 1"
   ]
  },
  {
   "cell_type": "code",
   "execution_count": 3,
   "id": "aab82b91",
   "metadata": {
    "ExecuteTime": {
     "end_time": "2021-10-25T09:00:09.624949Z",
     "start_time": "2021-10-25T09:00:09.615948Z"
    }
   },
   "outputs": [
    {
     "data": {
      "text/plain": [
       "True"
      ]
     },
     "execution_count": 3,
     "metadata": {},
     "output_type": "execute_result"
    }
   ],
   "source": [
    "1+10 == 1+20-10"
   ]
  },
  {
   "cell_type": "code",
   "execution_count": 8,
   "id": "e4f44ae6",
   "metadata": {
    "ExecuteTime": {
     "end_time": "2021-10-25T09:01:28.699833Z",
     "start_time": "2021-10-25T09:01:28.688841Z"
    }
   },
   "outputs": [
    {
     "data": {
      "text/plain": [
       "False"
      ]
     },
     "execution_count": 8,
     "metadata": {},
     "output_type": "execute_result"
    }
   ],
   "source": [
    "23 != 23"
   ]
  },
  {
   "cell_type": "code",
   "execution_count": 9,
   "id": "c9f96e3e",
   "metadata": {
    "ExecuteTime": {
     "end_time": "2021-10-25T09:01:35.366877Z",
     "start_time": "2021-10-25T09:01:35.355875Z"
    }
   },
   "outputs": [
    {
     "data": {
      "text/plain": [
       "False"
      ]
     },
     "execution_count": 9,
     "metadata": {},
     "output_type": "execute_result"
    }
   ],
   "source": [
    "23 > 34"
   ]
  },
  {
   "cell_type": "code",
   "execution_count": null,
   "id": "87487040",
   "metadata": {},
   "outputs": [],
   "source": []
  },
  {
   "cell_type": "markdown",
   "id": "14c43484",
   "metadata": {},
   "source": [
    "## Assignment Operators"
   ]
  },
  {
   "cell_type": "markdown",
   "id": "33bfa99b",
   "metadata": {},
   "source": [
    "<table class=\"table table-bordered\">\n",
    "<tbody><tr>\n",
    "<th style=\"text-align:center;width:10%\">Operator</th>\n",
    "<th style=\"text-align:center;width:45%\">Description</th>\n",
    "<th style=\"text-align:center;\">Example</th>\n",
    "</tr>\n",
    "<tr>\n",
    "<td class=\"ts\">=</td>\n",
    "<td>Assigns values from right side operands to left side operand</td>\n",
    "<td style=\"vertical-align:middle;\">c = a + b assigns value of a + b into c</td>\n",
    "</tr>\n",
    "<tr>\n",
    "<td class=\"ts\">+= Add AND</td>\n",
    "<td>It adds right operand to the left operand and assign the result to left operand</td>\n",
    "<td style=\"vertical-align:middle;\">c += a is equivalent to c = c + a</td>\n",
    "</tr>\n",
    "<tr>\n",
    "<td class=\"ts\">-= Subtract AND</td>\n",
    "<td>It subtracts right operand from the left operand and assign the result to left operand</td>\n",
    "<td style=\"vertical-align:middle;\">c -= a is equivalent to c = c - a</td>\n",
    "</tr>\n",
    "<tr>\n",
    "<td class=\"ts\">*= Multiply AND</td>\n",
    "<td>It multiplies right operand with the left operand and assign the result to left operand</td>\n",
    "<td style=\"vertical-align:middle;\">c *= a is equivalent to c = c * a</td>\n",
    "</tr>\n",
    "<tr>\n",
    "<td class=\"ts\">/= Divide AND</td>\n",
    "<td>It divides left operand with the right operand and assign the result to left operand</td>\n",
    "<td style=\"vertical-align:middle;\">c /= a is equivalent to c = c / a\n",
    "</td>\n",
    "</tr>\n",
    "<tr>\n",
    "<td class=\"ts\">%= Modulus AND</td>\n",
    "<td>It takes modulus using two operands and assign the result to left operand</td>\n",
    "<td style=\"vertical-align:middle;\">c %= a is equivalent to c = c % a</td>\n",
    "</tr>\n",
    "<tr>\n",
    "<td class=\"ts\">**= Exponent AND</td>\n",
    "<td>Performs exponential (power) calculation on operators and assign value to the left operand</td>\n",
    "<td style=\"vertical-align:middle;\">c **= a is equivalent to c = c ** a</td>\n",
    "</tr>\n",
    "<tr>\n",
    "<td class=\"ts\">//= Floor Division</td>\n",
    "<td>It performs floor division on operators and assign value to the left operand</td>\n",
    "<td style=\"vertical-align:middle;\">c //= a is equivalent to c = c // a</td>\n",
    "</tr>\n",
    "</tbody></table>"
   ]
  },
  {
   "cell_type": "code",
   "execution_count": 10,
   "id": "ed62dc32",
   "metadata": {
    "ExecuteTime": {
     "end_time": "2021-10-25T09:02:49.009399Z",
     "start_time": "2021-10-25T09:02:49.001401Z"
    }
   },
   "outputs": [],
   "source": [
    "a = 9"
   ]
  },
  {
   "cell_type": "code",
   "execution_count": 13,
   "id": "e12a45c0",
   "metadata": {
    "ExecuteTime": {
     "end_time": "2021-10-25T09:05:13.107292Z",
     "start_time": "2021-10-25T09:05:13.103288Z"
    }
   },
   "outputs": [],
   "source": [
    "# updating the same variable\n",
    "a = a + 1"
   ]
  },
  {
   "cell_type": "code",
   "execution_count": 12,
   "id": "504275af",
   "metadata": {
    "ExecuteTime": {
     "end_time": "2021-10-25T09:04:46.385114Z",
     "start_time": "2021-10-25T09:04:46.378104Z"
    }
   },
   "outputs": [
    {
     "name": "stdout",
     "output_type": "stream",
     "text": [
      "10\n"
     ]
    }
   ],
   "source": [
    "print(a)"
   ]
  },
  {
   "cell_type": "code",
   "execution_count": 14,
   "id": "21ab0b61",
   "metadata": {
    "ExecuteTime": {
     "end_time": "2021-10-25T09:05:58.228104Z",
     "start_time": "2021-10-25T09:05:58.221102Z"
    }
   },
   "outputs": [
    {
     "name": "stdout",
     "output_type": "stream",
     "text": [
      "8\n"
     ]
    }
   ],
   "source": [
    "b = 5\n",
    "b += 3  # b = b + 3\n",
    "print(b)"
   ]
  },
  {
   "cell_type": "code",
   "execution_count": 15,
   "id": "6d065325",
   "metadata": {
    "ExecuteTime": {
     "end_time": "2021-10-25T09:07:24.448190Z",
     "start_time": "2021-10-25T09:07:24.442555Z"
    }
   },
   "outputs": [
    {
     "name": "stdout",
     "output_type": "stream",
     "text": [
      "5\n"
     ]
    }
   ],
   "source": [
    "c = 3\n",
    "c += 2   # c = c + 2\n",
    "c -= 4   # c = c - 4\n",
    "c *= 5   # c = c * 5\n",
    "print(c)"
   ]
  },
  {
   "cell_type": "code",
   "execution_count": 18,
   "id": "73fa98e5",
   "metadata": {
    "ExecuteTime": {
     "end_time": "2021-10-25T09:12:26.775525Z",
     "start_time": "2021-10-25T09:12:26.767523Z"
    }
   },
   "outputs": [
    {
     "name": "stdout",
     "output_type": "stream",
     "text": [
      "hello\n",
      "world\n",
      "36\n",
      "bye\n"
     ]
    }
   ],
   "source": [
    "# this prints hello\n",
    "print('hello')\n",
    "\n",
    "print('world')\n",
    "# this prints world\n",
    "\n",
    "a = 6 ** 2\n",
    "print(a)  # print('HIDDEN')\n",
    "\n",
    "print('bye') # this prints bye and exit"
   ]
  },
  {
   "cell_type": "markdown",
   "id": "e9f43f13",
   "metadata": {},
   "source": [
    "## Logical Operators"
   ]
  },
  {
   "cell_type": "markdown",
   "id": "6f0bbb3b",
   "metadata": {},
   "source": [
    "<table class=\"table table-bordered\">\n",
    "<tbody><tr>\n",
    "<th style=\"text-align:center;width:10%\">Operator</th>\n",
    "<th style=\"text-align:center;width:45%\">Description</th>\n",
    "<th style=\"text-align:center;\">Example</th>\n",
    "</tr>\n",
    "<tr>\n",
    "<td>and (Logical AND)</td>\n",
    "<td class=\"ts\">If both the operands are true then condition becomes true.</td>\n",
    "<td class=\"ts\">(a and b) is true.</td>\n",
    "</tr>\n",
    "<tr>\n",
    "<td>or (Logical OR)</td>\n",
    "<td class=\"ts\">If any of the two operands are non-zero then condition becomes true.</td>\n",
    "<td class=\"ts\">(a or b) is true.</td>\n",
    "</tr>\n",
    "<tr>\n",
    "<td>not Logical NOT</td>\n",
    "<td class=\"ts\">Used to reverse the logical state of its operand.</td>\n",
    "<td class=\"ts\">Not(a and b) is false.</td>\n",
    "</tr>\n",
    "</tbody></table>"
   ]
  },
  {
   "cell_type": "code",
   "execution_count": 19,
   "id": "0cb0d4ba",
   "metadata": {
    "ExecuteTime": {
     "end_time": "2021-10-25T09:30:39.268488Z",
     "start_time": "2021-10-25T09:30:39.259490Z"
    }
   },
   "outputs": [
    {
     "data": {
      "text/plain": [
       "False"
      ]
     },
     "execution_count": 19,
     "metadata": {},
     "output_type": "execute_result"
    }
   ],
   "source": [
    "2==2 and 3==4"
   ]
  },
  {
   "cell_type": "code",
   "execution_count": 20,
   "id": "b7188a65",
   "metadata": {
    "ExecuteTime": {
     "end_time": "2021-10-25T09:32:30.824923Z",
     "start_time": "2021-10-25T09:32:30.808928Z"
    }
   },
   "outputs": [
    {
     "data": {
      "text/plain": [
       "False"
      ]
     },
     "execution_count": 20,
     "metadata": {},
     "output_type": "execute_result"
    }
   ],
   "source": [
    "2==4 and 3==4"
   ]
  },
  {
   "cell_type": "code",
   "execution_count": 25,
   "id": "e01125bd",
   "metadata": {
    "ExecuteTime": {
     "end_time": "2021-10-25T09:32:30.824923Z",
     "start_time": "2021-10-25T09:32:30.808928Z"
    }
   },
   "outputs": [
    {
     "data": {
      "text/plain": [
       "True"
      ]
     },
     "execution_count": 25,
     "metadata": {},
     "output_type": "execute_result"
    }
   ],
   "source": [
    "2==2 and 3==3 and 4==5-1 and 5==25/5"
   ]
  },
  {
   "cell_type": "code",
   "execution_count": 22,
   "id": "4ea98600",
   "metadata": {
    "ExecuteTime": {
     "end_time": "2021-10-25T09:31:31.126955Z",
     "start_time": "2021-10-25T09:31:31.118941Z"
    }
   },
   "outputs": [
    {
     "data": {
      "text/plain": [
       "False"
      ]
     },
     "execution_count": 22,
     "metadata": {},
     "output_type": "execute_result"
    }
   ],
   "source": [
    "2==4 or 3==5"
   ]
  },
  {
   "cell_type": "code",
   "execution_count": 23,
   "id": "6a080eef",
   "metadata": {
    "ExecuteTime": {
     "end_time": "2021-10-25T09:31:31.126955Z",
     "start_time": "2021-10-25T09:31:31.118941Z"
    }
   },
   "outputs": [
    {
     "data": {
      "text/plain": [
       "True"
      ]
     },
     "execution_count": 23,
     "metadata": {},
     "output_type": "execute_result"
    }
   ],
   "source": [
    "2==2 or 3==13"
   ]
  },
  {
   "cell_type": "code",
   "execution_count": 29,
   "id": "f2fc5cdc",
   "metadata": {
    "ExecuteTime": {
     "end_time": "2021-10-25T09:35:23.455864Z",
     "start_time": "2021-10-25T09:35:23.444322Z"
    }
   },
   "outputs": [
    {
     "data": {
      "text/plain": [
       "False"
      ]
     },
     "execution_count": 29,
     "metadata": {},
     "output_type": "execute_result"
    }
   ],
   "source": [
    "not 2!=3"
   ]
  },
  {
   "cell_type": "code",
   "execution_count": 30,
   "id": "c61cc751",
   "metadata": {
    "ExecuteTime": {
     "end_time": "2021-10-25T09:35:26.271569Z",
     "start_time": "2021-10-25T09:35:26.262575Z"
    }
   },
   "outputs": [
    {
     "data": {
      "text/plain": [
       "True"
      ]
     },
     "execution_count": 30,
     "metadata": {},
     "output_type": "execute_result"
    }
   ],
   "source": [
    "not False"
   ]
  },
  {
   "cell_type": "code",
   "execution_count": null,
   "id": "f7ec5ac7",
   "metadata": {},
   "outputs": [],
   "source": []
  },
  {
   "cell_type": "markdown",
   "id": "26bd08a2",
   "metadata": {},
   "source": [
    "## Bitwise Operators"
   ]
  },
  {
   "cell_type": "markdown",
   "id": "cab9b76e",
   "metadata": {},
   "source": [
    "<table class=\"table table-bordered\">\n",
    "<tbody><tr>\n",
    "<th style=\"text-align:center;width:10%\">Operator</th>\n",
    "<th style=\"text-align:center;width:45%\">Description</th>\n",
    "<th style=\"text-align:center;\">Example</th>\n",
    "</tr>\n",
    "<tr>\n",
    "<td class=\"ts\">&amp; Binary AND</td>\n",
    "<td>Operator copies a bit to the result if it exists in both operands</td>\n",
    "<td style=\"vertical-align:middle;\">(a &amp; b) (means 0000 1100)</td>\n",
    "</tr>\n",
    "<tr>\n",
    "<td class=\"ts\">| Binary OR</td>\n",
    "<td>It copies a bit if it exists in either operand.</td>\n",
    "<td style=\"vertical-align:middle;\">(a | b) = 61 (means 0011 1101)</td>\n",
    "</tr>\n",
    "<tr>\n",
    "<td class=\"ts\">^ Binary XOR</td>\n",
    "<td>It copies the bit if it is set in one operand but not both.</td>\n",
    "<td style=\"vertical-align:middle;\">(a ^ b) = 49 (means 0011 0001)</td>\n",
    "</tr>\n",
    "<tr>\n",
    "<td class=\"ts\">~ Binary Ones Complement</td>\n",
    "<td style=\"vertical-align:middle;\">It is unary and has the effect of 'flipping' bits.</td>\n",
    "<td style=\"vertical-align:middle;\">(~a ) = -61 (means 1100 0011 in 2's complement form due to a signed binary number.</td>\n",
    "</tr>\n",
    "<tr>\n",
    "<td class=\"ts\">&lt;&lt; Binary Left Shift</td>\n",
    "<td>The left operands value is moved left by the number of bits specified by the right operand.</td>\n",
    "<td style=\"vertical-align:middle;\">a &lt;&lt; 2 = 240 (means 1111 0000)</td>\n",
    "</tr>\n",
    "<tr>\n",
    "<td class=\"ts\">&gt;&gt; Binary Right Shift</td>\n",
    "<td>The left operands value is moved right by the number of bits specified by the right operand.</td>\n",
    "<td style=\"vertical-align:middle;\">a &gt;&gt; 2 = 15 (means 0000 1111)</td>\n",
    "</tr>\n",
    "</tbody></table>"
   ]
  },
  {
   "cell_type": "code",
   "execution_count": 31,
   "id": "18ed5cef",
   "metadata": {
    "ExecuteTime": {
     "end_time": "2021-10-25T09:39:06.624954Z",
     "start_time": "2021-10-25T09:39:06.614953Z"
    }
   },
   "outputs": [
    {
     "data": {
      "text/plain": [
       "2"
      ]
     },
     "execution_count": 31,
     "metadata": {},
     "output_type": "execute_result"
    }
   ],
   "source": [
    "2 & 3"
   ]
  },
  {
   "cell_type": "code",
   "execution_count": 32,
   "id": "ad1dda55",
   "metadata": {
    "ExecuteTime": {
     "end_time": "2021-10-25T09:39:57.228644Z",
     "start_time": "2021-10-25T09:39:57.220636Z"
    }
   },
   "outputs": [
    {
     "data": {
      "text/plain": [
       "3"
      ]
     },
     "execution_count": 32,
     "metadata": {},
     "output_type": "execute_result"
    }
   ],
   "source": [
    "2 | 3"
   ]
  },
  {
   "cell_type": "code",
   "execution_count": 33,
   "id": "33b4179d",
   "metadata": {
    "ExecuteTime": {
     "end_time": "2021-10-25T09:40:57.370374Z",
     "start_time": "2021-10-25T09:40:57.359373Z"
    }
   },
   "outputs": [
    {
     "data": {
      "text/plain": [
       "9"
      ]
     },
     "execution_count": 33,
     "metadata": {},
     "output_type": "execute_result"
    }
   ],
   "source": [
    "9 & 11"
   ]
  },
  {
   "cell_type": "code",
   "execution_count": 34,
   "id": "b804320f",
   "metadata": {
    "ExecuteTime": {
     "end_time": "2021-10-25T09:41:05.808407Z",
     "start_time": "2021-10-25T09:41:05.800406Z"
    }
   },
   "outputs": [
    {
     "data": {
      "text/plain": [
       "11"
      ]
     },
     "execution_count": 34,
     "metadata": {},
     "output_type": "execute_result"
    }
   ],
   "source": [
    "9 | 11"
   ]
  },
  {
   "cell_type": "markdown",
   "id": "e2f012d3",
   "metadata": {},
   "source": [
    "## Membership Operators"
   ]
  },
  {
   "cell_type": "markdown",
   "id": "c6197883",
   "metadata": {},
   "source": [
    "<table class=\"table table-bordered\">\n",
    "<tbody><tr>\n",
    "<th style=\"text-align:center;width:10%\">Operator</th>\n",
    "<th style=\"text-align:center;width:45%\">Description</th>\n",
    "<th style=\"text-align:center;\">Example</th>\n",
    "</tr>\n",
    "<tr>\n",
    "<td class=\"ts\">in</td>\n",
    "<td>Evaluates to true if it finds a variable in the specified sequence and false otherwise.</td>\n",
    "<td style=\"vertical-align:middle;\">x in y, here in results in a 1 if x is a member of sequence y.</td>\n",
    "</tr>\n",
    "<tr>\n",
    "<td class=\"ts\">not in</td>\n",
    "<td>Evaluates to true if it does not finds a variable in the specified sequence and false otherwise.</td>\n",
    "<td>x not in y, here not in results in a 1 if x is not a member of sequence y.</td>\n",
    "</tr>\n",
    "<tr>\n",
    "<td class=\"ts\">.</td>\n",
    "<td>Membership operator, access all members</td>\n",
    "<td style=\"vertical-align:middle;\">Example pd.DataFrame()</td>\n",
    "</tr>\n",
    "</tbody></table>"
   ]
  },
  {
   "cell_type": "code",
   "execution_count": 35,
   "id": "e5f04bb9",
   "metadata": {
    "ExecuteTime": {
     "end_time": "2021-10-25T09:45:26.824322Z",
     "start_time": "2021-10-25T09:45:26.812321Z"
    }
   },
   "outputs": [
    {
     "data": {
      "text/plain": [
       "True"
      ]
     },
     "execution_count": 35,
     "metadata": {},
     "output_type": "execute_result"
    }
   ],
   "source": [
    "'a' in ['a', 'b', 'c', 1, 3.14, True]"
   ]
  },
  {
   "cell_type": "code",
   "execution_count": 36,
   "id": "37398474",
   "metadata": {
    "ExecuteTime": {
     "end_time": "2021-10-25T09:45:44.705943Z",
     "start_time": "2021-10-25T09:45:44.695943Z"
    }
   },
   "outputs": [
    {
     "data": {
      "text/plain": [
       "False"
      ]
     },
     "execution_count": 36,
     "metadata": {},
     "output_type": "execute_result"
    }
   ],
   "source": [
    "'tushar' in ['a', 'b', 'c', 1, 3.14, True]"
   ]
  },
  {
   "cell_type": "markdown",
   "id": "e2a64432",
   "metadata": {},
   "source": [
    "## Identity Operators"
   ]
  },
  {
   "cell_type": "markdown",
   "id": "92444c9e",
   "metadata": {},
   "source": [
    "<table class=\"table table-bordered\">\n",
    "<tbody><tr>\n",
    "<th style=\"text-align:center;width:10%\">Operator</th>\n",
    "<th style=\"text-align:center;width:45%\">Description</th>\n",
    "<th style=\"text-align:center;\">Example</th>\n",
    "</tr>\n",
    "<tr>\n",
    "<td class=\"ts\">is</td>\n",
    "<td>Evaluates to true if the variables on either side of the operator point to the same object and false otherwise.</td>\n",
    "<td style=\"vertical-align:middle;\">x is y, here <b>is</b> results in 1 if id(x) equals id(y).</td>\n",
    "</tr>\n",
    "<tr>\n",
    "<td class=\"ts\">is not</td>\n",
    "<td>Evaluates to false if the variables on either side of the operator point to the same object and true otherwise.</td>\n",
    "<td style=\"vertical-align:middle;\">x is not y, here <b>is not</b> results in 1 if id(x) is not equal to id(y).</td>\n",
    "</tr>\n",
    "</tbody></table>"
   ]
  },
  {
   "cell_type": "code",
   "execution_count": 37,
   "id": "c7417ae1",
   "metadata": {
    "ExecuteTime": {
     "end_time": "2021-10-25T09:46:29.072615Z",
     "start_time": "2021-10-25T09:46:29.062959Z"
    }
   },
   "outputs": [
    {
     "data": {
      "text/plain": [
       "True"
      ]
     },
     "execution_count": 37,
     "metadata": {},
     "output_type": "execute_result"
    }
   ],
   "source": [
    "2 == 2"
   ]
  },
  {
   "cell_type": "code",
   "execution_count": 38,
   "id": "f5e63577",
   "metadata": {
    "ExecuteTime": {
     "end_time": "2021-10-25T09:46:33.622605Z",
     "start_time": "2021-10-25T09:46:33.610613Z"
    }
   },
   "outputs": [
    {
     "data": {
      "text/plain": [
       "True"
      ]
     },
     "execution_count": 38,
     "metadata": {},
     "output_type": "execute_result"
    }
   ],
   "source": [
    "5 == 5"
   ]
  },
  {
   "cell_type": "code",
   "execution_count": 46,
   "id": "a882300d",
   "metadata": {
    "ExecuteTime": {
     "end_time": "2021-10-25T09:48:36.703605Z",
     "start_time": "2021-10-25T09:48:36.695600Z"
    }
   },
   "outputs": [
    {
     "data": {
      "text/plain": [
       "True"
      ]
     },
     "execution_count": 46,
     "metadata": {},
     "output_type": "execute_result"
    }
   ],
   "source": [
    "type(5) is type(5)"
   ]
  },
  {
   "cell_type": "code",
   "execution_count": null,
   "id": "8c7e7f40",
   "metadata": {},
   "outputs": [],
   "source": []
  }
 ],
 "metadata": {
  "kernelspec": {
   "display_name": "Python [conda env:iocl-python-training]",
   "language": "python",
   "name": "conda-env-iocl-python-training-py"
  },
  "language_info": {
   "codemirror_mode": {
    "name": "ipython",
    "version": 3
   },
   "file_extension": ".py",
   "mimetype": "text/x-python",
   "name": "python",
   "nbconvert_exporter": "python",
   "pygments_lexer": "ipython3",
   "version": "3.9.7"
  },
  "toc": {
   "base_numbering": 1,
   "nav_menu": {},
   "number_sections": true,
   "sideBar": true,
   "skip_h1_title": false,
   "title_cell": "Table of Contents",
   "title_sidebar": "Contents",
   "toc_cell": false,
   "toc_position": {
    "height": "calc(100% - 180px)",
    "left": "10px",
    "top": "150px",
    "width": "183.429px"
   },
   "toc_section_display": true,
   "toc_window_display": true
  },
  "varInspector": {
   "cols": {
    "lenName": 16,
    "lenType": 16,
    "lenVar": 40
   },
   "kernels_config": {
    "python": {
     "delete_cmd_postfix": "",
     "delete_cmd_prefix": "del ",
     "library": "var_list.py",
     "varRefreshCmd": "print(var_dic_list())"
    },
    "r": {
     "delete_cmd_postfix": ") ",
     "delete_cmd_prefix": "rm(",
     "library": "var_list.r",
     "varRefreshCmd": "cat(var_dic_list()) "
    }
   },
   "types_to_exclude": [
    "module",
    "function",
    "builtin_function_or_method",
    "instance",
    "_Feature"
   ],
   "window_display": false
  }
 },
 "nbformat": 4,
 "nbformat_minor": 5
}
