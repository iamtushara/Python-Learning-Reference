{
 "cells": [
  {
   "cell_type": "markdown",
   "id": "c93fa64a",
   "metadata": {},
   "source": [
    "# Operators in Python"
   ]
  },
  {
   "cell_type": "markdown",
   "id": "993e9ccc",
   "metadata": {},
   "source": [
    "Python language supports the following types of operators.\n",
    "\n",
    "- Arithmetic Operators\n",
    "- Comparison (Relational) Operators\n",
    "- Assignment Operators\n",
    "- Logical Operators\n",
    "- Bitwise Operators\n",
    "- Membership Operators\n",
    "- Identity Operators"
   ]
  },
  {
   "cell_type": "markdown",
   "id": "d3cd0874",
   "metadata": {},
   "source": [
    "## Arithmetic Operators"
   ]
  },
  {
   "cell_type": "markdown",
   "id": "628bfc0e",
   "metadata": {},
   "source": [
    "<table class=\"table table-bordered\">\n",
    "<tbody><tr>\n",
    "<th style=\"text-align:left;width:10%\">Operator</th>\n",
    "<th style=\"text-align:left;width:45%\">Description</th>\n",
    "<th style=\"text-align:center;\">Example</th>\n",
    "</tr>\n",
    "<tr>\n",
    "<td class=\"ts\">+ Addition</td>\n",
    "<td>Adds values on either side of the operator.</td>\n",
    "<td class=\"ts\">a + b = 30</td>\n",
    "</tr>\n",
    "<tr>\n",
    "<td class=\"ts\">- Subtraction</td>\n",
    "<td>Subtracts right hand operand from left hand operand.</td>\n",
    "<td class=\"ts\">a – b = -10</td>\n",
    "</tr>\n",
    "<tr>\n",
    "<td class=\"ts\">* Multiplication</td>\n",
    "<td>Multiplies values on either side of the operator</td>\n",
    "<td class=\"ts\">a * b = 200</td>\n",
    "</tr>\n",
    "<tr>\n",
    "<td class=\"ts\">/ Division</td>\n",
    "<td>Divides left hand operand by right hand operand</td>\n",
    "<td class=\"ts\">b / a = 2</td>\n",
    "</tr>\n",
    "<tr>\n",
    "<td class=\"ts\">% Modulus</td>\n",
    "<td>Divides left hand operand by right hand operand and returns remainder</td>\n",
    "<td class=\"ts\">b % a = 0</td>\n",
    "</tr>\n",
    "<tr>\n",
    "<td class=\"ts\">** Exponent</td>\n",
    "<td>Performs exponential (power) calculation on operators</td>\n",
    "<td class=\"ts\">a**b =10 to the power 20</td>\n",
    "</tr>\n",
    "<tr>\n",
    "<td class=\"ts\">//</td>\n",
    "<td>Floor Division - The division of operands where the result is the quotient in which the digits after the decimal point are removed. But if one of the operands is negative, the result is floored, i.e., rounded away from zero (towards negative infinity) −</td>\n",
    "<td class=\"ts\">9//2 = 4 and 9.0//2.0 = 4.0, -11//3 = -4, -11.0//3 = -4.0</td>\n",
    "</tr>\n",
    "</tbody></table>"
   ]
  },
  {
   "cell_type": "code",
   "execution_count": null,
   "id": "7e4e4c46",
   "metadata": {},
   "outputs": [],
   "source": []
  },
  {
   "cell_type": "markdown",
   "id": "dcf4e568",
   "metadata": {},
   "source": [
    "## Comparison (Relational) Operators"
   ]
  },
  {
   "cell_type": "markdown",
   "id": "a300812f",
   "metadata": {},
   "source": [
    "<table class=\"table table-bordered\">\n",
    "<tbody><tr>\n",
    "<th style=\"text-align:center;width:1%\">Operator</th>\n",
    "<th style=\"text-align:center;width:10%\">Description</th>\n",
    "<th style=\"text-align:center;\">Example</th>\n",
    "</tr>\n",
    "<tr>\n",
    "<td class=\"ts\">==</td>\n",
    "<td>If the values of two operands are equal, then the condition becomes true.</td>\n",
    "<td class=\"ts\">(a == b) is not true.</td>\n",
    "</tr>\n",
    "<tr>\n",
    "<td class=\"ts\">!=</td>\n",
    "<td>If values of two operands are not equal, then condition becomes true.</td>\n",
    "<td class=\"ts\">(a != b) is true.</td>\n",
    "</tr>\n",
    "<tr>\n",
    "<td class=\"ts\">&lt;&gt;</td>\n",
    "<td>If values of two operands are not equal, then condition becomes true.</td>\n",
    "<td class=\"ts\">(a &lt;&gt; b) is true. This is similar to != operator.</td>\n",
    "</tr>\n",
    "<tr>\n",
    "<td class=\"ts\">&gt;</td>\n",
    "<td>If the value of left operand is greater than the value of right operand, then condition becomes true.</td>\n",
    "<td class=\"ts\">(a &gt; b) is not true.</td>\n",
    "</tr>\n",
    "<tr>\n",
    "<td class=\"ts\">&lt;</td>\n",
    "<td>If the value of left operand is less than the value of right operand, then condition becomes true.</td>\n",
    "<td class=\"ts\">(a &lt; b) is true.</td>\n",
    "</tr>\n",
    "<tr>\n",
    "<td class=\"ts\">&gt;=</td>\n",
    "<td>If the value of left operand is greater than or equal to the value of right operand, then condition becomes true.</td>\n",
    "<td class=\"ts\">(a &gt;= b) is not true.</td>\n",
    "</tr>\n",
    "<tr>\n",
    "<td class=\"ts\">&lt;=</td>\n",
    "<td>If the value of left operand is less than or equal to the value of right operand, then condition becomes true.</td>\n",
    "<td class=\"ts\">(a &lt;= b) is true.</td>\n",
    "</tr>\n",
    "</tbody></table>"
   ]
  },
  {
   "cell_type": "code",
   "execution_count": null,
   "id": "50e884a7",
   "metadata": {},
   "outputs": [],
   "source": []
  },
  {
   "cell_type": "markdown",
   "id": "14c43484",
   "metadata": {},
   "source": [
    "## Assignment Operators"
   ]
  },
  {
   "cell_type": "markdown",
   "id": "33bfa99b",
   "metadata": {},
   "source": [
    "<table class=\"table table-bordered\">\n",
    "<tbody><tr>\n",
    "<th style=\"text-align:center;width:10%\">Operator</th>\n",
    "<th style=\"text-align:center;width:45%\">Description</th>\n",
    "<th style=\"text-align:center;\">Example</th>\n",
    "</tr>\n",
    "<tr>\n",
    "<td class=\"ts\">=</td>\n",
    "<td>Assigns values from right side operands to left side operand</td>\n",
    "<td style=\"vertical-align:middle;\">c = a + b assigns value of a + b into c</td>\n",
    "</tr>\n",
    "<tr>\n",
    "<td class=\"ts\">+= Add AND</td>\n",
    "<td>It adds right operand to the left operand and assign the result to left operand</td>\n",
    "<td style=\"vertical-align:middle;\">c += a is equivalent to c = c + a</td>\n",
    "</tr>\n",
    "<tr>\n",
    "<td class=\"ts\">-= Subtract AND</td>\n",
    "<td>It subtracts right operand from the left operand and assign the result to left operand</td>\n",
    "<td style=\"vertical-align:middle;\">c -= a is equivalent to c = c - a</td>\n",
    "</tr>\n",
    "<tr>\n",
    "<td class=\"ts\">*= Multiply AND</td>\n",
    "<td>It multiplies right operand with the left operand and assign the result to left operand</td>\n",
    "<td style=\"vertical-align:middle;\">c *= a is equivalent to c = c * a</td>\n",
    "</tr>\n",
    "<tr>\n",
    "<td class=\"ts\">/= Divide AND</td>\n",
    "<td>It divides left operand with the right operand and assign the result to left operand</td>\n",
    "<td style=\"vertical-align:middle;\">c /= a is equivalent to c = c / a\n",
    "</td>\n",
    "</tr>\n",
    "<tr>\n",
    "<td class=\"ts\">%= Modulus AND</td>\n",
    "<td>It takes modulus using two operands and assign the result to left operand</td>\n",
    "<td style=\"vertical-align:middle;\">c %= a is equivalent to c = c % a</td>\n",
    "</tr>\n",
    "<tr>\n",
    "<td class=\"ts\">**= Exponent AND</td>\n",
    "<td>Performs exponential (power) calculation on operators and assign value to the left operand</td>\n",
    "<td style=\"vertical-align:middle;\">c **= a is equivalent to c = c ** a</td>\n",
    "</tr>\n",
    "<tr>\n",
    "<td class=\"ts\">//= Floor Division</td>\n",
    "<td>It performs floor division on operators and assign value to the left operand</td>\n",
    "<td style=\"vertical-align:middle;\">c //= a is equivalent to c = c // a</td>\n",
    "</tr>\n",
    "</tbody></table>"
   ]
  },
  {
   "cell_type": "code",
   "execution_count": null,
   "id": "ed62dc32",
   "metadata": {},
   "outputs": [],
   "source": []
  },
  {
   "cell_type": "markdown",
   "id": "e9f43f13",
   "metadata": {},
   "source": [
    "## Logical Operators"
   ]
  },
  {
   "cell_type": "markdown",
   "id": "6f0bbb3b",
   "metadata": {},
   "source": [
    "<table class=\"table table-bordered\">\n",
    "<tbody><tr>\n",
    "<th style=\"text-align:center;width:10%\">Operator</th>\n",
    "<th style=\"text-align:center;width:45%\">Description</th>\n",
    "<th style=\"text-align:center;\">Example</th>\n",
    "</tr>\n",
    "<tr>\n",
    "<td>and Logical AND</td>\n",
    "<td class=\"ts\">If both the operands are true then condition becomes true.</td>\n",
    "<td class=\"ts\">(a and b) is true.</td>\n",
    "</tr>\n",
    "<tr>\n",
    "<td>or Logical OR</td>\n",
    "<td class=\"ts\">If any of the two operands are non-zero then condition becomes true.</td>\n",
    "<td class=\"ts\">(a or b) is true.</td>\n",
    "</tr>\n",
    "<tr>\n",
    "<td>not Logical NOT</td>\n",
    "<td class=\"ts\">Used to reverse the logical state of its operand.</td>\n",
    "<td class=\"ts\">Not(a and b) is false.</td>\n",
    "</tr>\n",
    "</tbody></table>"
   ]
  },
  {
   "cell_type": "code",
   "execution_count": null,
   "id": "0cb0d4ba",
   "metadata": {},
   "outputs": [],
   "source": []
  },
  {
   "cell_type": "markdown",
   "id": "26bd08a2",
   "metadata": {},
   "source": [
    "## Bitwise Operators"
   ]
  },
  {
   "cell_type": "markdown",
   "id": "cab9b76e",
   "metadata": {},
   "source": [
    "<table class=\"table table-bordered\">\n",
    "<tbody><tr>\n",
    "<th style=\"text-align:center;width:10%\">Operator</th>\n",
    "<th style=\"text-align:center;width:45%\">Description</th>\n",
    "<th style=\"text-align:center;\">Example</th>\n",
    "</tr>\n",
    "<tr>\n",
    "<td class=\"ts\">&amp; Binary AND</td>\n",
    "<td>Operator copies a bit to the result if it exists in both operands</td>\n",
    "<td style=\"vertical-align:middle;\">(a &amp; b) (means 0000 1100)</td>\n",
    "</tr>\n",
    "<tr>\n",
    "<td class=\"ts\">| Binary OR</td>\n",
    "<td>It copies a bit if it exists in either operand.</td>\n",
    "<td style=\"vertical-align:middle;\">(a | b) = 61 (means 0011 1101)</td>\n",
    "</tr>\n",
    "<tr>\n",
    "<td class=\"ts\">^ Binary XOR</td>\n",
    "<td>It copies the bit if it is set in one operand but not both.</td>\n",
    "<td style=\"vertical-align:middle;\">(a ^ b) = 49 (means 0011 0001)</td>\n",
    "</tr>\n",
    "<tr>\n",
    "<td class=\"ts\">~ Binary Ones Complement</td>\n",
    "<td style=\"vertical-align:middle;\">It is unary and has the effect of 'flipping' bits.</td>\n",
    "<td style=\"vertical-align:middle;\">(~a ) = -61 (means 1100 0011 in 2's complement form due to a signed binary number.</td>\n",
    "</tr>\n",
    "<tr>\n",
    "<td class=\"ts\">&lt;&lt; Binary Left Shift</td>\n",
    "<td>The left operands value is moved left by the number of bits specified by the right operand.</td>\n",
    "<td style=\"vertical-align:middle;\">a &lt;&lt; 2 = 240 (means 1111 0000)</td>\n",
    "</tr>\n",
    "<tr>\n",
    "<td class=\"ts\">&gt;&gt; Binary Right Shift</td>\n",
    "<td>The left operands value is moved right by the number of bits specified by the right operand.</td>\n",
    "<td style=\"vertical-align:middle;\">a &gt;&gt; 2 = 15 (means 0000 1111)</td>\n",
    "</tr>\n",
    "</tbody></table>"
   ]
  },
  {
   "cell_type": "code",
   "execution_count": null,
   "id": "18ed5cef",
   "metadata": {},
   "outputs": [],
   "source": []
  },
  {
   "cell_type": "markdown",
   "id": "e2f012d3",
   "metadata": {},
   "source": [
    "## Membership Operators"
   ]
  },
  {
   "cell_type": "markdown",
   "id": "c6197883",
   "metadata": {},
   "source": [
    "<table class=\"table table-bordered\">\n",
    "<tbody><tr>\n",
    "<th style=\"text-align:center;width:10%\">Operator</th>\n",
    "<th style=\"text-align:center;width:45%\">Description</th>\n",
    "<th style=\"text-align:center;\">Example</th>\n",
    "</tr>\n",
    "<tr>\n",
    "<td class=\"ts\">in</td>\n",
    "<td>Evaluates to true if it finds a variable in the specified sequence and false otherwise.</td>\n",
    "<td style=\"vertical-align:middle;\">x in y, here in results in a 1 if x is a member of sequence y.</td>\n",
    "</tr>\n",
    "<tr>\n",
    "<td class=\"ts\">not in</td>\n",
    "<td>Evaluates to true if it does not finds a variable in the specified sequence and false otherwise.</td>\n",
    "<td>x not in y, here not in results in a 1 if x is not a member of sequence y.</td>\n",
    "</tr>\n",
    "</tbody></table>"
   ]
  },
  {
   "cell_type": "code",
   "execution_count": null,
   "id": "e5f04bb9",
   "metadata": {},
   "outputs": [],
   "source": []
  },
  {
   "cell_type": "markdown",
   "id": "e2a64432",
   "metadata": {},
   "source": [
    "## Identity Operators"
   ]
  },
  {
   "cell_type": "markdown",
   "id": "92444c9e",
   "metadata": {},
   "source": [
    "<table class=\"table table-bordered\">\n",
    "<tbody><tr>\n",
    "<th style=\"text-align:center;width:10%\">Operator</th>\n",
    "<th style=\"text-align:center;width:45%\">Description</th>\n",
    "<th style=\"text-align:center;\">Example</th>\n",
    "</tr>\n",
    "<tr>\n",
    "<td class=\"ts\">is</td>\n",
    "<td>Evaluates to true if the variables on either side of the operator point to the same object and false otherwise.</td>\n",
    "<td style=\"vertical-align:middle;\">x is y, here <b>is</b> results in 1 if id(x) equals id(y).</td>\n",
    "</tr>\n",
    "<tr>\n",
    "<td class=\"ts\">is not</td>\n",
    "<td>Evaluates to false if the variables on either side of the operator point to the same object and true otherwise.</td>\n",
    "<td style=\"vertical-align:middle;\">x is not y, here <b>is not</b> results in 1 if id(x) is not equal to id(y).</td>\n",
    "</tr>\n",
    "</tbody></table>"
   ]
  },
  {
   "cell_type": "code",
   "execution_count": null,
   "id": "c7417ae1",
   "metadata": {},
   "outputs": [],
   "source": []
  }
 ],
 "metadata": {
  "kernelspec": {
   "display_name": "Python [conda env:iocl-python-training]",
   "language": "python",
   "name": "conda-env-iocl-python-training-py"
  },
  "language_info": {
   "codemirror_mode": {
    "name": "ipython",
    "version": 3
   },
   "file_extension": ".py",
   "mimetype": "text/x-python",
   "name": "python",
   "nbconvert_exporter": "python",
   "pygments_lexer": "ipython3",
   "version": "3.9.7"
  },
  "toc": {
   "base_numbering": 1,
   "nav_menu": {},
   "number_sections": true,
   "sideBar": true,
   "skip_h1_title": false,
   "title_cell": "Table of Contents",
   "title_sidebar": "Contents",
   "toc_cell": false,
   "toc_position": {},
   "toc_section_display": true,
   "toc_window_display": false
  },
  "varInspector": {
   "cols": {
    "lenName": 16,
    "lenType": 16,
    "lenVar": 40
   },
   "kernels_config": {
    "python": {
     "delete_cmd_postfix": "",
     "delete_cmd_prefix": "del ",
     "library": "var_list.py",
     "varRefreshCmd": "print(var_dic_list())"
    },
    "r": {
     "delete_cmd_postfix": ") ",
     "delete_cmd_prefix": "rm(",
     "library": "var_list.r",
     "varRefreshCmd": "cat(var_dic_list()) "
    }
   },
   "types_to_exclude": [
    "module",
    "function",
    "builtin_function_or_method",
    "instance",
    "_Feature"
   ],
   "window_display": false
  }
 },
 "nbformat": 4,
 "nbformat_minor": 5
}
