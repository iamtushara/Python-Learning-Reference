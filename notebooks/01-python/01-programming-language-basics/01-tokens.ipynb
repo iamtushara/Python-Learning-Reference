{
 "cells": [
  {
   "cell_type": "markdown",
   "id": "5945401b",
   "metadata": {},
   "source": [
    "# Tokens\n",
    "\n",
    "<font color='orange' size=3.5><b>the fundamental block of a programming language"
   ]
  },
  {
   "cell_type": "markdown",
   "id": "1bcea926",
   "metadata": {},
   "source": [
    "There are 4 types of Tokens"
   ]
  },
  {
   "cell_type": "markdown",
   "id": "cfe901cd",
   "metadata": {},
   "source": [
    "## Keywords\n",
    "\n",
    "<font color='gray' size=2><b>The reserved words with special meaning"
   ]
  },
  {
   "cell_type": "markdown",
   "id": "39bdaab7",
   "metadata": {},
   "source": [
    "<img src=\"../imgs/keywords.png\" align=\"left\"/>"
   ]
  },
  {
   "cell_type": "code",
   "execution_count": 2,
   "id": "7466d0ae",
   "metadata": {
    "ExecuteTime": {
     "end_time": "2021-10-24T22:32:16.876237Z",
     "start_time": "2021-10-24T22:32:16.871239Z"
    }
   },
   "outputs": [],
   "source": [
    "import keyword\n",
    "keywords = keyword.kwlist"
   ]
  },
  {
   "cell_type": "code",
   "execution_count": 4,
   "id": "76366679",
   "metadata": {
    "ExecuteTime": {
     "end_time": "2021-10-24T22:32:38.294993Z",
     "start_time": "2021-10-24T22:32:38.277991Z"
    }
   },
   "outputs": [
    {
     "name": "stdout",
     "output_type": "stream",
     "text": [
      "35\n",
      "['False', 'None', 'True', 'and', 'as', 'assert', 'async', 'await', 'break', 'class', 'continue', 'def', 'del', 'elif', 'else', 'except', 'finally', 'for', 'from', 'global', 'if', 'import', 'in', 'is', 'lambda', 'nonlocal', 'not', 'or', 'pass', 'raise', 'return', 'try', 'while', 'with', 'yield']\n"
     ]
    }
   ],
   "source": [
    "print(len(keywords))\n",
    "print(keywords)"
   ]
  },
  {
   "cell_type": "markdown",
   "id": "1ddaa62d",
   "metadata": {},
   "source": [
    "## Identifiers\n",
    "\n",
    "<font color='gray' size=2><b>user defined words, for example - variable, function, class, module names"
   ]
  },
  {
   "cell_type": "markdown",
   "id": "b5b46ab5",
   "metadata": {},
   "source": [
    "There are few rules that must be followed to create a python identifier.\n",
    "\n",
    "- You can’t use reserved keywords as an identifier name.\n",
    "- Python identifier can contain letters in a small case (a-z), upper case (A-Z), digits (0-9), and underscore (_).\n",
    "- Identifier name can’t begin with a digit.\n",
    "- Python identifier can’t contain only digits.\n",
    "- Python identifier name can start with an underscore.\n",
    "- There is no limit on the length of the identifier name.\n",
    "- Python identifier names are case sensitive."
   ]
  },
  {
   "cell_type": "code",
   "execution_count": 27,
   "id": "ee1285d2",
   "metadata": {
    "ExecuteTime": {
     "end_time": "2021-10-25T07:50:47.766970Z",
     "start_time": "2021-10-25T07:50:47.760836Z"
    }
   },
   "outputs": [
    {
     "name": "stdout",
     "output_type": "stream",
     "text": [
      "Tushar Anand\n"
     ]
    }
   ],
   "source": [
    "full_name = \"Tushar Anand\"\n",
    "print(full_name)"
   ]
  },
  {
   "cell_type": "code",
   "execution_count": 28,
   "id": "10cb6e71",
   "metadata": {
    "ExecuteTime": {
     "end_time": "2021-10-25T07:51:34.229376Z",
     "start_time": "2021-10-25T07:51:34.221308Z"
    }
   },
   "outputs": [
    {
     "ename": "SyntaxError",
     "evalue": "invalid syntax (Temp/ipykernel_6212/260532798.py, line 1)",
     "output_type": "error",
     "traceback": [
      "\u001b[1;36m  File \u001b[1;32m\"C:\\Users\\TUSHAR~1\\AppData\\Local\\Temp/ipykernel_6212/260532798.py\"\u001b[1;36m, line \u001b[1;32m1\u001b[0m\n\u001b[1;33m    break = \"Tushar Anand\"\u001b[0m\n\u001b[1;37m          ^\u001b[0m\n\u001b[1;31mSyntaxError\u001b[0m\u001b[1;31m:\u001b[0m invalid syntax\n"
     ]
    }
   ],
   "source": [
    "break = \"Tushar Anand\"\n",
    "print(break)"
   ]
  },
  {
   "cell_type": "code",
   "execution_count": 29,
   "id": "88be1fdb",
   "metadata": {
    "ExecuteTime": {
     "end_time": "2021-10-25T07:53:15.826077Z",
     "start_time": "2021-10-25T07:53:15.817084Z"
    }
   },
   "outputs": [
    {
     "ename": "SyntaxError",
     "evalue": "invalid syntax (Temp/ipykernel_6212/933812175.py, line 1)",
     "output_type": "error",
     "traceback": [
      "\u001b[1;36m  File \u001b[1;32m\"C:\\Users\\TUSHAR~1\\AppData\\Local\\Temp/ipykernel_6212/933812175.py\"\u001b[1;36m, line \u001b[1;32m1\u001b[0m\n\u001b[1;33m    full name = \"Tushar Anand\"\u001b[0m\n\u001b[1;37m         ^\u001b[0m\n\u001b[1;31mSyntaxError\u001b[0m\u001b[1;31m:\u001b[0m invalid syntax\n"
     ]
    }
   ],
   "source": [
    "full name = \"Tushar Anand\"\n",
    "print(full name)"
   ]
  },
  {
   "cell_type": "code",
   "execution_count": 30,
   "id": "ce1ee62f",
   "metadata": {
    "ExecuteTime": {
     "end_time": "2021-10-25T07:53:29.714438Z",
     "start_time": "2021-10-25T07:53:29.707438Z"
    }
   },
   "outputs": [
    {
     "ename": "SyntaxError",
     "evalue": "cannot assign to operator (Temp/ipykernel_6212/620460983.py, line 1)",
     "output_type": "error",
     "traceback": [
      "\u001b[1;36m  File \u001b[1;32m\"C:\\Users\\TUSHAR~1\\AppData\\Local\\Temp/ipykernel_6212/620460983.py\"\u001b[1;36m, line \u001b[1;32m1\u001b[0m\n\u001b[1;33m    full-name = \"Tushar Anand\"\u001b[0m\n\u001b[1;37m    ^\u001b[0m\n\u001b[1;31mSyntaxError\u001b[0m\u001b[1;31m:\u001b[0m cannot assign to operator\n"
     ]
    }
   ],
   "source": [
    "full-name = \"Tushar Anand\"\n",
    "print(full-name)"
   ]
  },
  {
   "cell_type": "code",
   "execution_count": 31,
   "id": "81107a2f",
   "metadata": {
    "ExecuteTime": {
     "end_time": "2021-10-25T07:53:58.621236Z",
     "start_time": "2021-10-25T07:53:58.614239Z"
    }
   },
   "outputs": [
    {
     "name": "stdout",
     "output_type": "stream",
     "text": [
      "Tushar Anand\n"
     ]
    }
   ],
   "source": [
    "_full_name = \"Tushar Anand\"\n",
    "print(_full_name)"
   ]
  },
  {
   "cell_type": "code",
   "execution_count": 34,
   "id": "c1279a3d",
   "metadata": {
    "ExecuteTime": {
     "end_time": "2021-10-25T07:54:31.035163Z",
     "start_time": "2021-10-25T07:54:31.028153Z"
    }
   },
   "outputs": [
    {
     "ename": "SyntaxError",
     "evalue": "invalid decimal literal (Temp/ipykernel_6212/3875119893.py, line 1)",
     "output_type": "error",
     "traceback": [
      "\u001b[1;36m  File \u001b[1;32m\"C:\\Users\\TUSHAR~1\\AppData\\Local\\Temp/ipykernel_6212/3875119893.py\"\u001b[1;36m, line \u001b[1;32m1\u001b[0m\n\u001b[1;33m    1_fname = \"Tushar Anand\"\u001b[0m\n\u001b[1;37m     ^\u001b[0m\n\u001b[1;31mSyntaxError\u001b[0m\u001b[1;31m:\u001b[0m invalid decimal literal\n"
     ]
    }
   ],
   "source": [
    "1_fname = \"Tushar Anand\"\n",
    "print(fname)"
   ]
  },
  {
   "cell_type": "code",
   "execution_count": 36,
   "id": "6022ba5e",
   "metadata": {
    "ExecuteTime": {
     "end_time": "2021-10-25T07:55:01.003940Z",
     "start_time": "2021-10-25T07:55:00.983618Z"
    }
   },
   "outputs": [
    {
     "name": "stdout",
     "output_type": "stream",
     "text": [
      "Tushar Anand\n"
     ]
    }
   ],
   "source": [
    "fname1 = \"Tushar Anand\"\n",
    "print(fname1)"
   ]
  },
  {
   "cell_type": "code",
   "execution_count": 37,
   "id": "f5d00dac",
   "metadata": {
    "ExecuteTime": {
     "end_time": "2021-10-25T07:55:07.762620Z",
     "start_time": "2021-10-25T07:55:07.753622Z"
    }
   },
   "outputs": [
    {
     "ename": "SyntaxError",
     "evalue": "cannot assign to literal (Temp/ipykernel_6212/427147436.py, line 1)",
     "output_type": "error",
     "traceback": [
      "\u001b[1;36m  File \u001b[1;32m\"C:\\Users\\TUSHAR~1\\AppData\\Local\\Temp/ipykernel_6212/427147436.py\"\u001b[1;36m, line \u001b[1;32m1\u001b[0m\n\u001b[1;33m    123 = \"Tushar Anand\"\u001b[0m\n\u001b[1;37m    ^\u001b[0m\n\u001b[1;31mSyntaxError\u001b[0m\u001b[1;31m:\u001b[0m cannot assign to literal\n"
     ]
    }
   ],
   "source": [
    "123 = \"Tushar Anand\"\n",
    "print(123)"
   ]
  },
  {
   "cell_type": "code",
   "execution_count": 40,
   "id": "ab7fc98e",
   "metadata": {
    "ExecuteTime": {
     "end_time": "2021-10-25T07:56:08.025616Z",
     "start_time": "2021-10-25T07:56:08.007614Z"
    }
   },
   "outputs": [
    {
     "ename": "NameError",
     "evalue": "name 'A' is not defined",
     "output_type": "error",
     "traceback": [
      "\u001b[1;31m---------------------------------------------------------------------------\u001b[0m",
      "\u001b[1;31mNameError\u001b[0m                                 Traceback (most recent call last)",
      "\u001b[1;32mC:\\Users\\TUSHAR~1\\AppData\\Local\\Temp/ipykernel_6212/1902918025.py\u001b[0m in \u001b[0;36m<module>\u001b[1;34m\u001b[0m\n\u001b[0;32m      1\u001b[0m \u001b[0ma\u001b[0m \u001b[1;33m=\u001b[0m \u001b[1;36m5\u001b[0m\u001b[1;33m\u001b[0m\u001b[1;33m\u001b[0m\u001b[0m\n\u001b[1;32m----> 2\u001b[1;33m \u001b[0mprint\u001b[0m\u001b[1;33m(\u001b[0m\u001b[0mA\u001b[0m\u001b[1;33m)\u001b[0m\u001b[1;33m\u001b[0m\u001b[1;33m\u001b[0m\u001b[0m\n\u001b[0m",
      "\u001b[1;31mNameError\u001b[0m: name 'A' is not defined"
     ]
    }
   ],
   "source": [
    "a = 5\n",
    "print(A)"
   ]
  },
  {
   "cell_type": "markdown",
   "id": "f224c7e0",
   "metadata": {},
   "source": [
    "## Delimiters\n",
    "\n",
    "<font color='gray' size=2><b>characters that specify boundaries"
   ]
  },
  {
   "cell_type": "markdown",
   "id": "6baeac55",
   "metadata": {},
   "source": [
    "- `'single'`, `\"double\"` and `\"\"\"triple\"\"\"` quotes\n",
    "- brackets\n",
    "- commas (`,`) and semicolons (`:`)"
   ]
  },
  {
   "cell_type": "code",
   "execution_count": null,
   "id": "ed8294e7",
   "metadata": {},
   "outputs": [],
   "source": []
  },
  {
   "cell_type": "markdown",
   "id": "78d42032",
   "metadata": {},
   "source": [
    "## Operators\n",
    "\n",
    "<font color='gray' size=2><b>characters that perform special operations"
   ]
  },
  {
   "cell_type": "markdown",
   "id": "e493d089",
   "metadata": {},
   "source": [
    "more details in the next notebook"
   ]
  }
 ],
 "metadata": {
  "kernelspec": {
   "display_name": "Python [conda env:iocl-python-training]",
   "language": "python",
   "name": "conda-env-iocl-python-training-py"
  },
  "language_info": {
   "codemirror_mode": {
    "name": "ipython",
    "version": 3
   },
   "file_extension": ".py",
   "mimetype": "text/x-python",
   "name": "python",
   "nbconvert_exporter": "python",
   "pygments_lexer": "ipython3",
   "version": "3.9.7"
  },
  "toc": {
   "base_numbering": 1,
   "nav_menu": {},
   "number_sections": true,
   "sideBar": true,
   "skip_h1_title": false,
   "title_cell": "Table of Contents",
   "title_sidebar": "Contents",
   "toc_cell": false,
   "toc_position": {
    "height": "calc(100% - 180px)",
    "left": "10px",
    "top": "150px",
    "width": "222px"
   },
   "toc_section_display": true,
   "toc_window_display": true
  },
  "varInspector": {
   "cols": {
    "lenName": 16,
    "lenType": 16,
    "lenVar": 40
   },
   "kernels_config": {
    "python": {
     "delete_cmd_postfix": "",
     "delete_cmd_prefix": "del ",
     "library": "var_list.py",
     "varRefreshCmd": "print(var_dic_list())"
    },
    "r": {
     "delete_cmd_postfix": ") ",
     "delete_cmd_prefix": "rm(",
     "library": "var_list.r",
     "varRefreshCmd": "cat(var_dic_list()) "
    }
   },
   "types_to_exclude": [
    "module",
    "function",
    "builtin_function_or_method",
    "instance",
    "_Feature"
   ],
   "window_display": false
  }
 },
 "nbformat": 4,
 "nbformat_minor": 5
}
