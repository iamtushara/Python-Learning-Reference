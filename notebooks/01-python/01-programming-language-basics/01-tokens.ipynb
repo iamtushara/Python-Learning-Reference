{
 "cells": [
  {
   "cell_type": "markdown",
   "id": "5945401b",
   "metadata": {},
   "source": [
    "# Tokens\n",
    "\n",
    "<font color='orange' size=3.5><b>the fundamental block of a programming language"
   ]
  },
  {
   "cell_type": "markdown",
   "id": "1bcea926",
   "metadata": {},
   "source": [
    "There are 4 types of Tokens"
   ]
  },
  {
   "cell_type": "markdown",
   "id": "cfe901cd",
   "metadata": {},
   "source": [
    "## Keywords\n",
    "\n",
    "<font color='gray' size=2><b>The reserved words with special meaning"
   ]
  },
  {
   "cell_type": "markdown",
   "id": "39bdaab7",
   "metadata": {},
   "source": [
    "<img src=\"../imgs/keywords.png\" align=\"left\"/>"
   ]
  },
  {
   "cell_type": "code",
   "execution_count": 1,
   "id": "7466d0ae",
   "metadata": {
    "ExecuteTime": {
     "end_time": "2021-10-25T12:40:05.612591Z",
     "start_time": "2021-10-25T12:40:05.599592Z"
    }
   },
   "outputs": [],
   "source": [
    "import keyword\n",
    "keywords = keyword.kwlist"
   ]
  },
  {
   "cell_type": "code",
   "execution_count": 2,
   "id": "76366679",
   "metadata": {
    "ExecuteTime": {
     "end_time": "2021-10-25T12:40:05.628595Z",
     "start_time": "2021-10-25T12:40:05.616592Z"
    }
   },
   "outputs": [
    {
     "name": "stdout",
     "output_type": "stream",
     "text": [
      "36\n",
      "['False', 'None', 'True', '__peg_parser__', 'and', 'as', 'assert', 'async', 'await', 'break', 'class', 'continue', 'def', 'del', 'elif', 'else', 'except', 'finally', 'for', 'from', 'global', 'if', 'import', 'in', 'is', 'lambda', 'nonlocal', 'not', 'or', 'pass', 'raise', 'return', 'try', 'while', 'with', 'yield']\n"
     ]
    }
   ],
   "source": [
    "print(len(keywords))\n",
    "print(keywords)"
   ]
  },
  {
   "cell_type": "markdown",
   "id": "1ddaa62d",
   "metadata": {},
   "source": [
    "## Identifiers\n",
    "\n",
    "<font color='gray' size=2><b>user defined words, for example - variable, function, class, module names"
   ]
  },
  {
   "cell_type": "markdown",
   "id": "b5b46ab5",
   "metadata": {},
   "source": [
    "There are few rules that must be followed to create a python identifier.\n",
    "\n",
    "- You can’t use reserved keywords as an identifier name.\n",
    "- Python identifier can contain letters in a small case (a-z), upper case (A-Z), digits (0-9), and underscore (_).\n",
    "- Identifier name can’t begin with a digit.\n",
    "- Python identifier can’t contain only digits.\n",
    "- Python identifier name can start with an underscore.\n",
    "- There is no limit on the length of the identifier name.\n",
    "- Python identifier names are case sensitive."
   ]
  },
  {
   "cell_type": "code",
   "execution_count": 3,
   "id": "ee1285d2",
   "metadata": {
    "ExecuteTime": {
     "end_time": "2021-10-25T12:40:05.644592Z",
     "start_time": "2021-10-25T12:40:05.636599Z"
    }
   },
   "outputs": [
    {
     "name": "stdout",
     "output_type": "stream",
     "text": [
      "Tushar Anand\n"
     ]
    }
   ],
   "source": [
    "full_name = \"Tushar Anand\"\n",
    "print(full_name)"
   ]
  },
  {
   "cell_type": "code",
   "execution_count": 4,
   "id": "10cb6e71",
   "metadata": {
    "ExecuteTime": {
     "end_time": "2021-10-25T12:40:05.660592Z",
     "start_time": "2021-10-25T12:40:05.648592Z"
    }
   },
   "outputs": [
    {
     "ename": "SyntaxError",
     "evalue": "invalid syntax (Temp/ipykernel_9800/2526276774.py, line 1)",
     "output_type": "error",
     "traceback": [
      "\u001b[1;36m  File \u001b[1;32m\"C:\\Users\\TUSHAR~1\\AppData\\Local\\Temp/ipykernel_9800/2526276774.py\"\u001b[1;36m, line \u001b[1;32m1\u001b[0m\n\u001b[1;33m    break = \"Tushar Anand\"  # cannot use keywords as identifiers\u001b[0m\n\u001b[1;37m          ^\u001b[0m\n\u001b[1;31mSyntaxError\u001b[0m\u001b[1;31m:\u001b[0m invalid syntax\n"
     ]
    }
   ],
   "source": [
    "break = \"Tushar Anand\"  # cannot use keywords as identifiers\n",
    "print(break)"
   ]
  },
  {
   "cell_type": "code",
   "execution_count": 5,
   "id": "88be1fdb",
   "metadata": {
    "ExecuteTime": {
     "end_time": "2021-10-25T12:40:16.426597Z",
     "start_time": "2021-10-25T12:40:16.413592Z"
    }
   },
   "outputs": [
    {
     "ename": "SyntaxError",
     "evalue": "invalid syntax (Temp/ipykernel_9800/2369554206.py, line 1)",
     "output_type": "error",
     "traceback": [
      "\u001b[1;36m  File \u001b[1;32m\"C:\\Users\\TUSHAR~1\\AppData\\Local\\Temp/ipykernel_9800/2369554206.py\"\u001b[1;36m, line \u001b[1;32m1\u001b[0m\n\u001b[1;33m    full name = \"Tushar Anand\"  # can't have spaces in variable names\u001b[0m\n\u001b[1;37m         ^\u001b[0m\n\u001b[1;31mSyntaxError\u001b[0m\u001b[1;31m:\u001b[0m invalid syntax\n"
     ]
    }
   ],
   "source": [
    "full name = \"Tushar Anand\"  # can't have spaces in variable names\n",
    "print(full name)"
   ]
  },
  {
   "cell_type": "code",
   "execution_count": 6,
   "id": "ce1ee62f",
   "metadata": {
    "ExecuteTime": {
     "end_time": "2021-10-25T12:40:17.136589Z",
     "start_time": "2021-10-25T12:40:17.115592Z"
    }
   },
   "outputs": [
    {
     "ename": "SyntaxError",
     "evalue": "cannot assign to operator (Temp/ipykernel_9800/3419959746.py, line 1)",
     "output_type": "error",
     "traceback": [
      "\u001b[1;36m  File \u001b[1;32m\"C:\\Users\\TUSHAR~1\\AppData\\Local\\Temp/ipykernel_9800/3419959746.py\"\u001b[1;36m, line \u001b[1;32m1\u001b[0m\n\u001b[1;33m    full-name = \"Tushar Anand\"  # only the underscore special character is allowed\u001b[0m\n\u001b[1;37m    ^\u001b[0m\n\u001b[1;31mSyntaxError\u001b[0m\u001b[1;31m:\u001b[0m cannot assign to operator\n"
     ]
    }
   ],
   "source": [
    "full-name = \"Tushar Anand\"  # only the underscore special character is allowed\n",
    "print(full-name)"
   ]
  },
  {
   "cell_type": "code",
   "execution_count": 7,
   "id": "81107a2f",
   "metadata": {
    "ExecuteTime": {
     "end_time": "2021-10-25T12:40:17.630593Z",
     "start_time": "2021-10-25T12:40:17.621590Z"
    }
   },
   "outputs": [
    {
     "name": "stdout",
     "output_type": "stream",
     "text": [
      "Tushar Anand\n"
     ]
    }
   ],
   "source": [
    "_full_name = \"Tushar Anand\"\n",
    "print(_full_name)"
   ]
  },
  {
   "cell_type": "code",
   "execution_count": 8,
   "id": "c1279a3d",
   "metadata": {
    "ExecuteTime": {
     "end_time": "2021-10-25T12:40:18.150579Z",
     "start_time": "2021-10-25T12:40:18.137580Z"
    }
   },
   "outputs": [
    {
     "ename": "SyntaxError",
     "evalue": "invalid decimal literal (Temp/ipykernel_9800/1201369111.py, line 1)",
     "output_type": "error",
     "traceback": [
      "\u001b[1;36m  File \u001b[1;32m\"C:\\Users\\TUSHAR~1\\AppData\\Local\\Temp/ipykernel_9800/1201369111.py\"\u001b[1;36m, line \u001b[1;32m1\u001b[0m\n\u001b[1;33m    1_fname = \"Tushar Anand\"  # identifier cant start with a number\u001b[0m\n\u001b[1;37m     ^\u001b[0m\n\u001b[1;31mSyntaxError\u001b[0m\u001b[1;31m:\u001b[0m invalid decimal literal\n"
     ]
    }
   ],
   "source": [
    "1_fname = \"Tushar Anand\"  # identifier cant start with a number\n",
    "print(fname)"
   ]
  },
  {
   "cell_type": "code",
   "execution_count": 9,
   "id": "6022ba5e",
   "metadata": {
    "ExecuteTime": {
     "end_time": "2021-10-25T12:40:18.605156Z",
     "start_time": "2021-10-25T12:40:18.600153Z"
    }
   },
   "outputs": [
    {
     "name": "stdout",
     "output_type": "stream",
     "text": [
      "Tushar Anand\n"
     ]
    }
   ],
   "source": [
    "fname1 = \"Tushar Anand\"\n",
    "print(fname1)"
   ]
  },
  {
   "cell_type": "code",
   "execution_count": 10,
   "id": "f5d00dac",
   "metadata": {
    "ExecuteTime": {
     "end_time": "2021-10-25T12:40:19.078154Z",
     "start_time": "2021-10-25T12:40:19.073161Z"
    }
   },
   "outputs": [
    {
     "ename": "SyntaxError",
     "evalue": "cannot assign to literal (Temp/ipykernel_9800/2056163911.py, line 1)",
     "output_type": "error",
     "traceback": [
      "\u001b[1;36m  File \u001b[1;32m\"C:\\Users\\TUSHAR~1\\AppData\\Local\\Temp/ipykernel_9800/2056163911.py\"\u001b[1;36m, line \u001b[1;32m1\u001b[0m\n\u001b[1;33m    123 = \"Tushar Anand\"  # identifier cant be all numbers\u001b[0m\n\u001b[1;37m    ^\u001b[0m\n\u001b[1;31mSyntaxError\u001b[0m\u001b[1;31m:\u001b[0m cannot assign to literal\n"
     ]
    }
   ],
   "source": [
    "123 = \"Tushar Anand\"  # identifier cant be all numbers\n",
    "print(123)"
   ]
  },
  {
   "cell_type": "code",
   "execution_count": 11,
   "id": "ab7fc98e",
   "metadata": {
    "ExecuteTime": {
     "end_time": "2021-10-25T12:40:19.887170Z",
     "start_time": "2021-10-25T12:40:19.843169Z"
    }
   },
   "outputs": [
    {
     "ename": "NameError",
     "evalue": "name 'A' is not defined",
     "output_type": "error",
     "traceback": [
      "\u001b[1;31m---------------------------------------------------------------------------\u001b[0m",
      "\u001b[1;31mNameError\u001b[0m                                 Traceback (most recent call last)",
      "\u001b[1;32mC:\\Users\\TUSHAR~1\\AppData\\Local\\Temp/ipykernel_9800/4126620722.py\u001b[0m in \u001b[0;36m<module>\u001b[1;34m\u001b[0m\n\u001b[0;32m      1\u001b[0m \u001b[0ma\u001b[0m \u001b[1;33m=\u001b[0m \u001b[1;36m5\u001b[0m  \u001b[1;31m# identifiers are case sensitive\u001b[0m\u001b[1;33m\u001b[0m\u001b[1;33m\u001b[0m\u001b[0m\n\u001b[1;32m----> 2\u001b[1;33m \u001b[0mprint\u001b[0m\u001b[1;33m(\u001b[0m\u001b[0mA\u001b[0m\u001b[1;33m)\u001b[0m\u001b[1;33m\u001b[0m\u001b[1;33m\u001b[0m\u001b[0m\n\u001b[0m",
      "\u001b[1;31mNameError\u001b[0m: name 'A' is not defined"
     ]
    }
   ],
   "source": [
    "a = 5  # identifiers are case sensitive\n",
    "print(A)"
   ]
  },
  {
   "cell_type": "markdown",
   "id": "f224c7e0",
   "metadata": {},
   "source": [
    "## Delimiters\n",
    "\n",
    "<font color='gray' size=2><b>characters that specify boundaries"
   ]
  },
  {
   "cell_type": "markdown",
   "id": "6baeac55",
   "metadata": {},
   "source": [
    "- `'single'`, `\"double\"` and `\"\"\"triple\"\"\"` quotes\n",
    "- brackets\n",
    "- commas (`,`) and semicolons (`:`)"
   ]
  },
  {
   "cell_type": "code",
   "execution_count": null,
   "id": "ed8294e7",
   "metadata": {},
   "outputs": [],
   "source": []
  },
  {
   "cell_type": "markdown",
   "id": "78d42032",
   "metadata": {},
   "source": [
    "## Operators\n",
    "\n",
    "<font color='gray' size=2><b>characters that perform special operations"
   ]
  },
  {
   "cell_type": "markdown",
   "id": "e493d089",
   "metadata": {},
   "source": [
    "more details in the next notebook"
   ]
  },
  {
   "cell_type": "markdown",
   "id": "c2c9867b",
   "metadata": {},
   "source": [
    "---"
   ]
  }
 ],
 "metadata": {
  "kernelspec": {
   "display_name": "Python [conda env:iocl-python-training]",
   "language": "python",
   "name": "conda-env-iocl-python-training-py"
  },
  "language_info": {
   "codemirror_mode": {
    "name": "ipython",
    "version": 3
   },
   "file_extension": ".py",
   "mimetype": "text/x-python",
   "name": "python",
   "nbconvert_exporter": "python",
   "pygments_lexer": "ipython3",
   "version": "3.9.7"
  },
  "toc": {
   "base_numbering": 1,
   "nav_menu": {},
   "number_sections": true,
   "sideBar": true,
   "skip_h1_title": false,
   "title_cell": "Table of Contents",
   "title_sidebar": "Contents",
   "toc_cell": false,
   "toc_position": {
    "height": "calc(100% - 180px)",
    "left": "10px",
    "top": "150px",
    "width": "222px"
   },
   "toc_section_display": true,
   "toc_window_display": true
  },
  "varInspector": {
   "cols": {
    "lenName": 16,
    "lenType": 16,
    "lenVar": 40
   },
   "kernels_config": {
    "python": {
     "delete_cmd_postfix": "",
     "delete_cmd_prefix": "del ",
     "library": "var_list.py",
     "varRefreshCmd": "print(var_dic_list())"
    },
    "r": {
     "delete_cmd_postfix": ") ",
     "delete_cmd_prefix": "rm(",
     "library": "var_list.r",
     "varRefreshCmd": "cat(var_dic_list()) "
    }
   },
   "types_to_exclude": [
    "module",
    "function",
    "builtin_function_or_method",
    "instance",
    "_Feature"
   ],
   "window_display": false
  }
 },
 "nbformat": 4,
 "nbformat_minor": 5
}
