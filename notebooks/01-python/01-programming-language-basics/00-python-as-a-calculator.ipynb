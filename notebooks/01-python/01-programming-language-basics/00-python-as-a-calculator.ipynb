{
 "cells": [
  {
   "cell_type": "markdown",
   "id": "39249e0f",
   "metadata": {},
   "source": [
    "# Python as a Calculator"
   ]
  },
  {
   "cell_type": "markdown",
   "id": "dd1e0ae5",
   "metadata": {},
   "source": [
    "## Basic Arithmetic Operations"
   ]
  },
  {
   "cell_type": "code",
   "execution_count": 1,
   "id": "172e4498",
   "metadata": {
    "ExecuteTime": {
     "end_time": "2021-10-25T12:37:32.850743Z",
     "start_time": "2021-10-25T12:37:32.823741Z"
    }
   },
   "outputs": [
    {
     "data": {
      "text/plain": [
       "4"
      ]
     },
     "execution_count": 1,
     "metadata": {},
     "output_type": "execute_result"
    }
   ],
   "source": [
    "2+2"
   ]
  },
  {
   "cell_type": "code",
   "execution_count": 2,
   "id": "3a9744ed",
   "metadata": {
    "ExecuteTime": {
     "end_time": "2021-10-25T12:37:32.866743Z",
     "start_time": "2021-10-25T12:37:32.853741Z"
    }
   },
   "outputs": [
    {
     "data": {
      "text/plain": [
       "1"
      ]
     },
     "execution_count": 2,
     "metadata": {},
     "output_type": "execute_result"
    }
   ],
   "source": [
    "5-4"
   ]
  },
  {
   "cell_type": "code",
   "execution_count": 3,
   "id": "4258b380",
   "metadata": {
    "ExecuteTime": {
     "end_time": "2021-10-25T12:37:32.882744Z",
     "start_time": "2021-10-25T12:37:32.872764Z"
    }
   },
   "outputs": [
    {
     "data": {
      "text/plain": [
       "3.5"
      ]
     },
     "execution_count": 3,
     "metadata": {},
     "output_type": "execute_result"
    }
   ],
   "source": [
    "7/2"
   ]
  },
  {
   "cell_type": "code",
   "execution_count": 4,
   "id": "128c4c9a",
   "metadata": {
    "ExecuteTime": {
     "end_time": "2021-10-25T12:37:32.897741Z",
     "start_time": "2021-10-25T12:37:32.886741Z"
    }
   },
   "outputs": [
    {
     "data": {
      "text/plain": [
       "56"
      ]
     },
     "execution_count": 4,
     "metadata": {},
     "output_type": "execute_result"
    }
   ],
   "source": [
    "7*8"
   ]
  },
  {
   "cell_type": "code",
   "execution_count": 5,
   "id": "4989c8a7",
   "metadata": {
    "ExecuteTime": {
     "end_time": "2021-10-25T12:37:32.912746Z",
     "start_time": "2021-10-25T12:37:32.900742Z"
    }
   },
   "outputs": [
    {
     "data": {
      "text/plain": [
       "11.5"
      ]
     },
     "execution_count": 5,
     "metadata": {},
     "output_type": "execute_result"
    }
   ],
   "source": [
    "23/2"
   ]
  },
  {
   "cell_type": "markdown",
   "id": "13b975cc",
   "metadata": {},
   "source": [
    "## Remainders"
   ]
  },
  {
   "cell_type": "code",
   "execution_count": 6,
   "id": "3698d4ea",
   "metadata": {
    "ExecuteTime": {
     "end_time": "2021-10-25T12:37:32.927741Z",
     "start_time": "2021-10-25T12:37:32.915744Z"
    }
   },
   "outputs": [
    {
     "data": {
      "text/plain": [
       "1"
      ]
     },
     "execution_count": 6,
     "metadata": {},
     "output_type": "execute_result"
    }
   ],
   "source": [
    "23 % 2"
   ]
  },
  {
   "cell_type": "code",
   "execution_count": 7,
   "id": "a4d91f6b",
   "metadata": {
    "ExecuteTime": {
     "end_time": "2021-10-25T12:37:32.943739Z",
     "start_time": "2021-10-25T12:37:32.930741Z"
    }
   },
   "outputs": [
    {
     "data": {
      "text/plain": [
       "3"
      ]
     },
     "execution_count": 7,
     "metadata": {},
     "output_type": "execute_result"
    }
   ],
   "source": [
    "24 % 7"
   ]
  },
  {
   "cell_type": "markdown",
   "id": "32330adb",
   "metadata": {},
   "source": [
    "## Exponents"
   ]
  },
  {
   "cell_type": "code",
   "execution_count": 8,
   "id": "211e68a4",
   "metadata": {
    "ExecuteTime": {
     "end_time": "2021-10-25T12:37:32.959741Z",
     "start_time": "2021-10-25T12:37:32.946740Z"
    }
   },
   "outputs": [
    {
     "data": {
      "text/plain": [
       "8"
      ]
     },
     "execution_count": 8,
     "metadata": {},
     "output_type": "execute_result"
    }
   ],
   "source": [
    "2 ** 3"
   ]
  },
  {
   "cell_type": "markdown",
   "id": "b30336ce",
   "metadata": {},
   "source": [
    "# `print` function"
   ]
  },
  {
   "cell_type": "code",
   "execution_count": 9,
   "id": "ba79a99d",
   "metadata": {
    "ExecuteTime": {
     "end_time": "2021-10-25T12:37:32.975739Z",
     "start_time": "2021-10-25T12:37:32.967741Z"
    }
   },
   "outputs": [
    {
     "name": "stdout",
     "output_type": "stream",
     "text": [
      "\n"
     ]
    }
   ],
   "source": [
    "print()"
   ]
  },
  {
   "cell_type": "code",
   "execution_count": 10,
   "id": "cf3d708a",
   "metadata": {
    "ExecuteTime": {
     "end_time": "2021-10-25T12:37:32.991744Z",
     "start_time": "2021-10-25T12:37:32.978751Z"
    }
   },
   "outputs": [
    {
     "name": "stdout",
     "output_type": "stream",
     "text": [
      "2\n"
     ]
    }
   ],
   "source": [
    "print(2)"
   ]
  },
  {
   "cell_type": "code",
   "execution_count": 11,
   "id": "c4ec36a6",
   "metadata": {
    "ExecuteTime": {
     "end_time": "2021-10-25T12:37:33.007742Z",
     "start_time": "2021-10-25T12:37:32.993744Z"
    },
    "scrolled": true
   },
   "outputs": [
    {
     "name": "stdout",
     "output_type": "stream",
     "text": [
      "1 2 45 3.14\n"
     ]
    }
   ],
   "source": [
    "print(1, 2, 45, 3.14)"
   ]
  },
  {
   "cell_type": "code",
   "execution_count": 12,
   "id": "6dd5f05a",
   "metadata": {
    "ExecuteTime": {
     "end_time": "2021-10-25T12:37:33.023744Z",
     "start_time": "2021-10-25T12:37:33.011761Z"
    }
   },
   "outputs": [
    {
     "name": "stdout",
     "output_type": "stream",
     "text": [
      "3.14 Tushar Anand 23\n"
     ]
    }
   ],
   "source": [
    "print(3.14, \"Tushar\", 'Anand', 23)"
   ]
  },
  {
   "cell_type": "markdown",
   "id": "81114a2b",
   "metadata": {},
   "source": [
    "# Variables"
   ]
  },
  {
   "cell_type": "markdown",
   "id": "4f14bc34",
   "metadata": {},
   "source": [
    "assignment operator `=` : \n",
    "> Puts things on the Right to the Left"
   ]
  },
  {
   "cell_type": "code",
   "execution_count": 13,
   "id": "b93ebf18",
   "metadata": {
    "ExecuteTime": {
     "end_time": "2021-10-25T12:37:33.039742Z",
     "start_time": "2021-10-25T12:37:33.026744Z"
    }
   },
   "outputs": [],
   "source": [
    "a = 3\n",
    "name = \"Tushar Anand\"\n",
    "age = 10\n",
    "salary = 3.14\n",
    "alive = False\n",
    "b = 5\n",
    "\n",
    "c = a + b\n",
    "d = c ** 2"
   ]
  },
  {
   "cell_type": "code",
   "execution_count": 14,
   "id": "22f16666",
   "metadata": {
    "ExecuteTime": {
     "end_time": "2021-10-25T12:37:33.055753Z",
     "start_time": "2021-10-25T12:37:33.042746Z"
    }
   },
   "outputs": [
    {
     "name": "stdout",
     "output_type": "stream",
     "text": [
      "3\n"
     ]
    }
   ],
   "source": [
    "print(a)"
   ]
  },
  {
   "cell_type": "code",
   "execution_count": 15,
   "id": "b7f9c4f8",
   "metadata": {
    "ExecuteTime": {
     "end_time": "2021-10-25T12:37:33.071742Z",
     "start_time": "2021-10-25T12:37:33.058743Z"
    }
   },
   "outputs": [
    {
     "name": "stdout",
     "output_type": "stream",
     "text": [
      "64\n"
     ]
    }
   ],
   "source": [
    "print(d)"
   ]
  },
  {
   "cell_type": "code",
   "execution_count": 16,
   "id": "68c82d60",
   "metadata": {
    "ExecuteTime": {
     "end_time": "2021-10-25T12:37:33.087741Z",
     "start_time": "2021-10-25T12:37:33.074746Z"
    }
   },
   "outputs": [
    {
     "name": "stdout",
     "output_type": "stream",
     "text": [
      "Tushar Anand\n"
     ]
    }
   ],
   "source": [
    "print(name)"
   ]
  },
  {
   "cell_type": "markdown",
   "id": "f848b6eb",
   "metadata": {},
   "source": [
    "# Comments\n",
    "\n",
    "non-executable descriptions\n",
    "\n",
    "Comments in Python start with a `#`"
   ]
  },
  {
   "cell_type": "code",
   "execution_count": 17,
   "id": "542bc82d",
   "metadata": {
    "ExecuteTime": {
     "end_time": "2021-10-25T12:37:33.103738Z",
     "start_time": "2021-10-25T12:37:33.089742Z"
    }
   },
   "outputs": [],
   "source": [
    "# this will work\n",
    "x = \"\"\"import\"\"\""
   ]
  },
  {
   "cell_type": "code",
   "execution_count": 18,
   "id": "7096efd6",
   "metadata": {
    "ExecuteTime": {
     "end_time": "2021-10-25T12:37:33.119739Z",
     "start_time": "2021-10-25T12:37:33.106742Z"
    }
   },
   "outputs": [
    {
     "ename": "SyntaxError",
     "evalue": "invalid syntax (Temp/ipykernel_14684/2783059994.py, line 2)",
     "output_type": "error",
     "traceback": [
      "\u001b[1;36m  File \u001b[1;32m\"C:\\Users\\TUSHAR~1\\AppData\\Local\\Temp/ipykernel_14684/2783059994.py\"\u001b[1;36m, line \u001b[1;32m2\u001b[0m\n\u001b[1;33m    x = import\u001b[0m\n\u001b[1;37m        ^\u001b[0m\n\u001b[1;31mSyntaxError\u001b[0m\u001b[1;31m:\u001b[0m invalid syntax\n"
     ]
    }
   ],
   "source": [
    "# this will fail, 'import' is a keyword\n",
    "x = import"
   ]
  },
  {
   "cell_type": "markdown",
   "id": "f14c6c67",
   "metadata": {},
   "source": [
    "# Escape Character `\\`"
   ]
  },
  {
   "cell_type": "markdown",
   "id": "c0dff91a",
   "metadata": {},
   "source": [
    "## `triple quotes` vs `single/double quotes`"
   ]
  },
  {
   "cell_type": "markdown",
   "id": "f90ffa5f",
   "metadata": {},
   "source": [
    "with single/double quotes"
   ]
  },
  {
   "cell_type": "code",
   "execution_count": 19,
   "id": "945d0fcf",
   "metadata": {
    "ExecuteTime": {
     "end_time": "2021-10-25T12:37:52.724192Z",
     "start_time": "2021-10-25T12:37:52.720184Z"
    }
   },
   "outputs": [],
   "source": [
    "email_message = \"Hi XYZ, \\\n",
    "\\\n",
    "This is with regards to sth.\\\n",
    "\\\n",
    "yours xyz\\\n",
    "\""
   ]
  },
  {
   "cell_type": "code",
   "execution_count": 20,
   "id": "a12151a2",
   "metadata": {
    "ExecuteTime": {
     "end_time": "2021-10-25T12:37:52.756233Z",
     "start_time": "2021-10-25T12:37:52.727180Z"
    }
   },
   "outputs": [
    {
     "name": "stdout",
     "output_type": "stream",
     "text": [
      "Hi XYZ, This is with regards to sth.yours xyz\n"
     ]
    }
   ],
   "source": [
    "print(email_message)"
   ]
  },
  {
   "cell_type": "markdown",
   "id": "41878a6c",
   "metadata": {},
   "source": [
    "with triple quotes"
   ]
  },
  {
   "cell_type": "code",
   "execution_count": 21,
   "id": "e9da4c15",
   "metadata": {
    "ExecuteTime": {
     "end_time": "2021-10-25T12:37:52.772275Z",
     "start_time": "2021-10-25T12:37:52.758233Z"
    }
   },
   "outputs": [],
   "source": [
    "email_message = \"\"\"Hi XYZ, \n",
    "\n",
    "This is with regards to sth.\n",
    "\n",
    "yours xyz\n",
    "\"\"\""
   ]
  },
  {
   "cell_type": "code",
   "execution_count": 22,
   "id": "fb815659",
   "metadata": {
    "ExecuteTime": {
     "end_time": "2021-10-25T12:37:52.788235Z",
     "start_time": "2021-10-25T12:37:52.773229Z"
    }
   },
   "outputs": [
    {
     "name": "stdout",
     "output_type": "stream",
     "text": [
      "Hi XYZ, \n",
      "\n",
      "This is with regards to sth.\n",
      "\n",
      "yours xyz\n",
      "\n"
     ]
    }
   ],
   "source": [
    "print(email_message)"
   ]
  },
  {
   "cell_type": "markdown",
   "id": "7f299089",
   "metadata": {},
   "source": [
    "## Line Breaks with `\\n`"
   ]
  },
  {
   "cell_type": "code",
   "execution_count": null,
   "id": "78b20b56",
   "metadata": {},
   "outputs": [],
   "source": []
  },
  {
   "cell_type": "markdown",
   "id": "4c5be4e0",
   "metadata": {},
   "source": [
    "---"
   ]
  }
 ],
 "metadata": {
  "kernelspec": {
   "display_name": "Python [conda env:iocl-python-training]",
   "language": "python",
   "name": "conda-env-iocl-python-training-py"
  },
  "language_info": {
   "codemirror_mode": {
    "name": "ipython",
    "version": 3
   },
   "file_extension": ".py",
   "mimetype": "text/x-python",
   "name": "python",
   "nbconvert_exporter": "python",
   "pygments_lexer": "ipython3",
   "version": "3.9.7"
  },
  "toc": {
   "base_numbering": 1,
   "nav_menu": {},
   "number_sections": true,
   "sideBar": true,
   "skip_h1_title": false,
   "title_cell": "Table of Contents",
   "title_sidebar": "Contents",
   "toc_cell": false,
   "toc_position": {},
   "toc_section_display": true,
   "toc_window_display": false
  },
  "varInspector": {
   "cols": {
    "lenName": 16,
    "lenType": 16,
    "lenVar": 40
   },
   "kernels_config": {
    "python": {
     "delete_cmd_postfix": "",
     "delete_cmd_prefix": "del ",
     "library": "var_list.py",
     "varRefreshCmd": "print(var_dic_list())"
    },
    "r": {
     "delete_cmd_postfix": ") ",
     "delete_cmd_prefix": "rm(",
     "library": "var_list.r",
     "varRefreshCmd": "cat(var_dic_list()) "
    }
   },
   "types_to_exclude": [
    "module",
    "function",
    "builtin_function_or_method",
    "instance",
    "_Feature"
   ],
   "window_display": false
  }
 },
 "nbformat": 4,
 "nbformat_minor": 5
}
