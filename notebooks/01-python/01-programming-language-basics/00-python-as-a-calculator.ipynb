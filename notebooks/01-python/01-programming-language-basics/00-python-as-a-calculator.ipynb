{
 "cells": [
  {
   "cell_type": "markdown",
   "id": "39249e0f",
   "metadata": {},
   "source": [
    "# Python as a Calculator"
   ]
  },
  {
   "cell_type": "markdown",
   "id": "dd1e0ae5",
   "metadata": {},
   "source": [
    "## Arithmetic Operations"
   ]
  },
  {
   "cell_type": "code",
   "execution_count": 5,
   "id": "172e4498",
   "metadata": {
    "ExecuteTime": {
     "end_time": "2021-10-25T06:13:50.729761Z",
     "start_time": "2021-10-25T06:13:50.720760Z"
    }
   },
   "outputs": [
    {
     "data": {
      "text/plain": [
       "4"
      ]
     },
     "execution_count": 5,
     "metadata": {},
     "output_type": "execute_result"
    }
   ],
   "source": [
    "2+2"
   ]
  },
  {
   "cell_type": "code",
   "execution_count": 2,
   "id": "3a9744ed",
   "metadata": {
    "ExecuteTime": {
     "end_time": "2021-10-25T06:13:05.189454Z",
     "start_time": "2021-10-25T06:13:05.177450Z"
    }
   },
   "outputs": [
    {
     "data": {
      "text/plain": [
       "1"
      ]
     },
     "execution_count": 2,
     "metadata": {},
     "output_type": "execute_result"
    }
   ],
   "source": [
    "5-4"
   ]
  },
  {
   "cell_type": "code",
   "execution_count": 3,
   "id": "4258b380",
   "metadata": {
    "ExecuteTime": {
     "end_time": "2021-10-25T06:13:15.669747Z",
     "start_time": "2021-10-25T06:13:15.660735Z"
    }
   },
   "outputs": [
    {
     "data": {
      "text/plain": [
       "3.5"
      ]
     },
     "execution_count": 3,
     "metadata": {},
     "output_type": "execute_result"
    }
   ],
   "source": [
    "7/2"
   ]
  },
  {
   "cell_type": "code",
   "execution_count": 4,
   "id": "128c4c9a",
   "metadata": {
    "ExecuteTime": {
     "end_time": "2021-10-25T06:13:19.640742Z",
     "start_time": "2021-10-25T06:13:19.632747Z"
    }
   },
   "outputs": [
    {
     "data": {
      "text/plain": [
       "56"
      ]
     },
     "execution_count": 4,
     "metadata": {},
     "output_type": "execute_result"
    }
   ],
   "source": [
    "7*8"
   ]
  },
  {
   "cell_type": "code",
   "execution_count": 6,
   "id": "4989c8a7",
   "metadata": {
    "ExecuteTime": {
     "end_time": "2021-10-25T06:14:05.322652Z",
     "start_time": "2021-10-25T06:14:05.315641Z"
    }
   },
   "outputs": [
    {
     "data": {
      "text/plain": [
       "11.5"
      ]
     },
     "execution_count": 6,
     "metadata": {},
     "output_type": "execute_result"
    }
   ],
   "source": [
    "23/2"
   ]
  },
  {
   "cell_type": "markdown",
   "id": "13b975cc",
   "metadata": {},
   "source": [
    "## remainders"
   ]
  },
  {
   "cell_type": "code",
   "execution_count": 7,
   "id": "3698d4ea",
   "metadata": {
    "ExecuteTime": {
     "end_time": "2021-10-25T06:14:31.601750Z",
     "start_time": "2021-10-25T06:14:31.590749Z"
    }
   },
   "outputs": [
    {
     "data": {
      "text/plain": [
       "1"
      ]
     },
     "execution_count": 7,
     "metadata": {},
     "output_type": "execute_result"
    }
   ],
   "source": [
    "23 % 2"
   ]
  },
  {
   "cell_type": "code",
   "execution_count": 8,
   "id": "a4d91f6b",
   "metadata": {
    "ExecuteTime": {
     "end_time": "2021-10-25T06:15:14.244083Z",
     "start_time": "2021-10-25T06:15:14.237082Z"
    }
   },
   "outputs": [
    {
     "data": {
      "text/plain": [
       "3"
      ]
     },
     "execution_count": 8,
     "metadata": {},
     "output_type": "execute_result"
    }
   ],
   "source": [
    "24 % 7"
   ]
  },
  {
   "cell_type": "markdown",
   "id": "32330adb",
   "metadata": {},
   "source": [
    "## exponents"
   ]
  },
  {
   "cell_type": "code",
   "execution_count": 9,
   "id": "211e68a4",
   "metadata": {
    "ExecuteTime": {
     "end_time": "2021-10-25T06:16:30.736476Z",
     "start_time": "2021-10-25T06:16:30.725473Z"
    }
   },
   "outputs": [
    {
     "data": {
      "text/plain": [
       "8"
      ]
     },
     "execution_count": 9,
     "metadata": {},
     "output_type": "execute_result"
    }
   ],
   "source": [
    "2 ** 3"
   ]
  },
  {
   "cell_type": "markdown",
   "id": "b30336ce",
   "metadata": {},
   "source": [
    "# `print` function"
   ]
  },
  {
   "cell_type": "code",
   "execution_count": 10,
   "id": "ba79a99d",
   "metadata": {
    "ExecuteTime": {
     "end_time": "2021-10-25T06:27:44.926886Z",
     "start_time": "2021-10-25T06:27:44.918874Z"
    }
   },
   "outputs": [
    {
     "name": "stdout",
     "output_type": "stream",
     "text": [
      "\n"
     ]
    }
   ],
   "source": [
    "print()"
   ]
  },
  {
   "cell_type": "code",
   "execution_count": 11,
   "id": "cf3d708a",
   "metadata": {
    "ExecuteTime": {
     "end_time": "2021-10-25T06:32:47.596700Z",
     "start_time": "2021-10-25T06:32:47.585704Z"
    }
   },
   "outputs": [
    {
     "name": "stdout",
     "output_type": "stream",
     "text": [
      "2\n"
     ]
    }
   ],
   "source": [
    "print(2)"
   ]
  },
  {
   "cell_type": "code",
   "execution_count": 12,
   "id": "c4ec36a6",
   "metadata": {
    "ExecuteTime": {
     "end_time": "2021-10-25T06:33:26.178209Z",
     "start_time": "2021-10-25T06:33:26.168207Z"
    },
    "scrolled": true
   },
   "outputs": [
    {
     "name": "stdout",
     "output_type": "stream",
     "text": [
      "1 2 45 3.14\n"
     ]
    }
   ],
   "source": [
    "print(1, 2, 45, 3.14)"
   ]
  },
  {
   "cell_type": "code",
   "execution_count": 15,
   "id": "6dd5f05a",
   "metadata": {
    "ExecuteTime": {
     "end_time": "2021-10-25T06:37:34.255853Z",
     "start_time": "2021-10-25T06:37:34.248854Z"
    }
   },
   "outputs": [
    {
     "name": "stdout",
     "output_type": "stream",
     "text": [
      "3.14 Tushar Anand 23\n"
     ]
    }
   ],
   "source": [
    "print(3.14, \"Tushar\", 'Anand', 23)"
   ]
  },
  {
   "cell_type": "markdown",
   "id": "81114a2b",
   "metadata": {},
   "source": [
    "# Variables"
   ]
  },
  {
   "cell_type": "markdown",
   "id": "4f14bc34",
   "metadata": {},
   "source": [
    "assignment operator `=` : \n",
    "> Puts things on the Right to the Left"
   ]
  },
  {
   "cell_type": "code",
   "execution_count": 23,
   "id": "b93ebf18",
   "metadata": {
    "ExecuteTime": {
     "end_time": "2021-10-25T07:58:52.054962Z",
     "start_time": "2021-10-25T07:58:52.047960Z"
    }
   },
   "outputs": [],
   "source": [
    "vdnvklszenvkl = 3\n",
    "name = \"Tushar Anand\"\n",
    "age = 10\n",
    "salary = 3.14\n",
    "alive = False\n",
    "b = 5\n",
    "\n",
    "c = a + b\n",
    "d = c ** 2"
   ]
  },
  {
   "cell_type": "code",
   "execution_count": 19,
   "id": "22f16666",
   "metadata": {
    "ExecuteTime": {
     "end_time": "2021-10-25T07:31:52.006986Z",
     "start_time": "2021-10-25T07:31:52.000989Z"
    }
   },
   "outputs": [
    {
     "name": "stdout",
     "output_type": "stream",
     "text": [
      "3\n"
     ]
    }
   ],
   "source": [
    "print(a)"
   ]
  },
  {
   "cell_type": "code",
   "execution_count": 20,
   "id": "b7f9c4f8",
   "metadata": {
    "ExecuteTime": {
     "end_time": "2021-10-25T07:32:16.822133Z",
     "start_time": "2021-10-25T07:32:16.815130Z"
    }
   },
   "outputs": [
    {
     "name": "stdout",
     "output_type": "stream",
     "text": [
      "64\n"
     ]
    }
   ],
   "source": [
    "print(d)"
   ]
  },
  {
   "cell_type": "code",
   "execution_count": 21,
   "id": "68c82d60",
   "metadata": {
    "ExecuteTime": {
     "end_time": "2021-10-25T07:32:29.324081Z",
     "start_time": "2021-10-25T07:32:29.318080Z"
    }
   },
   "outputs": [
    {
     "name": "stdout",
     "output_type": "stream",
     "text": [
      "Tushar Anand\n"
     ]
    }
   ],
   "source": [
    "print(name)"
   ]
  },
  {
   "cell_type": "code",
   "execution_count": 27,
   "id": "71e1339e",
   "metadata": {
    "ExecuteTime": {
     "end_time": "2021-10-25T08:36:00.147188Z",
     "start_time": "2021-10-25T08:36:00.140186Z"
    }
   },
   "outputs": [],
   "source": [
    "x = \"\"\"import\"\"\""
   ]
  },
  {
   "cell_type": "code",
   "execution_count": 28,
   "id": "7096efd6",
   "metadata": {
    "ExecuteTime": {
     "end_time": "2021-10-25T08:36:02.786792Z",
     "start_time": "2021-10-25T08:36:02.779777Z"
    }
   },
   "outputs": [
    {
     "ename": "SyntaxError",
     "evalue": "invalid syntax (Temp/ipykernel_2452/2833490740.py, line 1)",
     "output_type": "error",
     "traceback": [
      "\u001b[1;36m  File \u001b[1;32m\"C:\\Users\\TUSHAR~1\\AppData\\Local\\Temp/ipykernel_2452/2833490740.py\"\u001b[1;36m, line \u001b[1;32m1\u001b[0m\n\u001b[1;33m    x = import\u001b[0m\n\u001b[1;37m        ^\u001b[0m\n\u001b[1;31mSyntaxError\u001b[0m\u001b[1;31m:\u001b[0m invalid syntax\n"
     ]
    }
   ],
   "source": [
    "# this will fail\n",
    "x = import"
   ]
  },
  {
   "cell_type": "markdown",
   "id": "f14c6c67",
   "metadata": {},
   "source": [
    "Escape Character `\\`"
   ]
  },
  {
   "cell_type": "code",
   "execution_count": 32,
   "id": "945d0fcf",
   "metadata": {
    "ExecuteTime": {
     "end_time": "2021-10-25T08:41:24.619500Z",
     "start_time": "2021-10-25T08:41:24.614500Z"
    }
   },
   "outputs": [],
   "source": [
    "email_message = \"Hi XYZ, \\\n",
    "\\\n",
    "This is with regards to sth.\\\n",
    "\\\n",
    "yours xyz\\\n",
    "\""
   ]
  },
  {
   "cell_type": "code",
   "execution_count": 33,
   "id": "a12151a2",
   "metadata": {
    "ExecuteTime": {
     "end_time": "2021-10-25T08:42:16.165154Z",
     "start_time": "2021-10-25T08:42:16.159094Z"
    }
   },
   "outputs": [
    {
     "name": "stdout",
     "output_type": "stream",
     "text": [
      "Hi XYZ, This is with regards to sth.yours xyz\n"
     ]
    }
   ],
   "source": [
    "print(email_message)"
   ]
  },
  {
   "cell_type": "code",
   "execution_count": 34,
   "id": "e9da4c15",
   "metadata": {
    "ExecuteTime": {
     "end_time": "2021-10-25T08:42:54.131558Z",
     "start_time": "2021-10-25T08:42:54.126376Z"
    }
   },
   "outputs": [],
   "source": [
    "email_message = \"\"\"Hi XYZ, \n",
    "\n",
    "This is with regards to sth.\n",
    "\n",
    "yours xyz\n",
    "\"\"\""
   ]
  },
  {
   "cell_type": "code",
   "execution_count": 37,
   "id": "fb815659",
   "metadata": {
    "ExecuteTime": {
     "end_time": "2021-10-25T08:43:10.476458Z",
     "start_time": "2021-10-25T08:43:10.469459Z"
    }
   },
   "outputs": [
    {
     "name": "stdout",
     "output_type": "stream",
     "text": [
      "Hi XYZ, \n",
      "\n",
      "This is with regards to sth.\n",
      "\n",
      "yours xyz\n",
      "\n"
     ]
    }
   ],
   "source": [
    "print(email_message)"
   ]
  }
 ],
 "metadata": {
  "kernelspec": {
   "display_name": "Python [conda env:iocl-python-training]",
   "language": "python",
   "name": "conda-env-iocl-python-training-py"
  },
  "language_info": {
   "codemirror_mode": {
    "name": "ipython",
    "version": 3
   },
   "file_extension": ".py",
   "mimetype": "text/x-python",
   "name": "python",
   "nbconvert_exporter": "python",
   "pygments_lexer": "ipython3",
   "version": "3.9.7"
  },
  "toc": {
   "base_numbering": 1,
   "nav_menu": {},
   "number_sections": true,
   "sideBar": true,
   "skip_h1_title": false,
   "title_cell": "Table of Contents",
   "title_sidebar": "Contents",
   "toc_cell": false,
   "toc_position": {},
   "toc_section_display": true,
   "toc_window_display": false
  },
  "varInspector": {
   "cols": {
    "lenName": 16,
    "lenType": 16,
    "lenVar": 40
   },
   "kernels_config": {
    "python": {
     "delete_cmd_postfix": "",
     "delete_cmd_prefix": "del ",
     "library": "var_list.py",
     "varRefreshCmd": "print(var_dic_list())"
    },
    "r": {
     "delete_cmd_postfix": ") ",
     "delete_cmd_prefix": "rm(",
     "library": "var_list.r",
     "varRefreshCmd": "cat(var_dic_list()) "
    }
   },
   "types_to_exclude": [
    "module",
    "function",
    "builtin_function_or_method",
    "instance",
    "_Feature"
   ],
   "window_display": false
  }
 },
 "nbformat": 4,
 "nbformat_minor": 5
}
