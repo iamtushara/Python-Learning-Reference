{
 "cells": [
  {
   "cell_type": "markdown",
   "id": "c374b8d4",
   "metadata": {},
   "source": [
    "# Python as a Calculator"
   ]
  },
  {
   "cell_type": "markdown",
   "id": "d562c9ed",
   "metadata": {},
   "source": [
    "## Arithmetic Operations"
   ]
  },
  {
   "cell_type": "code",
   "execution_count": 5,
   "id": "a3de1a83",
   "metadata": {
    "ExecuteTime": {
     "end_time": "2021-10-25T06:13:50.729761Z",
     "start_time": "2021-10-25T06:13:50.720760Z"
    }
   },
   "outputs": [
    {
     "data": {
      "text/plain": [
       "4"
      ]
     },
     "execution_count": 5,
     "metadata": {},
     "output_type": "execute_result"
    }
   ],
   "source": [
    "2+2"
   ]
  },
  {
   "cell_type": "code",
   "execution_count": 2,
   "id": "e6e36b61",
   "metadata": {
    "ExecuteTime": {
     "end_time": "2021-10-25T06:13:05.189454Z",
     "start_time": "2021-10-25T06:13:05.177450Z"
    }
   },
   "outputs": [
    {
     "data": {
      "text/plain": [
       "1"
      ]
     },
     "execution_count": 2,
     "metadata": {},
     "output_type": "execute_result"
    }
   ],
   "source": [
    "5-4"
   ]
  },
  {
   "cell_type": "code",
   "execution_count": 3,
   "id": "2fd313d8",
   "metadata": {
    "ExecuteTime": {
     "end_time": "2021-10-25T06:13:15.669747Z",
     "start_time": "2021-10-25T06:13:15.660735Z"
    }
   },
   "outputs": [
    {
     "data": {
      "text/plain": [
       "3.5"
      ]
     },
     "execution_count": 3,
     "metadata": {},
     "output_type": "execute_result"
    }
   ],
   "source": [
    "7/2"
   ]
  },
  {
   "cell_type": "code",
   "execution_count": 4,
   "id": "6f8d6791",
   "metadata": {
    "ExecuteTime": {
     "end_time": "2021-10-25T06:13:19.640742Z",
     "start_time": "2021-10-25T06:13:19.632747Z"
    }
   },
   "outputs": [
    {
     "data": {
      "text/plain": [
       "56"
      ]
     },
     "execution_count": 4,
     "metadata": {},
     "output_type": "execute_result"
    }
   ],
   "source": [
    "7*8"
   ]
  },
  {
   "cell_type": "code",
   "execution_count": 6,
   "id": "3c87d898",
   "metadata": {
    "ExecuteTime": {
     "end_time": "2021-10-25T06:14:05.322652Z",
     "start_time": "2021-10-25T06:14:05.315641Z"
    }
   },
   "outputs": [
    {
     "data": {
      "text/plain": [
       "11.5"
      ]
     },
     "execution_count": 6,
     "metadata": {},
     "output_type": "execute_result"
    }
   ],
   "source": [
    "23/2"
   ]
  },
  {
   "cell_type": "markdown",
   "id": "b974b62c",
   "metadata": {},
   "source": [
    "## remainders"
   ]
  },
  {
   "cell_type": "code",
   "execution_count": 7,
   "id": "b1f88603",
   "metadata": {
    "ExecuteTime": {
     "end_time": "2021-10-25T06:14:31.601750Z",
     "start_time": "2021-10-25T06:14:31.590749Z"
    }
   },
   "outputs": [
    {
     "data": {
      "text/plain": [
       "1"
      ]
     },
     "execution_count": 7,
     "metadata": {},
     "output_type": "execute_result"
    }
   ],
   "source": [
    "23 % 2"
   ]
  },
  {
   "cell_type": "code",
   "execution_count": 8,
   "id": "0083806e",
   "metadata": {
    "ExecuteTime": {
     "end_time": "2021-10-25T06:15:14.244083Z",
     "start_time": "2021-10-25T06:15:14.237082Z"
    }
   },
   "outputs": [
    {
     "data": {
      "text/plain": [
       "3"
      ]
     },
     "execution_count": 8,
     "metadata": {},
     "output_type": "execute_result"
    }
   ],
   "source": [
    "24 % 7"
   ]
  },
  {
   "cell_type": "markdown",
   "id": "5beb1ef6",
   "metadata": {},
   "source": [
    "## exponents"
   ]
  },
  {
   "cell_type": "code",
   "execution_count": 9,
   "id": "8b83e559",
   "metadata": {
    "ExecuteTime": {
     "end_time": "2021-10-25T06:16:30.736476Z",
     "start_time": "2021-10-25T06:16:30.725473Z"
    }
   },
   "outputs": [
    {
     "data": {
      "text/plain": [
       "8"
      ]
     },
     "execution_count": 9,
     "metadata": {},
     "output_type": "execute_result"
    }
   ],
   "source": [
    "2 ** 3"
   ]
  },
  {
   "cell_type": "markdown",
   "id": "ce80146e",
   "metadata": {},
   "source": [
    "# `print` function"
   ]
  },
  {
   "cell_type": "code",
   "execution_count": 10,
   "id": "75491126",
   "metadata": {
    "ExecuteTime": {
     "end_time": "2021-10-25T06:27:44.926886Z",
     "start_time": "2021-10-25T06:27:44.918874Z"
    }
   },
   "outputs": [
    {
     "name": "stdout",
     "output_type": "stream",
     "text": [
      "\n"
     ]
    }
   ],
   "source": [
    "print()"
   ]
  },
  {
   "cell_type": "code",
   "execution_count": 11,
   "id": "6be16295",
   "metadata": {
    "ExecuteTime": {
     "end_time": "2021-10-25T06:32:47.596700Z",
     "start_time": "2021-10-25T06:32:47.585704Z"
    }
   },
   "outputs": [
    {
     "name": "stdout",
     "output_type": "stream",
     "text": [
      "2\n"
     ]
    }
   ],
   "source": [
    "print(2)"
   ]
  },
  {
   "cell_type": "code",
   "execution_count": 12,
   "id": "2c42f489",
   "metadata": {
    "ExecuteTime": {
     "end_time": "2021-10-25T06:33:26.178209Z",
     "start_time": "2021-10-25T06:33:26.168207Z"
    },
    "scrolled": true
   },
   "outputs": [
    {
     "name": "stdout",
     "output_type": "stream",
     "text": [
      "1 2 45 3.14\n"
     ]
    }
   ],
   "source": [
    "print(1, 2, 45, 3.14)"
   ]
  },
  {
   "cell_type": "code",
   "execution_count": 15,
   "id": "4df9d838",
   "metadata": {
    "ExecuteTime": {
     "end_time": "2021-10-25T06:37:34.255853Z",
     "start_time": "2021-10-25T06:37:34.248854Z"
    }
   },
   "outputs": [
    {
     "name": "stdout",
     "output_type": "stream",
     "text": [
      "3.14 Tushar Anand 23\n"
     ]
    }
   ],
   "source": [
    "print(3.14, \"Tushar\", 'Anand', 23)"
   ]
  }
 ],
 "metadata": {
  "kernelspec": {
   "display_name": "Python [conda env:iocl-python-training]",
   "language": "python",
   "name": "conda-env-iocl-python-training-py"
  },
  "language_info": {
   "codemirror_mode": {
    "name": "ipython",
    "version": 3
   },
   "file_extension": ".py",
   "mimetype": "text/x-python",
   "name": "python",
   "nbconvert_exporter": "python",
   "pygments_lexer": "ipython3",
   "version": "3.9.7"
  },
  "toc": {
   "base_numbering": 1,
   "nav_menu": {},
   "number_sections": true,
   "sideBar": true,
   "skip_h1_title": false,
   "title_cell": "Table of Contents",
   "title_sidebar": "Contents",
   "toc_cell": false,
   "toc_position": {},
   "toc_section_display": true,
   "toc_window_display": false
  },
  "varInspector": {
   "cols": {
    "lenName": 16,
    "lenType": 16,
    "lenVar": 40
   },
   "kernels_config": {
    "python": {
     "delete_cmd_postfix": "",
     "delete_cmd_prefix": "del ",
     "library": "var_list.py",
     "varRefreshCmd": "print(var_dic_list())"
    },
    "r": {
     "delete_cmd_postfix": ") ",
     "delete_cmd_prefix": "rm(",
     "library": "var_list.r",
     "varRefreshCmd": "cat(var_dic_list()) "
    }
   },
   "types_to_exclude": [
    "module",
    "function",
    "builtin_function_or_method",
    "instance",
    "_Feature"
   ],
   "window_display": false
  }
 },
 "nbformat": 4,
 "nbformat_minor": 5
}
