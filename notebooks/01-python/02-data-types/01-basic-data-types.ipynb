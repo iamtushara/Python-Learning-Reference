{
 "cells": [
  {
   "cell_type": "markdown",
   "id": "936f0337",
   "metadata": {},
   "source": [
    "# Basic data-types in python\n",
    "\n",
    "<font color=gray size=3><b>Introduction to the basic data-types in Python"
   ]
  },
  {
   "cell_type": "markdown",
   "id": "50b4f87b",
   "metadata": {},
   "source": [
    "## Numbers"
   ]
  },
  {
   "cell_type": "markdown",
   "id": "3b4377c3",
   "metadata": {},
   "source": [
    "### Integer"
   ]
  },
  {
   "cell_type": "code",
   "execution_count": 1,
   "id": "b46e738d",
   "metadata": {
    "ExecuteTime": {
     "end_time": "2021-10-26T07:26:00.105983Z",
     "start_time": "2021-10-26T07:26:00.096987Z"
    }
   },
   "outputs": [],
   "source": [
    "a = 12\n",
    "b = -1\n",
    "c = 1000000000"
   ]
  },
  {
   "cell_type": "code",
   "execution_count": 2,
   "id": "e304da00",
   "metadata": {
    "ExecuteTime": {
     "end_time": "2021-10-26T07:26:00.119987Z",
     "start_time": "2021-10-26T07:26:00.110984Z"
    },
    "scrolled": true
   },
   "outputs": [
    {
     "name": "stdout",
     "output_type": "stream",
     "text": [
      "12 -1 1000000000\n"
     ]
    }
   ],
   "source": [
    "print(a, b, c)"
   ]
  },
  {
   "cell_type": "code",
   "execution_count": 3,
   "id": "b04e6d08",
   "metadata": {
    "ExecuteTime": {
     "end_time": "2021-10-26T07:26:00.129982Z",
     "start_time": "2021-10-26T07:26:00.123983Z"
    }
   },
   "outputs": [
    {
     "name": "stdout",
     "output_type": "stream",
     "text": [
      "<class 'int'>\n"
     ]
    }
   ],
   "source": [
    "print(type(1))"
   ]
  },
  {
   "cell_type": "code",
   "execution_count": 4,
   "id": "3c8f0bb2",
   "metadata": {
    "ExecuteTime": {
     "end_time": "2021-10-26T07:26:00.138989Z",
     "start_time": "2021-10-26T07:26:00.132982Z"
    }
   },
   "outputs": [
    {
     "name": "stdout",
     "output_type": "stream",
     "text": [
      "<class 'int'>\n"
     ]
    }
   ],
   "source": [
    "print(type(b))"
   ]
  },
  {
   "cell_type": "markdown",
   "id": "0d198db8",
   "metadata": {},
   "source": [
    "### Floats"
   ]
  },
  {
   "cell_type": "code",
   "execution_count": 5,
   "id": "07abe952",
   "metadata": {
    "ExecuteTime": {
     "end_time": "2021-10-26T07:26:00.147982Z",
     "start_time": "2021-10-26T07:26:00.141983Z"
    }
   },
   "outputs": [],
   "source": [
    "pi = 3.14"
   ]
  },
  {
   "cell_type": "code",
   "execution_count": 6,
   "id": "3353b090",
   "metadata": {
    "ExecuteTime": {
     "end_time": "2021-10-26T07:26:00.155985Z",
     "start_time": "2021-10-26T07:26:00.150982Z"
    }
   },
   "outputs": [],
   "source": [
    "salary = 100.12"
   ]
  },
  {
   "cell_type": "code",
   "execution_count": 7,
   "id": "e51c94d3",
   "metadata": {
    "ExecuteTime": {
     "end_time": "2021-10-26T07:26:00.164982Z",
     "start_time": "2021-10-26T07:26:00.159982Z"
    }
   },
   "outputs": [
    {
     "name": "stdout",
     "output_type": "stream",
     "text": [
      "<class 'float'>\n"
     ]
    }
   ],
   "source": [
    "print(type(pi))"
   ]
  },
  {
   "cell_type": "markdown",
   "id": "101557f5",
   "metadata": {},
   "source": [
    "## Strings"
   ]
  },
  {
   "cell_type": "code",
   "execution_count": 8,
   "id": "efd821d0",
   "metadata": {
    "ExecuteTime": {
     "end_time": "2021-10-26T07:26:00.173983Z",
     "start_time": "2021-10-26T07:26:00.168980Z"
    }
   },
   "outputs": [],
   "source": [
    "name = \"Amit Verma\""
   ]
  },
  {
   "cell_type": "code",
   "execution_count": 9,
   "id": "29e708e0",
   "metadata": {
    "ExecuteTime": {
     "end_time": "2021-10-26T07:26:00.184983Z",
     "start_time": "2021-10-26T07:26:00.176980Z"
    }
   },
   "outputs": [
    {
     "name": "stdout",
     "output_type": "stream",
     "text": [
      "<class 'str'>\n"
     ]
    }
   ],
   "source": [
    "print(type(name))"
   ]
  },
  {
   "cell_type": "markdown",
   "id": "b0710f32",
   "metadata": {},
   "source": [
    "## Boolean"
   ]
  },
  {
   "cell_type": "code",
   "execution_count": 10,
   "id": "4c107432",
   "metadata": {
    "ExecuteTime": {
     "end_time": "2021-10-26T07:26:00.193980Z",
     "start_time": "2021-10-26T07:26:00.187982Z"
    }
   },
   "outputs": [],
   "source": [
    "active = False\n",
    "sleeping = True"
   ]
  },
  {
   "cell_type": "code",
   "execution_count": 11,
   "id": "4250f34d",
   "metadata": {
    "ExecuteTime": {
     "end_time": "2021-10-26T07:26:00.202983Z",
     "start_time": "2021-10-26T07:26:00.196983Z"
    }
   },
   "outputs": [
    {
     "name": "stdout",
     "output_type": "stream",
     "text": [
      "<class 'bool'>\n"
     ]
    }
   ],
   "source": [
    "print(type(active))"
   ]
  },
  {
   "cell_type": "markdown",
   "id": "58ab6012",
   "metadata": {},
   "source": [
    "## None type"
   ]
  },
  {
   "cell_type": "code",
   "execution_count": 12,
   "id": "a48c7272",
   "metadata": {
    "ExecuteTime": {
     "end_time": "2021-10-26T07:26:00.211988Z",
     "start_time": "2021-10-26T07:26:00.205982Z"
    }
   },
   "outputs": [],
   "source": [
    "name = None"
   ]
  },
  {
   "cell_type": "code",
   "execution_count": 13,
   "id": "bcda9afd",
   "metadata": {
    "ExecuteTime": {
     "end_time": "2021-10-26T07:26:00.222983Z",
     "start_time": "2021-10-26T07:26:00.215983Z"
    }
   },
   "outputs": [
    {
     "name": "stdout",
     "output_type": "stream",
     "text": [
      "None\n"
     ]
    }
   ],
   "source": [
    "print(name)"
   ]
  },
  {
   "cell_type": "code",
   "execution_count": 14,
   "id": "34230597",
   "metadata": {
    "ExecuteTime": {
     "end_time": "2021-10-26T07:26:00.237004Z",
     "start_time": "2021-10-26T07:26:00.227984Z"
    }
   },
   "outputs": [
    {
     "name": "stdout",
     "output_type": "stream",
     "text": [
      "<class 'NoneType'>\n"
     ]
    }
   ],
   "source": [
    "print(type(name))"
   ]
  },
  {
   "cell_type": "markdown",
   "id": "6eb888ff",
   "metadata": {},
   "source": [
    "## DateTime"
   ]
  },
  {
   "cell_type": "markdown",
   "id": "c61c548a",
   "metadata": {},
   "source": [
    "\"YYYY-MM-DD\""
   ]
  },
  {
   "cell_type": "code",
   "execution_count": 15,
   "id": "b91e5167",
   "metadata": {
    "ExecuteTime": {
     "end_time": "2021-10-26T07:26:00.246985Z",
     "start_time": "2021-10-26T07:26:00.240983Z"
    }
   },
   "outputs": [],
   "source": [
    "date1 = \"2020-12-26\"\n",
    "date2 = \"1998-01-23\"\n",
    "date3 = \"1998-10-01\""
   ]
  },
  {
   "cell_type": "code",
   "execution_count": 16,
   "id": "fb7bdc0a",
   "metadata": {
    "ExecuteTime": {
     "end_time": "2021-10-26T07:26:00.286983Z",
     "start_time": "2021-10-26T07:26:00.255982Z"
    }
   },
   "outputs": [
    {
     "data": {
      "text/plain": [
       "str"
      ]
     },
     "execution_count": 16,
     "metadata": {},
     "output_type": "execute_result"
    }
   ],
   "source": [
    "type(date1)"
   ]
  },
  {
   "cell_type": "code",
   "execution_count": 17,
   "id": "0e49df7f",
   "metadata": {
    "ExecuteTime": {
     "end_time": "2021-10-26T07:26:00.298985Z",
     "start_time": "2021-10-26T07:26:00.291982Z"
    }
   },
   "outputs": [
    {
     "data": {
      "text/plain": [
       "False"
      ]
     },
     "execution_count": 17,
     "metadata": {},
     "output_type": "execute_result"
    }
   ],
   "source": [
    "date2 > date3"
   ]
  },
  {
   "cell_type": "code",
   "execution_count": 18,
   "id": "e124af92",
   "metadata": {
    "ExecuteTime": {
     "end_time": "2021-10-26T07:26:00.310994Z",
     "start_time": "2021-10-26T07:26:00.302981Z"
    }
   },
   "outputs": [
    {
     "data": {
      "text/plain": [
       "True"
      ]
     },
     "execution_count": 18,
     "metadata": {},
     "output_type": "execute_result"
    }
   ],
   "source": [
    "date3 > date2"
   ]
  },
  {
   "cell_type": "code",
   "execution_count": 19,
   "id": "5a0af69a",
   "metadata": {
    "ExecuteTime": {
     "end_time": "2021-10-26T07:26:00.323983Z",
     "start_time": "2021-10-26T07:26:00.315985Z"
    }
   },
   "outputs": [
    {
     "data": {
      "text/plain": [
       "True"
      ]
     },
     "execution_count": 19,
     "metadata": {},
     "output_type": "execute_result"
    }
   ],
   "source": [
    "\"Tushar\" > \"Anand\""
   ]
  },
  {
   "cell_type": "code",
   "execution_count": 20,
   "id": "291a0155",
   "metadata": {
    "ExecuteTime": {
     "end_time": "2021-10-26T07:26:00.337993Z",
     "start_time": "2021-10-26T07:26:00.327984Z"
    }
   },
   "outputs": [
    {
     "data": {
      "text/plain": [
       "['ameet', 'amit']"
      ]
     },
     "execution_count": 20,
     "metadata": {},
     "output_type": "execute_result"
    }
   ],
   "source": [
    "['ameet', 'amit']"
   ]
  }
 ],
 "metadata": {
  "kernelspec": {
   "display_name": "Python 3",
   "language": "python",
   "name": "python3"
  },
  "language_info": {
   "codemirror_mode": {
    "name": "ipython",
    "version": 3
   },
   "file_extension": ".py",
   "mimetype": "text/x-python",
   "name": "python",
   "nbconvert_exporter": "python",
   "pygments_lexer": "ipython3",
   "version": "3.8.10"
  },
  "toc": {
   "base_numbering": 1,
   "nav_menu": {},
   "number_sections": true,
   "sideBar": true,
   "skip_h1_title": false,
   "title_cell": "Table of Contents",
   "title_sidebar": "Contents",
   "toc_cell": false,
   "toc_position": {
    "height": "calc(100% - 180px)",
    "left": "10px",
    "top": "150px",
    "width": "175px"
   },
   "toc_section_display": true,
   "toc_window_display": true
  },
  "varInspector": {
   "cols": {
    "lenName": 16,
    "lenType": 16,
    "lenVar": 40
   },
   "kernels_config": {
    "python": {
     "delete_cmd_postfix": "",
     "delete_cmd_prefix": "del ",
     "library": "var_list.py",
     "varRefreshCmd": "print(var_dic_list())"
    },
    "r": {
     "delete_cmd_postfix": ") ",
     "delete_cmd_prefix": "rm(",
     "library": "var_list.r",
     "varRefreshCmd": "cat(var_dic_list()) "
    }
   },
   "types_to_exclude": [
    "module",
    "function",
    "builtin_function_or_method",
    "instance",
    "_Feature"
   ],
   "window_display": false
  }
 },
 "nbformat": 4,
 "nbformat_minor": 5
}
