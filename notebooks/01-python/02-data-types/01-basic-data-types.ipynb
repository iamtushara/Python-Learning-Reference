{
 "cells": [
  {
   "cell_type": "markdown",
   "id": "936f0337",
   "metadata": {},
   "source": [
    "# Basic data-types in python\n",
    "\n",
    "<font color=gray size=3><b>Introduction to the basic data-types in Python"
   ]
  },
  {
   "cell_type": "markdown",
   "id": "50b4f87b",
   "metadata": {},
   "source": [
    "## Numbers"
   ]
  },
  {
   "cell_type": "markdown",
   "id": "3b4377c3",
   "metadata": {},
   "source": [
    "### Integer"
   ]
  },
  {
   "cell_type": "code",
   "execution_count": 1,
   "id": "b46e738d",
   "metadata": {
    "ExecuteTime": {
     "end_time": "2021-10-25T09:53:25.537427Z",
     "start_time": "2021-10-25T09:53:25.530426Z"
    }
   },
   "outputs": [],
   "source": [
    "a = 12\n",
    "b = -1\n",
    "c = 1000000000"
   ]
  },
  {
   "cell_type": "code",
   "execution_count": 4,
   "id": "e304da00",
   "metadata": {
    "ExecuteTime": {
     "end_time": "2021-10-25T09:56:49.470125Z",
     "start_time": "2021-10-25T09:56:49.462120Z"
    },
    "scrolled": true
   },
   "outputs": [
    {
     "name": "stdout",
     "output_type": "stream",
     "text": [
      "12 -1 1000000000\n"
     ]
    }
   ],
   "source": [
    "print(a, b, c)"
   ]
  },
  {
   "cell_type": "code",
   "execution_count": 9,
   "id": "b04e6d08",
   "metadata": {
    "ExecuteTime": {
     "end_time": "2021-10-25T09:58:36.707059Z",
     "start_time": "2021-10-25T09:58:36.702053Z"
    }
   },
   "outputs": [
    {
     "name": "stdout",
     "output_type": "stream",
     "text": [
      "<class 'int'>\n"
     ]
    }
   ],
   "source": [
    "print(type(1))"
   ]
  },
  {
   "cell_type": "code",
   "execution_count": 10,
   "id": "3c8f0bb2",
   "metadata": {
    "ExecuteTime": {
     "end_time": "2021-10-25T10:00:01.227622Z",
     "start_time": "2021-10-25T10:00:01.204296Z"
    }
   },
   "outputs": [
    {
     "name": "stdout",
     "output_type": "stream",
     "text": [
      "<class 'int'>\n"
     ]
    }
   ],
   "source": [
    "print(type(b))"
   ]
  },
  {
   "cell_type": "markdown",
   "id": "0d198db8",
   "metadata": {},
   "source": [
    "### Floats"
   ]
  },
  {
   "cell_type": "code",
   "execution_count": 11,
   "id": "07abe952",
   "metadata": {
    "ExecuteTime": {
     "end_time": "2021-10-25T10:00:18.619025Z",
     "start_time": "2021-10-25T10:00:18.615026Z"
    }
   },
   "outputs": [],
   "source": [
    "pi = 3.14"
   ]
  },
  {
   "cell_type": "code",
   "execution_count": 12,
   "id": "3353b090",
   "metadata": {
    "ExecuteTime": {
     "end_time": "2021-10-25T10:00:33.051254Z",
     "start_time": "2021-10-25T10:00:33.047252Z"
    }
   },
   "outputs": [],
   "source": [
    "salary = 100.12"
   ]
  },
  {
   "cell_type": "code",
   "execution_count": 13,
   "id": "e51c94d3",
   "metadata": {
    "ExecuteTime": {
     "end_time": "2021-10-25T10:00:48.121977Z",
     "start_time": "2021-10-25T10:00:48.114999Z"
    }
   },
   "outputs": [
    {
     "name": "stdout",
     "output_type": "stream",
     "text": [
      "<class 'float'>\n"
     ]
    }
   ],
   "source": [
    "print(type(pi))"
   ]
  },
  {
   "cell_type": "markdown",
   "id": "101557f5",
   "metadata": {},
   "source": [
    "## Strings"
   ]
  },
  {
   "cell_type": "code",
   "execution_count": 14,
   "id": "efd821d0",
   "metadata": {
    "ExecuteTime": {
     "end_time": "2021-10-25T10:01:18.266186Z",
     "start_time": "2021-10-25T10:01:18.261165Z"
    }
   },
   "outputs": [],
   "source": [
    "name = \"Amit Verma\""
   ]
  },
  {
   "cell_type": "code",
   "execution_count": 15,
   "id": "29e708e0",
   "metadata": {
    "ExecuteTime": {
     "end_time": "2021-10-25T10:01:25.557420Z",
     "start_time": "2021-10-25T10:01:25.552421Z"
    }
   },
   "outputs": [
    {
     "name": "stdout",
     "output_type": "stream",
     "text": [
      "<class 'str'>\n"
     ]
    }
   ],
   "source": [
    "print(type(name))"
   ]
  },
  {
   "cell_type": "markdown",
   "id": "b0710f32",
   "metadata": {},
   "source": [
    "## Boolean"
   ]
  },
  {
   "cell_type": "code",
   "execution_count": 17,
   "id": "4c107432",
   "metadata": {
    "ExecuteTime": {
     "end_time": "2021-10-25T10:02:22.941526Z",
     "start_time": "2021-10-25T10:02:22.935535Z"
    }
   },
   "outputs": [],
   "source": [
    "active = False\n",
    "sleeping = True"
   ]
  },
  {
   "cell_type": "code",
   "execution_count": 18,
   "id": "4250f34d",
   "metadata": {
    "ExecuteTime": {
     "end_time": "2021-10-25T10:02:28.054802Z",
     "start_time": "2021-10-25T10:02:28.048686Z"
    }
   },
   "outputs": [
    {
     "name": "stdout",
     "output_type": "stream",
     "text": [
      "<class 'bool'>\n"
     ]
    }
   ],
   "source": [
    "print(type(active))"
   ]
  },
  {
   "cell_type": "markdown",
   "id": "58ab6012",
   "metadata": {},
   "source": [
    "## None type"
   ]
  },
  {
   "cell_type": "code",
   "execution_count": 21,
   "id": "a48c7272",
   "metadata": {
    "ExecuteTime": {
     "end_time": "2021-10-25T10:03:51.407855Z",
     "start_time": "2021-10-25T10:03:51.402812Z"
    }
   },
   "outputs": [],
   "source": [
    "name = None"
   ]
  },
  {
   "cell_type": "code",
   "execution_count": 22,
   "id": "bcda9afd",
   "metadata": {
    "ExecuteTime": {
     "end_time": "2021-10-25T10:03:51.829344Z",
     "start_time": "2021-10-25T10:03:51.819346Z"
    }
   },
   "outputs": [
    {
     "name": "stdout",
     "output_type": "stream",
     "text": [
      "None\n"
     ]
    }
   ],
   "source": [
    "print(name)"
   ]
  },
  {
   "cell_type": "code",
   "execution_count": 23,
   "id": "34230597",
   "metadata": {
    "ExecuteTime": {
     "end_time": "2021-10-25T10:04:04.493158Z",
     "start_time": "2021-10-25T10:04:04.488160Z"
    }
   },
   "outputs": [
    {
     "name": "stdout",
     "output_type": "stream",
     "text": [
      "<class 'NoneType'>\n"
     ]
    }
   ],
   "source": [
    "print(type(name))"
   ]
  },
  {
   "cell_type": "markdown",
   "id": "6eb888ff",
   "metadata": {},
   "source": [
    "## DateTime"
   ]
  },
  {
   "cell_type": "code",
   "execution_count": null,
   "id": "4957ed73",
   "metadata": {},
   "outputs": [],
   "source": []
  }
 ],
 "metadata": {
  "kernelspec": {
   "display_name": "Python 3",
   "language": "python",
   "name": "python3"
  },
  "language_info": {
   "codemirror_mode": {
    "name": "ipython",
    "version": 3
   },
   "file_extension": ".py",
   "mimetype": "text/x-python",
   "name": "python",
   "nbconvert_exporter": "python",
   "pygments_lexer": "ipython3",
   "version": "3.8.10"
  },
  "toc": {
   "base_numbering": 1,
   "nav_menu": {},
   "number_sections": true,
   "sideBar": true,
   "skip_h1_title": false,
   "title_cell": "Table of Contents",
   "title_sidebar": "Contents",
   "toc_cell": false,
   "toc_position": {
    "height": "calc(100% - 180px)",
    "left": "10px",
    "top": "150px",
    "width": "290px"
   },
   "toc_section_display": true,
   "toc_window_display": true
  },
  "varInspector": {
   "cols": {
    "lenName": 16,
    "lenType": 16,
    "lenVar": 40
   },
   "kernels_config": {
    "python": {
     "delete_cmd_postfix": "",
     "delete_cmd_prefix": "del ",
     "library": "var_list.py",
     "varRefreshCmd": "print(var_dic_list())"
    },
    "r": {
     "delete_cmd_postfix": ") ",
     "delete_cmd_prefix": "rm(",
     "library": "var_list.r",
     "varRefreshCmd": "cat(var_dic_list()) "
    }
   },
   "types_to_exclude": [
    "module",
    "function",
    "builtin_function_or_method",
    "instance",
    "_Feature"
   ],
   "window_display": false
  }
 },
 "nbformat": 4,
 "nbformat_minor": 5
}
