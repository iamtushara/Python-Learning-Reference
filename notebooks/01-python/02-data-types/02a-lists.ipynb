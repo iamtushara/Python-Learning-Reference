{
 "cells": [
  {
   "cell_type": "markdown",
   "id": "cbfe87b2",
   "metadata": {},
   "source": [
    "# Lists\n",
    "\n",
    "https://www.tutorialgateway.org/python-list-functions/#:~:text=and%20max%20functions.-,Python%20List%20Functions,-The%20Python%20List"
   ]
  },
  {
   "cell_type": "code",
   "execution_count": 1,
   "id": "3dd28eac",
   "metadata": {
    "ExecuteTime": {
     "end_time": "2021-10-25T12:15:14.081090Z",
     "start_time": "2021-10-25T12:15:14.067092Z"
    }
   },
   "outputs": [],
   "source": [
    "name = \"Tushar\" # this is str\n",
    "\n",
    "all_employee_names = [\"Jaspreet\", 'Pryianshu']  # this is list"
   ]
  },
  {
   "cell_type": "code",
   "execution_count": 2,
   "id": "a14ba6ac",
   "metadata": {
    "ExecuteTime": {
     "end_time": "2021-10-25T12:15:14.097089Z",
     "start_time": "2021-10-25T12:15:14.084091Z"
    }
   },
   "outputs": [
    {
     "name": "stdout",
     "output_type": "stream",
     "text": [
      "Tushar\n"
     ]
    }
   ],
   "source": [
    "print(name)"
   ]
  },
  {
   "cell_type": "code",
   "execution_count": 3,
   "id": "f985af90",
   "metadata": {
    "ExecuteTime": {
     "end_time": "2021-10-25T12:15:14.113090Z",
     "start_time": "2021-10-25T12:15:14.100090Z"
    }
   },
   "outputs": [
    {
     "name": "stdout",
     "output_type": "stream",
     "text": [
      "['Jaspreet', 'Pryianshu']\n"
     ]
    }
   ],
   "source": [
    "print(all_employee_names)"
   ]
  },
  {
   "cell_type": "code",
   "execution_count": 4,
   "id": "22aa8e4d",
   "metadata": {
    "ExecuteTime": {
     "end_time": "2021-10-25T12:15:14.129090Z",
     "start_time": "2021-10-25T12:15:14.115091Z"
    }
   },
   "outputs": [
    {
     "name": "stdout",
     "output_type": "stream",
     "text": [
      "<class 'list'>\n"
     ]
    }
   ],
   "source": [
    "print(type(all_employee_names))"
   ]
  },
  {
   "cell_type": "markdown",
   "id": "3da69f1e",
   "metadata": {},
   "source": [
    "## Ordering\n",
    "\n",
    "<font color=blue>supports ordering"
   ]
  },
  {
   "cell_type": "code",
   "execution_count": 5,
   "id": "f5b3a31f",
   "metadata": {
    "ExecuteTime": {
     "end_time": "2021-10-25T12:15:14.160090Z",
     "start_time": "2021-10-25T12:15:14.131090Z"
    }
   },
   "outputs": [
    {
     "data": {
      "text/plain": [
       "['Jaspreet', 'Pryianshu']"
      ]
     },
     "execution_count": 5,
     "metadata": {},
     "output_type": "execute_result"
    }
   ],
   "source": [
    "all_employee_names"
   ]
  },
  {
   "cell_type": "code",
   "execution_count": 6,
   "id": "ed8b3f6c",
   "metadata": {
    "ExecuteTime": {
     "end_time": "2021-10-25T12:15:14.176094Z",
     "start_time": "2021-10-25T12:15:14.162090Z"
    }
   },
   "outputs": [],
   "source": [
    "l1 = [1,2,3,3,3,3,3,3]\n",
    "l2 = ['abc', 3.14, True, 10]"
   ]
  },
  {
   "cell_type": "code",
   "execution_count": 7,
   "id": "3b97a427",
   "metadata": {
    "ExecuteTime": {
     "end_time": "2021-10-25T12:15:14.239088Z",
     "start_time": "2021-10-25T12:15:14.227090Z"
    }
   },
   "outputs": [
    {
     "name": "stdout",
     "output_type": "stream",
     "text": [
      "[1, 2, 3, 3, 3, 3, 3, 3]\n"
     ]
    }
   ],
   "source": [
    "print(l1)"
   ]
  },
  {
   "cell_type": "code",
   "execution_count": 8,
   "id": "e792c4aa",
   "metadata": {
    "ExecuteTime": {
     "end_time": "2021-10-25T12:15:14.255090Z",
     "start_time": "2021-10-25T12:15:14.242095Z"
    }
   },
   "outputs": [
    {
     "name": "stdout",
     "output_type": "stream",
     "text": [
      "10\n",
      "10\n"
     ]
    }
   ],
   "source": [
    "print(l2[-1])\n",
    "print(l2[3])"
   ]
  },
  {
   "cell_type": "code",
   "execution_count": 9,
   "id": "22a14ddc",
   "metadata": {
    "ExecuteTime": {
     "end_time": "2021-10-25T12:15:14.271090Z",
     "start_time": "2021-10-25T12:15:14.257088Z"
    }
   },
   "outputs": [
    {
     "data": {
      "text/plain": [
       "'Jaspreet'"
      ]
     },
     "execution_count": 9,
     "metadata": {},
     "output_type": "execute_result"
    }
   ],
   "source": [
    "all_employee_names[0]"
   ]
  },
  {
   "cell_type": "code",
   "execution_count": 10,
   "id": "e4b14c8c",
   "metadata": {
    "ExecuteTime": {
     "end_time": "2021-10-25T12:15:14.287090Z",
     "start_time": "2021-10-25T12:15:14.274089Z"
    }
   },
   "outputs": [
    {
     "data": {
      "text/plain": [
       "'Pryianshu'"
      ]
     },
     "execution_count": 10,
     "metadata": {},
     "output_type": "execute_result"
    }
   ],
   "source": [
    "all_employee_names[1]"
   ]
  },
  {
   "cell_type": "code",
   "execution_count": 11,
   "id": "84fa47ab",
   "metadata": {
    "ExecuteTime": {
     "end_time": "2021-10-25T12:15:14.303089Z",
     "start_time": "2021-10-25T12:15:14.290093Z"
    }
   },
   "outputs": [
    {
     "data": {
      "text/plain": [
       "'Pryianshu'"
      ]
     },
     "execution_count": 11,
     "metadata": {},
     "output_type": "execute_result"
    }
   ],
   "source": [
    "all_employee_names[-1]"
   ]
  },
  {
   "cell_type": "code",
   "execution_count": 12,
   "id": "20d6cf62",
   "metadata": {
    "ExecuteTime": {
     "end_time": "2021-10-25T12:15:14.319101Z",
     "start_time": "2021-10-25T12:15:14.306092Z"
    }
   },
   "outputs": [
    {
     "data": {
      "text/plain": [
       "'Jaspreet'"
      ]
     },
     "execution_count": 12,
     "metadata": {},
     "output_type": "execute_result"
    }
   ],
   "source": [
    "all_employee_names[-2]"
   ]
  },
  {
   "cell_type": "code",
   "execution_count": 13,
   "id": "2b1bb1bb",
   "metadata": {
    "ExecuteTime": {
     "end_time": "2021-10-25T12:15:14.653088Z",
     "start_time": "2021-10-25T12:15:14.322091Z"
    },
    "scrolled": true
   },
   "outputs": [
    {
     "ename": "IndexError",
     "evalue": "list index out of range",
     "output_type": "error",
     "traceback": [
      "\u001b[1;31m---------------------------------------------------------------------------\u001b[0m",
      "\u001b[1;31mIndexError\u001b[0m                                Traceback (most recent call last)",
      "\u001b[1;32m<ipython-input-13-dc896909d3b5>\u001b[0m in \u001b[0;36m<module>\u001b[1;34m\u001b[0m\n\u001b[1;32m----> 1\u001b[1;33m \u001b[0mall_employee_names\u001b[0m\u001b[1;33m[\u001b[0m\u001b[1;33m-\u001b[0m\u001b[1;36m4\u001b[0m\u001b[1;33m]\u001b[0m\u001b[1;33m\u001b[0m\u001b[1;33m\u001b[0m\u001b[0m\n\u001b[0m",
      "\u001b[1;31mIndexError\u001b[0m: list index out of range"
     ]
    }
   ],
   "source": [
    "all_employee_names[-4]"
   ]
  },
  {
   "cell_type": "code",
   "execution_count": 14,
   "id": "8bc63064",
   "metadata": {
    "ExecuteTime": {
     "end_time": "2021-10-25T12:15:24.746172Z",
     "start_time": "2021-10-25T12:15:24.735213Z"
    }
   },
   "outputs": [
    {
     "name": "stdout",
     "output_type": "stream",
     "text": [
      "['abc', 3.14, True, 10]\n",
      "['abc', 3.14]\n"
     ]
    }
   ],
   "source": [
    "print(l2)\n",
    "print(l2[0:2])"
   ]
  },
  {
   "cell_type": "code",
   "execution_count": 15,
   "id": "dfddedbe",
   "metadata": {
    "ExecuteTime": {
     "end_time": "2021-10-25T12:15:24.761171Z",
     "start_time": "2021-10-25T12:15:24.748172Z"
    }
   },
   "outputs": [
    {
     "name": "stdout",
     "output_type": "stream",
     "text": [
      "['abc', 3.14, True]\n"
     ]
    }
   ],
   "source": [
    "print(l2[0:-1])"
   ]
  },
  {
   "cell_type": "code",
   "execution_count": 16,
   "id": "d83ce024",
   "metadata": {
    "ExecuteTime": {
     "end_time": "2021-10-25T12:15:24.776172Z",
     "start_time": "2021-10-25T12:15:24.764172Z"
    }
   },
   "outputs": [
    {
     "data": {
      "text/plain": [
       "['Jaspreet', 'Pryianshu']"
      ]
     },
     "execution_count": 16,
     "metadata": {},
     "output_type": "execute_result"
    }
   ],
   "source": [
    "all_employee_names"
   ]
  },
  {
   "cell_type": "code",
   "execution_count": 17,
   "id": "64136719",
   "metadata": {
    "ExecuteTime": {
     "end_time": "2021-10-25T12:15:24.792167Z",
     "start_time": "2021-10-25T12:15:24.778167Z"
    }
   },
   "outputs": [
    {
     "data": {
      "text/plain": [
       "['Jaspreet', 'Amit']"
      ]
     },
     "execution_count": 17,
     "metadata": {},
     "output_type": "execute_result"
    }
   ],
   "source": [
    "all_employee_names[1] = \"Amit\"\n",
    "all_employee_names"
   ]
  },
  {
   "cell_type": "code",
   "execution_count": 18,
   "id": "9b36651c",
   "metadata": {
    "ExecuteTime": {
     "end_time": "2021-10-25T12:15:24.807169Z",
     "start_time": "2021-10-25T12:15:24.794169Z"
    }
   },
   "outputs": [
    {
     "data": {
      "text/plain": [
       "['Amit', 'Jaspreet']"
      ]
     },
     "execution_count": 18,
     "metadata": {},
     "output_type": "execute_result"
    }
   ],
   "source": [
    "all_employee_names.sort()\n",
    "all_employee_names"
   ]
  },
  {
   "cell_type": "code",
   "execution_count": 19,
   "id": "b13b94fb",
   "metadata": {
    "ExecuteTime": {
     "end_time": "2021-10-25T12:15:24.822168Z",
     "start_time": "2021-10-25T12:15:24.810173Z"
    }
   },
   "outputs": [
    {
     "data": {
      "text/plain": [
       "['Jaspreet', 'Amit']"
      ]
     },
     "execution_count": 19,
     "metadata": {},
     "output_type": "execute_result"
    }
   ],
   "source": [
    "all_employee_names.sort(reverse=True)\n",
    "all_employee_names"
   ]
  },
  {
   "cell_type": "code",
   "execution_count": 20,
   "id": "aaa94c59",
   "metadata": {
    "ExecuteTime": {
     "end_time": "2021-10-25T12:15:24.837175Z",
     "start_time": "2021-10-25T12:15:24.824170Z"
    }
   },
   "outputs": [
    {
     "data": {
      "text/plain": [
       "['Amit', 'Jaspreet']"
      ]
     },
     "execution_count": 20,
     "metadata": {},
     "output_type": "execute_result"
    }
   ],
   "source": [
    "all_employee_names.reverse()\n",
    "all_employee_names"
   ]
  },
  {
   "cell_type": "code",
   "execution_count": 21,
   "id": "89aadb78",
   "metadata": {
    "ExecuteTime": {
     "end_time": "2021-10-25T12:15:24.853169Z",
     "start_time": "2021-10-25T12:15:24.843210Z"
    }
   },
   "outputs": [
    {
     "ename": "ValueError",
     "evalue": "list.remove(x): x not in list",
     "output_type": "error",
     "traceback": [
      "\u001b[1;31m---------------------------------------------------------------------------\u001b[0m",
      "\u001b[1;31mValueError\u001b[0m                                Traceback (most recent call last)",
      "\u001b[1;32m<ipython-input-21-d74c1d04e1b4>\u001b[0m in \u001b[0;36m<module>\u001b[1;34m\u001b[0m\n\u001b[1;32m----> 1\u001b[1;33m \u001b[0mall_employee_names\u001b[0m\u001b[1;33m.\u001b[0m\u001b[0mremove\u001b[0m\u001b[1;33m(\u001b[0m\u001b[1;34m'Priyank'\u001b[0m\u001b[1;33m)\u001b[0m\u001b[1;33m\u001b[0m\u001b[1;33m\u001b[0m\u001b[0m\n\u001b[0m\u001b[0;32m      2\u001b[0m \u001b[0mall_employee_names\u001b[0m\u001b[1;33m\u001b[0m\u001b[1;33m\u001b[0m\u001b[0m\n",
      "\u001b[1;31mValueError\u001b[0m: list.remove(x): x not in list"
     ]
    }
   ],
   "source": [
    "all_employee_names.remove('Priyank')\n",
    "all_employee_names"
   ]
  },
  {
   "cell_type": "markdown",
   "id": "53bff721",
   "metadata": {},
   "source": [
    "## Mutation\n",
    "\n",
    "<font color=blue>supports mutability"
   ]
  },
  {
   "cell_type": "code",
   "execution_count": 22,
   "id": "ba6ea043",
   "metadata": {
    "ExecuteTime": {
     "end_time": "2021-10-25T12:15:34.005777Z",
     "start_time": "2021-10-25T12:15:33.992777Z"
    }
   },
   "outputs": [
    {
     "data": {
      "text/plain": [
       "['Amit', 'Jaspreet']"
      ]
     },
     "execution_count": 22,
     "metadata": {},
     "output_type": "execute_result"
    }
   ],
   "source": [
    "all_employee_names"
   ]
  },
  {
   "cell_type": "code",
   "execution_count": 23,
   "id": "177e1dea",
   "metadata": {
    "ExecuteTime": {
     "end_time": "2021-10-25T12:15:34.020779Z",
     "start_time": "2021-10-25T12:15:34.007777Z"
    }
   },
   "outputs": [],
   "source": [
    "all_employee_names.append('Amit')"
   ]
  },
  {
   "cell_type": "code",
   "execution_count": 24,
   "id": "151956f6",
   "metadata": {
    "ExecuteTime": {
     "end_time": "2021-10-25T12:15:34.035783Z",
     "start_time": "2021-10-25T12:15:34.023783Z"
    }
   },
   "outputs": [
    {
     "data": {
      "text/plain": [
       "['Amit', 'Jaspreet', 'Amit']"
      ]
     },
     "execution_count": 24,
     "metadata": {},
     "output_type": "execute_result"
    }
   ],
   "source": [
    "all_employee_names"
   ]
  },
  {
   "cell_type": "code",
   "execution_count": 25,
   "id": "36cf1125",
   "metadata": {
    "ExecuteTime": {
     "end_time": "2021-10-25T12:15:34.051780Z",
     "start_time": "2021-10-25T12:15:34.038781Z"
    }
   },
   "outputs": [
    {
     "data": {
      "text/plain": [
       "[1, 2, 3, 'a', 'b', 'c']"
      ]
     },
     "execution_count": 25,
     "metadata": {},
     "output_type": "execute_result"
    }
   ],
   "source": [
    "[1, 2, 3] + ['a', 'b', 'c']"
   ]
  },
  {
   "cell_type": "code",
   "execution_count": 26,
   "id": "c9dc8491",
   "metadata": {
    "ExecuteTime": {
     "end_time": "2021-10-25T12:15:34.067806Z",
     "start_time": "2021-10-25T12:15:34.054795Z"
    }
   },
   "outputs": [
    {
     "data": {
      "text/plain": [
       "[1, 2, 3, 'a', 'b', 'c']"
      ]
     },
     "execution_count": 26,
     "metadata": {},
     "output_type": "execute_result"
    }
   ],
   "source": [
    "### Mutation\n",
    "\n",
    "all_employee_names\n",
    "\n",
    "all_employee_names.append('Amit')\n",
    "\n",
    "all_employee_names\n",
    "\n",
    "[1, 2, 3] + ['a', 'b', 'c']"
   ]
  },
  {
   "cell_type": "markdown",
   "id": "e072bcc0",
   "metadata": {},
   "source": [
    "# Other List Functions"
   ]
  },
  {
   "cell_type": "code",
   "execution_count": 29,
   "id": "15445f78",
   "metadata": {
    "ExecuteTime": {
     "end_time": "2021-10-26T04:46:52.714933Z",
     "start_time": "2021-10-26T04:46:52.708927Z"
    }
   },
   "outputs": [
    {
     "data": {
      "text/plain": [
       "[11, 22, 33, 44]"
      ]
     },
     "execution_count": 29,
     "metadata": {},
     "output_type": "execute_result"
    }
   ],
   "source": [
    "test_list = [11, 22, 33, 44]\n",
    "test_list"
   ]
  },
  {
   "cell_type": "code",
   "execution_count": 30,
   "id": "a9a21d09",
   "metadata": {
    "ExecuteTime": {
     "end_time": "2021-10-26T04:46:58.461635Z",
     "start_time": "2021-10-26T04:46:58.452634Z"
    }
   },
   "outputs": [
    {
     "data": {
      "text/plain": [
       "[11, 22, 33, 44, 55]"
      ]
     },
     "execution_count": 30,
     "metadata": {},
     "output_type": "execute_result"
    }
   ],
   "source": [
    "test_list.append(55)\n",
    "test_list"
   ]
  },
  {
   "cell_type": "code",
   "execution_count": 31,
   "id": "56ac7b69",
   "metadata": {
    "ExecuteTime": {
     "end_time": "2021-10-26T04:48:39.571490Z",
     "start_time": "2021-10-26T04:48:39.566527Z"
    }
   },
   "outputs": [],
   "source": [
    "test_list.insert(1, 66)"
   ]
  },
  {
   "cell_type": "code",
   "execution_count": 32,
   "id": "d3aa3d47",
   "metadata": {
    "ExecuteTime": {
     "end_time": "2021-10-26T04:48:42.506115Z",
     "start_time": "2021-10-26T04:48:42.500116Z"
    }
   },
   "outputs": [
    {
     "data": {
      "text/plain": [
       "[11, 66, 22, 33, 44, 55]"
      ]
     },
     "execution_count": 32,
     "metadata": {},
     "output_type": "execute_result"
    }
   ],
   "source": [
    "test_list"
   ]
  },
  {
   "cell_type": "code",
   "execution_count": 33,
   "id": "ab3b5ea6",
   "metadata": {
    "ExecuteTime": {
     "end_time": "2021-10-26T04:49:24.557604Z",
     "start_time": "2021-10-26T04:49:24.551598Z"
    }
   },
   "outputs": [
    {
     "data": {
      "text/plain": [
       "[1, 2, 3, 4]"
      ]
     },
     "execution_count": 33,
     "metadata": {},
     "output_type": "execute_result"
    }
   ],
   "source": [
    "[1, 2] + [3, 4]"
   ]
  },
  {
   "cell_type": "code",
   "execution_count": 35,
   "id": "c5bef548",
   "metadata": {
    "ExecuteTime": {
     "end_time": "2021-10-26T04:50:51.863022Z",
     "start_time": "2021-10-26T04:50:51.857025Z"
    }
   },
   "outputs": [
    {
     "data": {
      "text/plain": [
       "[1, 2, 3, 4]"
      ]
     },
     "execution_count": 35,
     "metadata": {},
     "output_type": "execute_result"
    }
   ],
   "source": [
    "x = [1, 2]\n",
    "x.extend([3, 4])\n",
    "\n",
    "x"
   ]
  },
  {
   "cell_type": "code",
   "execution_count": null,
   "id": "948a23de",
   "metadata": {},
   "outputs": [],
   "source": []
  },
  {
   "cell_type": "code",
   "execution_count": 36,
   "id": "f5a9457e",
   "metadata": {
    "ExecuteTime": {
     "end_time": "2021-10-26T04:51:57.996341Z",
     "start_time": "2021-10-26T04:51:57.992330Z"
    }
   },
   "outputs": [],
   "source": [
    "l1 = [1, 2, 3]\n",
    "l2 = l1"
   ]
  },
  {
   "cell_type": "code",
   "execution_count": 37,
   "id": "2e8d57fe",
   "metadata": {
    "ExecuteTime": {
     "end_time": "2021-10-26T04:52:02.974564Z",
     "start_time": "2021-10-26T04:52:02.966558Z"
    }
   },
   "outputs": [
    {
     "data": {
      "text/plain": [
       "[1, 2, 3]"
      ]
     },
     "execution_count": 37,
     "metadata": {},
     "output_type": "execute_result"
    }
   ],
   "source": [
    "l1"
   ]
  },
  {
   "cell_type": "code",
   "execution_count": 38,
   "id": "6fe67406",
   "metadata": {
    "ExecuteTime": {
     "end_time": "2021-10-26T04:52:07.729918Z",
     "start_time": "2021-10-26T04:52:07.724915Z"
    }
   },
   "outputs": [
    {
     "data": {
      "text/plain": [
       "[1, 2, 3]"
      ]
     },
     "execution_count": 38,
     "metadata": {},
     "output_type": "execute_result"
    }
   ],
   "source": [
    "l2"
   ]
  },
  {
   "cell_type": "code",
   "execution_count": 39,
   "id": "bb34787c",
   "metadata": {
    "ExecuteTime": {
     "end_time": "2021-10-26T04:52:35.393114Z",
     "start_time": "2021-10-26T04:52:35.389057Z"
    }
   },
   "outputs": [],
   "source": [
    "l1[0] = 'Tushar'"
   ]
  },
  {
   "cell_type": "code",
   "execution_count": 40,
   "id": "13df1918",
   "metadata": {
    "ExecuteTime": {
     "end_time": "2021-10-26T04:52:39.714105Z",
     "start_time": "2021-10-26T04:52:39.708101Z"
    }
   },
   "outputs": [
    {
     "data": {
      "text/plain": [
       "['Tushar', 2, 3]"
      ]
     },
     "execution_count": 40,
     "metadata": {},
     "output_type": "execute_result"
    }
   ],
   "source": [
    "l1"
   ]
  },
  {
   "cell_type": "code",
   "execution_count": 41,
   "id": "609b798d",
   "metadata": {
    "ExecuteTime": {
     "end_time": "2021-10-26T04:52:48.659669Z",
     "start_time": "2021-10-26T04:52:48.652665Z"
    }
   },
   "outputs": [
    {
     "data": {
      "text/plain": [
       "['Tushar', 2, 3]"
      ]
     },
     "execution_count": 41,
     "metadata": {},
     "output_type": "execute_result"
    }
   ],
   "source": [
    "l2"
   ]
  },
  {
   "cell_type": "markdown",
   "id": "07306d43",
   "metadata": {},
   "source": [
    "- call by value\n",
    "- call by reference (default)"
   ]
  },
  {
   "cell_type": "code",
   "execution_count": 42,
   "id": "ca8c3460",
   "metadata": {
    "ExecuteTime": {
     "end_time": "2021-10-26T04:58:16.676014Z",
     "start_time": "2021-10-26T04:58:16.672018Z"
    }
   },
   "outputs": [],
   "source": [
    "l1 = [1, 2, 3]\n",
    "l2 = l1.copy()"
   ]
  },
  {
   "cell_type": "code",
   "execution_count": 43,
   "id": "40203af4",
   "metadata": {
    "ExecuteTime": {
     "end_time": "2021-10-26T04:58:31.220831Z",
     "start_time": "2021-10-26T04:58:31.212842Z"
    }
   },
   "outputs": [
    {
     "data": {
      "text/plain": [
       "[False, 2, 3]"
      ]
     },
     "execution_count": 43,
     "metadata": {},
     "output_type": "execute_result"
    }
   ],
   "source": [
    "l1[0] = False\n",
    "l1"
   ]
  },
  {
   "cell_type": "code",
   "execution_count": 44,
   "id": "df18c408",
   "metadata": {
    "ExecuteTime": {
     "end_time": "2021-10-26T04:58:38.289406Z",
     "start_time": "2021-10-26T04:58:38.284404Z"
    }
   },
   "outputs": [
    {
     "data": {
      "text/plain": [
       "[1, 2, 3]"
      ]
     },
     "execution_count": 44,
     "metadata": {},
     "output_type": "execute_result"
    }
   ],
   "source": [
    "l2"
   ]
  }
 ],
 "metadata": {
  "kernelspec": {
   "display_name": "Python 3",
   "language": "python",
   "name": "python3"
  },
  "language_info": {
   "codemirror_mode": {
    "name": "ipython",
    "version": 3
   },
   "file_extension": ".py",
   "mimetype": "text/x-python",
   "name": "python",
   "nbconvert_exporter": "python",
   "pygments_lexer": "ipython3",
   "version": "3.8.10"
  },
  "toc": {
   "base_numbering": 1,
   "nav_menu": {},
   "number_sections": true,
   "sideBar": true,
   "skip_h1_title": false,
   "title_cell": "Table of Contents",
   "title_sidebar": "Contents",
   "toc_cell": false,
   "toc_position": {},
   "toc_section_display": true,
   "toc_window_display": false
  },
  "varInspector": {
   "cols": {
    "lenName": 16,
    "lenType": 16,
    "lenVar": 40
   },
   "kernels_config": {
    "python": {
     "delete_cmd_postfix": "",
     "delete_cmd_prefix": "del ",
     "library": "var_list.py",
     "varRefreshCmd": "print(var_dic_list())"
    },
    "r": {
     "delete_cmd_postfix": ") ",
     "delete_cmd_prefix": "rm(",
     "library": "var_list.r",
     "varRefreshCmd": "cat(var_dic_list()) "
    }
   },
   "types_to_exclude": [
    "module",
    "function",
    "builtin_function_or_method",
    "instance",
    "_Feature"
   ],
   "window_display": false
  }
 },
 "nbformat": 4,
 "nbformat_minor": 5
}
