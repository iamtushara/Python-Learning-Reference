{
 "cells": [
  {
   "cell_type": "markdown",
   "id": "cbfe87b2",
   "metadata": {},
   "source": [
    "# Lists"
   ]
  },
  {
   "cell_type": "code",
   "execution_count": 1,
   "id": "3dd28eac",
   "metadata": {
    "ExecuteTime": {
     "end_time": "2021-10-25T12:15:14.081090Z",
     "start_time": "2021-10-25T12:15:14.067092Z"
    }
   },
   "outputs": [],
   "source": [
    "name = \"Tushar\" # this is str\n",
    "\n",
    "all_employee_names = [\"Jaspreet\", 'Pryianshu']  # this is list"
   ]
  },
  {
   "cell_type": "code",
   "execution_count": 2,
   "id": "a14ba6ac",
   "metadata": {
    "ExecuteTime": {
     "end_time": "2021-10-25T12:15:14.097089Z",
     "start_time": "2021-10-25T12:15:14.084091Z"
    }
   },
   "outputs": [
    {
     "name": "stdout",
     "output_type": "stream",
     "text": [
      "Tushar\n"
     ]
    }
   ],
   "source": [
    "print(name)"
   ]
  },
  {
   "cell_type": "code",
   "execution_count": 3,
   "id": "f985af90",
   "metadata": {
    "ExecuteTime": {
     "end_time": "2021-10-25T12:15:14.113090Z",
     "start_time": "2021-10-25T12:15:14.100090Z"
    }
   },
   "outputs": [
    {
     "name": "stdout",
     "output_type": "stream",
     "text": [
      "['Jaspreet', 'Pryianshu']\n"
     ]
    }
   ],
   "source": [
    "print(all_employee_names)"
   ]
  },
  {
   "cell_type": "code",
   "execution_count": 4,
   "id": "22aa8e4d",
   "metadata": {
    "ExecuteTime": {
     "end_time": "2021-10-25T12:15:14.129090Z",
     "start_time": "2021-10-25T12:15:14.115091Z"
    }
   },
   "outputs": [
    {
     "name": "stdout",
     "output_type": "stream",
     "text": [
      "<class 'list'>\n"
     ]
    }
   ],
   "source": [
    "print(type(all_employee_names))"
   ]
  },
  {
   "cell_type": "markdown",
   "id": "3da69f1e",
   "metadata": {},
   "source": [
    "## Ordering\n",
    "\n",
    "<font color=blue>supports ordering"
   ]
  },
  {
   "cell_type": "code",
   "execution_count": 5,
   "id": "f5b3a31f",
   "metadata": {
    "ExecuteTime": {
     "end_time": "2021-10-25T12:15:14.160090Z",
     "start_time": "2021-10-25T12:15:14.131090Z"
    }
   },
   "outputs": [
    {
     "data": {
      "text/plain": [
       "['Jaspreet', 'Pryianshu']"
      ]
     },
     "execution_count": 5,
     "metadata": {},
     "output_type": "execute_result"
    }
   ],
   "source": [
    "all_employee_names"
   ]
  },
  {
   "cell_type": "code",
   "execution_count": 6,
   "id": "ed8b3f6c",
   "metadata": {
    "ExecuteTime": {
     "end_time": "2021-10-25T12:15:14.176094Z",
     "start_time": "2021-10-25T12:15:14.162090Z"
    }
   },
   "outputs": [],
   "source": [
    "l1 = [1,2,3,3,3,3,3,3]\n",
    "l2 = ['abc', 3.14, True, 10]"
   ]
  },
  {
   "cell_type": "code",
   "execution_count": 7,
   "id": "3b97a427",
   "metadata": {
    "ExecuteTime": {
     "end_time": "2021-10-25T12:15:14.239088Z",
     "start_time": "2021-10-25T12:15:14.227090Z"
    }
   },
   "outputs": [
    {
     "name": "stdout",
     "output_type": "stream",
     "text": [
      "[1, 2, 3, 3, 3, 3, 3, 3]\n"
     ]
    }
   ],
   "source": [
    "print(l1)"
   ]
  },
  {
   "cell_type": "code",
   "execution_count": 8,
   "id": "e792c4aa",
   "metadata": {
    "ExecuteTime": {
     "end_time": "2021-10-25T12:15:14.255090Z",
     "start_time": "2021-10-25T12:15:14.242095Z"
    }
   },
   "outputs": [
    {
     "name": "stdout",
     "output_type": "stream",
     "text": [
      "10\n",
      "10\n"
     ]
    }
   ],
   "source": [
    "print(l2[-1])\n",
    "print(l2[3])"
   ]
  },
  {
   "cell_type": "code",
   "execution_count": 9,
   "id": "22a14ddc",
   "metadata": {
    "ExecuteTime": {
     "end_time": "2021-10-25T12:15:14.271090Z",
     "start_time": "2021-10-25T12:15:14.257088Z"
    }
   },
   "outputs": [
    {
     "data": {
      "text/plain": [
       "'Jaspreet'"
      ]
     },
     "execution_count": 9,
     "metadata": {},
     "output_type": "execute_result"
    }
   ],
   "source": [
    "all_employee_names[0]"
   ]
  },
  {
   "cell_type": "code",
   "execution_count": 10,
   "id": "e4b14c8c",
   "metadata": {
    "ExecuteTime": {
     "end_time": "2021-10-25T12:15:14.287090Z",
     "start_time": "2021-10-25T12:15:14.274089Z"
    }
   },
   "outputs": [
    {
     "data": {
      "text/plain": [
       "'Pryianshu'"
      ]
     },
     "execution_count": 10,
     "metadata": {},
     "output_type": "execute_result"
    }
   ],
   "source": [
    "all_employee_names[1]"
   ]
  },
  {
   "cell_type": "code",
   "execution_count": 11,
   "id": "84fa47ab",
   "metadata": {
    "ExecuteTime": {
     "end_time": "2021-10-25T12:15:14.303089Z",
     "start_time": "2021-10-25T12:15:14.290093Z"
    }
   },
   "outputs": [
    {
     "data": {
      "text/plain": [
       "'Pryianshu'"
      ]
     },
     "execution_count": 11,
     "metadata": {},
     "output_type": "execute_result"
    }
   ],
   "source": [
    "all_employee_names[-1]"
   ]
  },
  {
   "cell_type": "code",
   "execution_count": 12,
   "id": "20d6cf62",
   "metadata": {
    "ExecuteTime": {
     "end_time": "2021-10-25T12:15:14.319101Z",
     "start_time": "2021-10-25T12:15:14.306092Z"
    }
   },
   "outputs": [
    {
     "data": {
      "text/plain": [
       "'Jaspreet'"
      ]
     },
     "execution_count": 12,
     "metadata": {},
     "output_type": "execute_result"
    }
   ],
   "source": [
    "all_employee_names[-2]"
   ]
  },
  {
   "cell_type": "code",
   "execution_count": 13,
   "id": "2b1bb1bb",
   "metadata": {
    "ExecuteTime": {
     "end_time": "2021-10-25T12:15:14.653088Z",
     "start_time": "2021-10-25T12:15:14.322091Z"
    },
    "scrolled": true
   },
   "outputs": [
    {
     "ename": "IndexError",
     "evalue": "list index out of range",
     "output_type": "error",
     "traceback": [
      "\u001b[1;31m---------------------------------------------------------------------------\u001b[0m",
      "\u001b[1;31mIndexError\u001b[0m                                Traceback (most recent call last)",
      "\u001b[1;32m<ipython-input-13-dc896909d3b5>\u001b[0m in \u001b[0;36m<module>\u001b[1;34m\u001b[0m\n\u001b[1;32m----> 1\u001b[1;33m \u001b[0mall_employee_names\u001b[0m\u001b[1;33m[\u001b[0m\u001b[1;33m-\u001b[0m\u001b[1;36m4\u001b[0m\u001b[1;33m]\u001b[0m\u001b[1;33m\u001b[0m\u001b[1;33m\u001b[0m\u001b[0m\n\u001b[0m",
      "\u001b[1;31mIndexError\u001b[0m: list index out of range"
     ]
    }
   ],
   "source": [
    "all_employee_names[-4]"
   ]
  },
  {
   "cell_type": "code",
   "execution_count": 14,
   "id": "8bc63064",
   "metadata": {
    "ExecuteTime": {
     "end_time": "2021-10-25T12:15:24.746172Z",
     "start_time": "2021-10-25T12:15:24.735213Z"
    }
   },
   "outputs": [
    {
     "name": "stdout",
     "output_type": "stream",
     "text": [
      "['abc', 3.14, True, 10]\n",
      "['abc', 3.14]\n"
     ]
    }
   ],
   "source": [
    "print(l2)\n",
    "print(l2[0:2])"
   ]
  },
  {
   "cell_type": "code",
   "execution_count": 15,
   "id": "dfddedbe",
   "metadata": {
    "ExecuteTime": {
     "end_time": "2021-10-25T12:15:24.761171Z",
     "start_time": "2021-10-25T12:15:24.748172Z"
    }
   },
   "outputs": [
    {
     "name": "stdout",
     "output_type": "stream",
     "text": [
      "['abc', 3.14, True]\n"
     ]
    }
   ],
   "source": [
    "print(l2[0:-1])"
   ]
  },
  {
   "cell_type": "code",
   "execution_count": 16,
   "id": "d83ce024",
   "metadata": {
    "ExecuteTime": {
     "end_time": "2021-10-25T12:15:24.776172Z",
     "start_time": "2021-10-25T12:15:24.764172Z"
    }
   },
   "outputs": [
    {
     "data": {
      "text/plain": [
       "['Jaspreet', 'Pryianshu']"
      ]
     },
     "execution_count": 16,
     "metadata": {},
     "output_type": "execute_result"
    }
   ],
   "source": [
    "all_employee_names"
   ]
  },
  {
   "cell_type": "code",
   "execution_count": 17,
   "id": "64136719",
   "metadata": {
    "ExecuteTime": {
     "end_time": "2021-10-25T12:15:24.792167Z",
     "start_time": "2021-10-25T12:15:24.778167Z"
    }
   },
   "outputs": [
    {
     "data": {
      "text/plain": [
       "['Jaspreet', 'Amit']"
      ]
     },
     "execution_count": 17,
     "metadata": {},
     "output_type": "execute_result"
    }
   ],
   "source": [
    "all_employee_names[1] = \"Amit\"\n",
    "all_employee_names"
   ]
  },
  {
   "cell_type": "code",
   "execution_count": 18,
   "id": "9b36651c",
   "metadata": {
    "ExecuteTime": {
     "end_time": "2021-10-25T12:15:24.807169Z",
     "start_time": "2021-10-25T12:15:24.794169Z"
    }
   },
   "outputs": [
    {
     "data": {
      "text/plain": [
       "['Amit', 'Jaspreet']"
      ]
     },
     "execution_count": 18,
     "metadata": {},
     "output_type": "execute_result"
    }
   ],
   "source": [
    "all_employee_names.sort()\n",
    "all_employee_names"
   ]
  },
  {
   "cell_type": "code",
   "execution_count": 19,
   "id": "b13b94fb",
   "metadata": {
    "ExecuteTime": {
     "end_time": "2021-10-25T12:15:24.822168Z",
     "start_time": "2021-10-25T12:15:24.810173Z"
    }
   },
   "outputs": [
    {
     "data": {
      "text/plain": [
       "['Jaspreet', 'Amit']"
      ]
     },
     "execution_count": 19,
     "metadata": {},
     "output_type": "execute_result"
    }
   ],
   "source": [
    "all_employee_names.sort(reverse=True)\n",
    "all_employee_names"
   ]
  },
  {
   "cell_type": "code",
   "execution_count": 20,
   "id": "aaa94c59",
   "metadata": {
    "ExecuteTime": {
     "end_time": "2021-10-25T12:15:24.837175Z",
     "start_time": "2021-10-25T12:15:24.824170Z"
    }
   },
   "outputs": [
    {
     "data": {
      "text/plain": [
       "['Amit', 'Jaspreet']"
      ]
     },
     "execution_count": 20,
     "metadata": {},
     "output_type": "execute_result"
    }
   ],
   "source": [
    "all_employee_names.reverse()\n",
    "all_employee_names"
   ]
  },
  {
   "cell_type": "code",
   "execution_count": 21,
   "id": "89aadb78",
   "metadata": {
    "ExecuteTime": {
     "end_time": "2021-10-25T12:15:24.853169Z",
     "start_time": "2021-10-25T12:15:24.843210Z"
    }
   },
   "outputs": [
    {
     "ename": "ValueError",
     "evalue": "list.remove(x): x not in list",
     "output_type": "error",
     "traceback": [
      "\u001b[1;31m---------------------------------------------------------------------------\u001b[0m",
      "\u001b[1;31mValueError\u001b[0m                                Traceback (most recent call last)",
      "\u001b[1;32m<ipython-input-21-d74c1d04e1b4>\u001b[0m in \u001b[0;36m<module>\u001b[1;34m\u001b[0m\n\u001b[1;32m----> 1\u001b[1;33m \u001b[0mall_employee_names\u001b[0m\u001b[1;33m.\u001b[0m\u001b[0mremove\u001b[0m\u001b[1;33m(\u001b[0m\u001b[1;34m'Priyank'\u001b[0m\u001b[1;33m)\u001b[0m\u001b[1;33m\u001b[0m\u001b[1;33m\u001b[0m\u001b[0m\n\u001b[0m\u001b[0;32m      2\u001b[0m \u001b[0mall_employee_names\u001b[0m\u001b[1;33m\u001b[0m\u001b[1;33m\u001b[0m\u001b[0m\n",
      "\u001b[1;31mValueError\u001b[0m: list.remove(x): x not in list"
     ]
    }
   ],
   "source": [
    "all_employee_names.remove('Priyank')\n",
    "all_employee_names"
   ]
  },
  {
   "cell_type": "markdown",
   "id": "53bff721",
   "metadata": {},
   "source": [
    "## Mutation\n",
    "\n",
    "<font color=blue>supports mutability"
   ]
  },
  {
   "cell_type": "code",
   "execution_count": 22,
   "id": "ba6ea043",
   "metadata": {
    "ExecuteTime": {
     "end_time": "2021-10-25T12:15:34.005777Z",
     "start_time": "2021-10-25T12:15:33.992777Z"
    }
   },
   "outputs": [
    {
     "data": {
      "text/plain": [
       "['Amit', 'Jaspreet']"
      ]
     },
     "execution_count": 22,
     "metadata": {},
     "output_type": "execute_result"
    }
   ],
   "source": [
    "all_employee_names"
   ]
  },
  {
   "cell_type": "code",
   "execution_count": 23,
   "id": "177e1dea",
   "metadata": {
    "ExecuteTime": {
     "end_time": "2021-10-25T12:15:34.020779Z",
     "start_time": "2021-10-25T12:15:34.007777Z"
    }
   },
   "outputs": [],
   "source": [
    "all_employee_names.append('Amit')"
   ]
  },
  {
   "cell_type": "code",
   "execution_count": 24,
   "id": "151956f6",
   "metadata": {
    "ExecuteTime": {
     "end_time": "2021-10-25T12:15:34.035783Z",
     "start_time": "2021-10-25T12:15:34.023783Z"
    }
   },
   "outputs": [
    {
     "data": {
      "text/plain": [
       "['Amit', 'Jaspreet', 'Amit']"
      ]
     },
     "execution_count": 24,
     "metadata": {},
     "output_type": "execute_result"
    }
   ],
   "source": [
    "all_employee_names"
   ]
  },
  {
   "cell_type": "code",
   "execution_count": 25,
   "id": "36cf1125",
   "metadata": {
    "ExecuteTime": {
     "end_time": "2021-10-25T12:15:34.051780Z",
     "start_time": "2021-10-25T12:15:34.038781Z"
    }
   },
   "outputs": [
    {
     "data": {
      "text/plain": [
       "[1, 2, 3, 'a', 'b', 'c']"
      ]
     },
     "execution_count": 25,
     "metadata": {},
     "output_type": "execute_result"
    }
   ],
   "source": [
    "[1, 2, 3] + ['a', 'b', 'c']"
   ]
  },
  {
   "cell_type": "code",
   "execution_count": 26,
   "id": "c9dc8491",
   "metadata": {
    "ExecuteTime": {
     "end_time": "2021-10-25T12:15:34.067806Z",
     "start_time": "2021-10-25T12:15:34.054795Z"
    }
   },
   "outputs": [
    {
     "data": {
      "text/plain": [
       "[1, 2, 3, 'a', 'b', 'c']"
      ]
     },
     "execution_count": 26,
     "metadata": {},
     "output_type": "execute_result"
    }
   ],
   "source": [
    "### Mutation\n",
    "\n",
    "all_employee_names\n",
    "\n",
    "all_employee_names.append('Amit')\n",
    "\n",
    "all_employee_names\n",
    "\n",
    "[1, 2, 3] + ['a', 'b', 'c']"
   ]
  }
 ],
 "metadata": {
  "kernelspec": {
   "display_name": "Python 3",
   "language": "python",
   "name": "python3"
  },
  "language_info": {
   "codemirror_mode": {
    "name": "ipython",
    "version": 3
   },
   "file_extension": ".py",
   "mimetype": "text/x-python",
   "name": "python",
   "nbconvert_exporter": "python",
   "pygments_lexer": "ipython3",
   "version": "3.8.10"
  },
  "toc": {
   "base_numbering": 1,
   "nav_menu": {},
   "number_sections": true,
   "sideBar": true,
   "skip_h1_title": false,
   "title_cell": "Table of Contents",
   "title_sidebar": "Contents",
   "toc_cell": false,
   "toc_position": {},
   "toc_section_display": true,
   "toc_window_display": false
  },
  "varInspector": {
   "cols": {
    "lenName": 16,
    "lenType": 16,
    "lenVar": 40
   },
   "kernels_config": {
    "python": {
     "delete_cmd_postfix": "",
     "delete_cmd_prefix": "del ",
     "library": "var_list.py",
     "varRefreshCmd": "print(var_dic_list())"
    },
    "r": {
     "delete_cmd_postfix": ") ",
     "delete_cmd_prefix": "rm(",
     "library": "var_list.r",
     "varRefreshCmd": "cat(var_dic_list()) "
    }
   },
   "types_to_exclude": [
    "module",
    "function",
    "builtin_function_or_method",
    "instance",
    "_Feature"
   ],
   "window_display": false
  }
 },
 "nbformat": 4,
 "nbformat_minor": 5
}
