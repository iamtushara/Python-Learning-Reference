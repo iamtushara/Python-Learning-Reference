{
 "cells": [
  {
   "cell_type": "markdown",
   "id": "510f606e",
   "metadata": {},
   "source": [
    "# Dictionaries\n",
    "\n",
    "key-value pairs"
   ]
  },
  {
   "cell_type": "code",
   "execution_count": 16,
   "id": "48c14f0a",
   "metadata": {
    "ExecuteTime": {
     "end_time": "2021-10-26T05:32:04.114968Z",
     "start_time": "2021-10-26T05:32:04.106968Z"
    }
   },
   "outputs": [],
   "source": [
    "# storing values - Name, Age, Salary\n",
    "my_list = ['Rajesh', 20, 3.14]\n",
    "\n",
    "my_tuple = ('Rajesh', 20, 3.14)\n",
    "\n",
    "my_set = {'Rajesh', 20, 3.14}\n",
    "\n",
    "my_dict = {'Name':'Rajesh', 'Age':20, 'Salary':3.14}"
   ]
  },
  {
   "cell_type": "code",
   "execution_count": 21,
   "id": "588c0530",
   "metadata": {
    "ExecuteTime": {
     "end_time": "2021-10-26T05:32:34.584700Z",
     "start_time": "2021-10-26T05:32:34.574703Z"
    }
   },
   "outputs": [
    {
     "data": {
      "text/plain": [
       "6"
      ]
     },
     "execution_count": 21,
     "metadata": {},
     "output_type": "execute_result"
    }
   ],
   "source": [
    "len(\"Tushar\")"
   ]
  },
  {
   "cell_type": "code",
   "execution_count": 5,
   "id": "6cc5dbef",
   "metadata": {
    "ExecuteTime": {
     "end_time": "2021-10-26T05:21:33.120725Z",
     "start_time": "2021-10-26T05:21:33.112722Z"
    }
   },
   "outputs": [
    {
     "data": {
      "text/plain": [
       "3.14"
      ]
     },
     "execution_count": 5,
     "metadata": {},
     "output_type": "execute_result"
    }
   ],
   "source": [
    "my_list[-1]"
   ]
  },
  {
   "cell_type": "code",
   "execution_count": 6,
   "id": "543fd79a",
   "metadata": {
    "ExecuteTime": {
     "end_time": "2021-10-26T05:21:48.385640Z",
     "start_time": "2021-10-26T05:21:48.379640Z"
    }
   },
   "outputs": [
    {
     "data": {
      "text/plain": [
       "3.14"
      ]
     },
     "execution_count": 6,
     "metadata": {},
     "output_type": "execute_result"
    }
   ],
   "source": [
    "my_tuple[-1]"
   ]
  },
  {
   "cell_type": "code",
   "execution_count": 8,
   "id": "a580fa2d",
   "metadata": {
    "ExecuteTime": {
     "end_time": "2021-10-26T05:24:15.282369Z",
     "start_time": "2021-10-26T05:24:15.269370Z"
    }
   },
   "outputs": [
    {
     "ename": "TypeError",
     "evalue": "'set' object is not subscriptable",
     "output_type": "error",
     "traceback": [
      "\u001b[1;31m---------------------------------------------------------------------------\u001b[0m",
      "\u001b[1;31mTypeError\u001b[0m                                 Traceback (most recent call last)",
      "\u001b[1;32mC:\\Users\\TUSHAR~1\\AppData\\Local\\Temp/ipykernel_7672/1282344271.py\u001b[0m in \u001b[0;36m<module>\u001b[1;34m\u001b[0m\n\u001b[1;32m----> 1\u001b[1;33m \u001b[0mmy_set\u001b[0m\u001b[1;33m[\u001b[0m\u001b[1;33m-\u001b[0m\u001b[1;36m1\u001b[0m\u001b[1;33m]\u001b[0m\u001b[1;33m\u001b[0m\u001b[1;33m\u001b[0m\u001b[0m\n\u001b[0m",
      "\u001b[1;31mTypeError\u001b[0m: 'set' object is not subscriptable"
     ]
    }
   ],
   "source": [
    "my_set[-1]"
   ]
  },
  {
   "cell_type": "code",
   "execution_count": 9,
   "id": "71c558c7",
   "metadata": {
    "ExecuteTime": {
     "end_time": "2021-10-26T05:24:25.312925Z",
     "start_time": "2021-10-26T05:24:25.299927Z"
    }
   },
   "outputs": [
    {
     "ename": "KeyError",
     "evalue": "-1",
     "output_type": "error",
     "traceback": [
      "\u001b[1;31m---------------------------------------------------------------------------\u001b[0m",
      "\u001b[1;31mKeyError\u001b[0m                                  Traceback (most recent call last)",
      "\u001b[1;32mC:\\Users\\TUSHAR~1\\AppData\\Local\\Temp/ipykernel_7672/1517435923.py\u001b[0m in \u001b[0;36m<module>\u001b[1;34m\u001b[0m\n\u001b[1;32m----> 1\u001b[1;33m \u001b[0mmy_dict\u001b[0m\u001b[1;33m[\u001b[0m\u001b[1;33m-\u001b[0m\u001b[1;36m1\u001b[0m\u001b[1;33m]\u001b[0m\u001b[1;33m\u001b[0m\u001b[1;33m\u001b[0m\u001b[0m\n\u001b[0m",
      "\u001b[1;31mKeyError\u001b[0m: -1"
     ]
    }
   ],
   "source": [
    "my_dict['salary']"
   ]
  },
  {
   "cell_type": "code",
   "execution_count": 13,
   "id": "f76ebb42",
   "metadata": {
    "ExecuteTime": {
     "end_time": "2021-10-26T05:29:05.971466Z",
     "start_time": "2021-10-26T05:29:05.958462Z"
    }
   },
   "outputs": [
    {
     "ename": "KeyError",
     "evalue": "-1",
     "output_type": "error",
     "traceback": [
      "\u001b[1;31m---------------------------------------------------------------------------\u001b[0m",
      "\u001b[1;31mKeyError\u001b[0m                                  Traceback (most recent call last)",
      "\u001b[1;32mC:\\Users\\TUSHAR~1\\AppData\\Local\\Temp/ipykernel_7672/1517435923.py\u001b[0m in \u001b[0;36m<module>\u001b[1;34m\u001b[0m\n\u001b[1;32m----> 1\u001b[1;33m \u001b[0mmy_dict\u001b[0m\u001b[1;33m[\u001b[0m\u001b[1;33m-\u001b[0m\u001b[1;36m1\u001b[0m\u001b[1;33m]\u001b[0m\u001b[1;33m\u001b[0m\u001b[1;33m\u001b[0m\u001b[0m\n\u001b[0m",
      "\u001b[1;31mKeyError\u001b[0m: -1"
     ]
    }
   ],
   "source": [
    "my_dict[-1]"
   ]
  },
  {
   "cell_type": "code",
   "execution_count": null,
   "id": "084e82d1",
   "metadata": {},
   "outputs": [],
   "source": []
  },
  {
   "cell_type": "code",
   "execution_count": 14,
   "id": "b350b1ed",
   "metadata": {
    "ExecuteTime": {
     "end_time": "2021-10-26T05:31:08.227812Z",
     "start_time": "2021-10-26T05:31:08.220813Z"
    }
   },
   "outputs": [],
   "source": [
    "test_list = [12, True, ['abc', 'bed'], 3.14, {'k1': 'v1', 'k2': ['x', 'y', {'m', 'n', 'o'}]}, False]"
   ]
  },
  {
   "cell_type": "code",
   "execution_count": 23,
   "id": "616c597a",
   "metadata": {
    "ExecuteTime": {
     "end_time": "2021-10-26T05:32:51.923310Z",
     "start_time": "2021-10-26T05:32:51.917288Z"
    }
   },
   "outputs": [
    {
     "name": "stdout",
     "output_type": "stream",
     "text": [
      "<class 'list'>\n",
      "6\n"
     ]
    }
   ],
   "source": [
    "print(type(test_list))\n",
    "print(len(test_list))"
   ]
  },
  {
   "cell_type": "code",
   "execution_count": 28,
   "id": "2a6b5446",
   "metadata": {
    "ExecuteTime": {
     "end_time": "2021-10-26T05:36:36.125453Z",
     "start_time": "2021-10-26T05:36:36.117456Z"
    }
   },
   "outputs": [
    {
     "data": {
      "text/plain": [
       "[12,\n",
       " True,\n",
       " ['abc', 'bed'],\n",
       " 3.14,\n",
       " {'k1': 'v1', 'k2': ['x', 'y', {'m', 'n', 'o'}]},\n",
       " False]"
      ]
     },
     "execution_count": 28,
     "metadata": {},
     "output_type": "execute_result"
    }
   ],
   "source": [
    "test_list"
   ]
  },
  {
   "cell_type": "code",
   "execution_count": 25,
   "id": "2539e57c",
   "metadata": {
    "ExecuteTime": {
     "end_time": "2021-10-26T05:33:48.720744Z",
     "start_time": "2021-10-26T05:33:48.713743Z"
    }
   },
   "outputs": [
    {
     "data": {
      "text/plain": [
       "{'k1': 'v1', 'k2': ['x', 'y', {'m', 'n', 'o'}]}"
      ]
     },
     "execution_count": 25,
     "metadata": {},
     "output_type": "execute_result"
    }
   ],
   "source": [
    "test_list[4]"
   ]
  },
  {
   "cell_type": "code",
   "execution_count": 30,
   "id": "ea7e74cd",
   "metadata": {
    "ExecuteTime": {
     "end_time": "2021-10-26T05:37:29.643908Z",
     "start_time": "2021-10-26T05:37:29.636903Z"
    }
   },
   "outputs": [
    {
     "data": {
      "text/plain": [
       "{'m', 'n', 'o'}"
      ]
     },
     "execution_count": 30,
     "metadata": {},
     "output_type": "execute_result"
    }
   ],
   "source": [
    "test_list[4]['k2'][-1]"
   ]
  },
  {
   "cell_type": "code",
   "execution_count": 32,
   "id": "0f2e2a18",
   "metadata": {
    "ExecuteTime": {
     "end_time": "2021-10-26T05:38:42.121329Z",
     "start_time": "2021-10-26T05:38:42.109327Z"
    }
   },
   "outputs": [
    {
     "ename": "KeyError",
     "evalue": "3.14",
     "output_type": "error",
     "traceback": [
      "\u001b[1;31m---------------------------------------------------------------------------\u001b[0m",
      "\u001b[1;31mKeyError\u001b[0m                                  Traceback (most recent call last)",
      "\u001b[1;32mC:\\Users\\TUSHAR~1\\AppData\\Local\\Temp/ipykernel_7672/326494980.py\u001b[0m in \u001b[0;36m<module>\u001b[1;34m\u001b[0m\n\u001b[1;32m----> 1\u001b[1;33m \u001b[0mmy_dict\u001b[0m\u001b[1;33m[\u001b[0m\u001b[1;36m3.14\u001b[0m\u001b[1;33m]\u001b[0m\u001b[1;33m\u001b[0m\u001b[1;33m\u001b[0m\u001b[0m\n\u001b[0m",
      "\u001b[1;31mKeyError\u001b[0m: 3.14"
     ]
    }
   ],
   "source": [
    "my_dict[]"
   ]
  },
  {
   "cell_type": "code",
   "execution_count": null,
   "id": "ab2ffef9",
   "metadata": {},
   "outputs": [],
   "source": [
    "[1, 2, 3]\n",
    "[True, False] # a list of booleans\n",
    "[[1], [2], [3,4,5]] # a list of lists"
   ]
  },
  {
   "cell_type": "code",
   "execution_count": 33,
   "id": "84422b9c",
   "metadata": {
    "ExecuteTime": {
     "end_time": "2021-10-26T05:40:10.424328Z",
     "start_time": "2021-10-26T05:40:10.418325Z"
    }
   },
   "outputs": [
    {
     "data": {
      "text/plain": [
       "dict_keys(['Name', 'Age', 'Salary'])"
      ]
     },
     "execution_count": 33,
     "metadata": {},
     "output_type": "execute_result"
    }
   ],
   "source": [
    "my_dict.keys()"
   ]
  },
  {
   "cell_type": "code",
   "execution_count": 35,
   "id": "d095ecd7",
   "metadata": {
    "ExecuteTime": {
     "end_time": "2021-10-26T05:40:57.136270Z",
     "start_time": "2021-10-26T05:40:57.129269Z"
    }
   },
   "outputs": [
    {
     "data": {
      "text/plain": [
       "dict_values(['Rajesh', 20, 3.14])"
      ]
     },
     "execution_count": 35,
     "metadata": {},
     "output_type": "execute_result"
    }
   ],
   "source": [
    "my_dict.values()"
   ]
  },
  {
   "cell_type": "code",
   "execution_count": 36,
   "id": "8e44b7b0",
   "metadata": {
    "ExecuteTime": {
     "end_time": "2021-10-26T05:41:22.403152Z",
     "start_time": "2021-10-26T05:41:22.395153Z"
    }
   },
   "outputs": [
    {
     "data": {
      "text/plain": [
       "dict_items([('Name', 'Rajesh'), ('Age', 20), ('Salary', 3.14)])"
      ]
     },
     "execution_count": 36,
     "metadata": {},
     "output_type": "execute_result"
    }
   ],
   "source": [
    "my_dict.items()"
   ]
  },
  {
   "cell_type": "code",
   "execution_count": null,
   "id": "557a4c5d",
   "metadata": {},
   "outputs": [],
   "source": []
  },
  {
   "cell_type": "code",
   "execution_count": 37,
   "id": "4385c65c",
   "metadata": {
    "ExecuteTime": {
     "end_time": "2021-10-26T05:43:53.624220Z",
     "start_time": "2021-10-26T05:43:53.618216Z"
    }
   },
   "outputs": [
    {
     "data": {
      "text/plain": [
       "{'Name': 'Rajesh', 'Age': 20, 'Salary': 3.14}"
      ]
     },
     "execution_count": 37,
     "metadata": {},
     "output_type": "execute_result"
    }
   ],
   "source": [
    "my_dict"
   ]
  },
  {
   "cell_type": "code",
   "execution_count": 39,
   "id": "fa608de6",
   "metadata": {
    "ExecuteTime": {
     "end_time": "2021-10-26T05:44:21.992481Z",
     "start_time": "2021-10-26T05:44:21.987483Z"
    }
   },
   "outputs": [],
   "source": [
    "my_dict['address'] = 'Mumbai'"
   ]
  },
  {
   "cell_type": "code",
   "execution_count": 40,
   "id": "5a7c9789",
   "metadata": {
    "ExecuteTime": {
     "end_time": "2021-10-26T05:44:26.050482Z",
     "start_time": "2021-10-26T05:44:26.043482Z"
    }
   },
   "outputs": [
    {
     "data": {
      "text/plain": [
       "{'Name': 'Rajesh', 'Age': 20, 'Salary': 3.14, 'address': 'Mumbai'}"
      ]
     },
     "execution_count": 40,
     "metadata": {},
     "output_type": "execute_result"
    }
   ],
   "source": [
    "my_dict"
   ]
  },
  {
   "cell_type": "code",
   "execution_count": 41,
   "id": "e658ef6e",
   "metadata": {
    "ExecuteTime": {
     "end_time": "2021-10-26T05:44:55.610920Z",
     "start_time": "2021-10-26T05:44:55.606709Z"
    }
   },
   "outputs": [],
   "source": [
    "my_dict['Age'] = 15"
   ]
  },
  {
   "cell_type": "code",
   "execution_count": 43,
   "id": "48fdfcbb",
   "metadata": {
    "ExecuteTime": {
     "end_time": "2021-10-26T05:45:00.204511Z",
     "start_time": "2021-10-26T05:45:00.197508Z"
    }
   },
   "outputs": [
    {
     "data": {
      "text/plain": [
       "{'Name': 'Rajesh', 'Age': 15, 'Salary': 3.14, 'address': 'Mumbai'}"
      ]
     },
     "execution_count": 43,
     "metadata": {},
     "output_type": "execute_result"
    }
   ],
   "source": [
    "my_dict"
   ]
  },
  {
   "cell_type": "code",
   "execution_count": 44,
   "id": "ff668d3e",
   "metadata": {
    "ExecuteTime": {
     "end_time": "2021-10-26T05:46:29.307448Z",
     "start_time": "2021-10-26T05:46:29.298455Z"
    }
   },
   "outputs": [
    {
     "data": {
      "text/plain": [
       "{'Name': 'Rajesh',\n",
       " 'Age': 15,\n",
       " 'Salary': 3.14,\n",
       " 'address': 'Mumbai',\n",
       " 'dob': '2020-01-01'}"
      ]
     },
     "execution_count": 44,
     "metadata": {},
     "output_type": "execute_result"
    }
   ],
   "source": [
    "my_dict.setdefault('dob', \"2020-01-01\")\n",
    "my_dict"
   ]
  },
  {
   "cell_type": "code",
   "execution_count": 49,
   "id": "10ba8e9a",
   "metadata": {
    "ExecuteTime": {
     "end_time": "2021-10-26T05:51:06.974518Z",
     "start_time": "2021-10-26T05:51:06.967520Z"
    }
   },
   "outputs": [
    {
     "data": {
      "text/plain": [
       "{'Name': 'Rajesh',\n",
       " 'Age': 15,\n",
       " 'Salary': 1000,\n",
       " 'address': 'Mumbai',\n",
       " 'dob': '2020-01-01',\n",
       " 'Mobile': '9999988888'}"
      ]
     },
     "execution_count": 49,
     "metadata": {},
     "output_type": "execute_result"
    }
   ],
   "source": [
    "my_dict.setdefault('Mobile', \"9999988888\")\n",
    "my_dict"
   ]
  },
  {
   "cell_type": "code",
   "execution_count": 48,
   "id": "b689400b",
   "metadata": {
    "ExecuteTime": {
     "end_time": "2021-10-26T05:50:27.602490Z",
     "start_time": "2021-10-26T05:50:27.596486Z"
    }
   },
   "outputs": [
    {
     "data": {
      "text/plain": [
       "{'Name': 'Rajesh',\n",
       " 'Age': 15,\n",
       " 'Salary': 1000,\n",
       " 'address': 'Mumbai',\n",
       " 'dob': '2020-01-01'}"
      ]
     },
     "execution_count": 48,
     "metadata": {},
     "output_type": "execute_result"
    }
   ],
   "source": [
    "my_dict['Salary'] =1000\n",
    "my_dict"
   ]
  }
 ],
 "metadata": {
  "kernelspec": {
   "display_name": "Python [conda env:iocl-python-training]",
   "language": "python",
   "name": "conda-env-iocl-python-training-py"
  },
  "language_info": {
   "codemirror_mode": {
    "name": "ipython",
    "version": 3
   },
   "file_extension": ".py",
   "mimetype": "text/x-python",
   "name": "python",
   "nbconvert_exporter": "python",
   "pygments_lexer": "ipython3",
   "version": "3.9.7"
  },
  "toc": {
   "base_numbering": 1,
   "nav_menu": {},
   "number_sections": true,
   "sideBar": true,
   "skip_h1_title": false,
   "title_cell": "Table of Contents",
   "title_sidebar": "Contents",
   "toc_cell": false,
   "toc_position": {},
   "toc_section_display": true,
   "toc_window_display": false
  },
  "varInspector": {
   "cols": {
    "lenName": 16,
    "lenType": 16,
    "lenVar": 40
   },
   "kernels_config": {
    "python": {
     "delete_cmd_postfix": "",
     "delete_cmd_prefix": "del ",
     "library": "var_list.py",
     "varRefreshCmd": "print(var_dic_list())"
    },
    "r": {
     "delete_cmd_postfix": ") ",
     "delete_cmd_prefix": "rm(",
     "library": "var_list.r",
     "varRefreshCmd": "cat(var_dic_list()) "
    }
   },
   "types_to_exclude": [
    "module",
    "function",
    "builtin_function_or_method",
    "instance",
    "_Feature"
   ],
   "window_display": false
  }
 },
 "nbformat": 4,
 "nbformat_minor": 5
}
