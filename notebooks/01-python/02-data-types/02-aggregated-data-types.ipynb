{
 "cells": [
  {
   "cell_type": "markdown",
   "id": "83402d0b",
   "metadata": {},
   "source": [
    "# Aggregated data types\n",
    "\n",
    "<font color=gray size=3><b>Introduction to the aggregated data-types in Python"
   ]
  },
  {
   "cell_type": "markdown",
   "id": "43ede8ad",
   "metadata": {},
   "source": [
    "- List\n",
    "- Tuple\n",
    "- Set\n",
    "- Dictionary"
   ]
  },
  {
   "cell_type": "markdown",
   "id": "b783fa2e",
   "metadata": {},
   "source": [
    "<img src=\"../imgs/agg-data-types.png\" width=50% height=50% align=\"left\"/>"
   ]
  },
  {
   "cell_type": "markdown",
   "id": "ecef8d8c",
   "metadata": {},
   "source": [
    "## List\n",
    "\n",
    "<font color=blue>general purpose containers  \n",
    "  - ordered\n",
    "  - mutable"
   ]
  },
  {
   "cell_type": "code",
   "execution_count": 1,
   "id": "4a257195",
   "metadata": {
    "ExecuteTime": {
     "end_time": "2021-10-25T12:30:33.255890Z",
     "start_time": "2021-10-25T12:30:33.243893Z"
    }
   },
   "outputs": [],
   "source": [
    "my_list = [1, 3.14, True, 'Amit']"
   ]
  },
  {
   "cell_type": "code",
   "execution_count": 2,
   "id": "5bafdd75",
   "metadata": {
    "ExecuteTime": {
     "end_time": "2021-10-25T12:30:33.271893Z",
     "start_time": "2021-10-25T12:30:33.259892Z"
    }
   },
   "outputs": [
    {
     "name": "stdout",
     "output_type": "stream",
     "text": [
      "[1, 3.14, True, 'Amit']\n",
      "<class 'list'>\n"
     ]
    }
   ],
   "source": [
    "print(my_list)\n",
    "print(type(my_list))"
   ]
  },
  {
   "cell_type": "markdown",
   "id": "7ada049e",
   "metadata": {},
   "source": [
    "## Tuple\n",
    "\n",
    "<font color=blue>used when the data must not be modified  \n",
    "  - ordered\n",
    "  - immutable"
   ]
  },
  {
   "cell_type": "code",
   "execution_count": 3,
   "id": "c0dbe073",
   "metadata": {
    "ExecuteTime": {
     "end_time": "2021-10-25T12:30:33.317916Z",
     "start_time": "2021-10-25T12:30:33.304903Z"
    }
   },
   "outputs": [],
   "source": [
    "my_tuple = (1, 3.14, True, 'Amit')"
   ]
  },
  {
   "cell_type": "code",
   "execution_count": 4,
   "id": "ca9b3154",
   "metadata": {
    "ExecuteTime": {
     "end_time": "2021-10-25T12:30:33.333889Z",
     "start_time": "2021-10-25T12:30:33.320901Z"
    }
   },
   "outputs": [
    {
     "name": "stdout",
     "output_type": "stream",
     "text": [
      "(1, 3.14, True, 'Amit')\n",
      "<class 'tuple'>\n"
     ]
    }
   ],
   "source": [
    "print(my_tuple)\n",
    "print(type(my_tuple))"
   ]
  },
  {
   "cell_type": "markdown",
   "id": "b2536465",
   "metadata": {},
   "source": [
    "## Set\n",
    "\n",
    "<font color=blue>used for set operations; does not allow duplicity of data  \n",
    "  - un-ordered\n",
    "  - mutable"
   ]
  },
  {
   "cell_type": "code",
   "execution_count": 5,
   "id": "eddf62a2",
   "metadata": {
    "ExecuteTime": {
     "end_time": "2021-10-25T12:30:33.317916Z",
     "start_time": "2021-10-25T12:30:33.304903Z"
    }
   },
   "outputs": [],
   "source": [
    "my_set = {1, 1, 1, 3.14, True, 'Amit'}"
   ]
  },
  {
   "cell_type": "code",
   "execution_count": 6,
   "id": "20742172",
   "metadata": {
    "ExecuteTime": {
     "end_time": "2021-10-25T12:30:33.333889Z",
     "start_time": "2021-10-25T12:30:33.320901Z"
    }
   },
   "outputs": [
    {
     "name": "stdout",
     "output_type": "stream",
     "text": [
      "{'Amit', 1, 3.14}\n",
      "<class 'set'>\n"
     ]
    }
   ],
   "source": [
    "print(my_set)\n",
    "print(type(my_set))"
   ]
  },
  {
   "cell_type": "markdown",
   "id": "660cc64c",
   "metadata": {},
   "source": [
    "## Dictionary\n",
    "\n",
    "<font color=blue>data is stored in the key-value format\n",
    "  - un-ordered\n",
    "  - mutable"
   ]
  },
  {
   "cell_type": "code",
   "execution_count": 7,
   "id": "2dde3276",
   "metadata": {
    "ExecuteTime": {
     "end_time": "2021-10-25T12:30:33.349888Z",
     "start_time": "2021-10-25T12:30:33.337892Z"
    }
   },
   "outputs": [],
   "source": [
    "my_dict = {'name': 'Amit', 'age': 20}"
   ]
  },
  {
   "cell_type": "code",
   "execution_count": 8,
   "id": "612b1973",
   "metadata": {
    "ExecuteTime": {
     "end_time": "2021-10-25T12:30:33.365888Z",
     "start_time": "2021-10-25T12:30:33.352890Z"
    }
   },
   "outputs": [
    {
     "name": "stdout",
     "output_type": "stream",
     "text": [
      "{'name': 'Amit', 'age': 20}\n",
      "<class 'dict'>\n"
     ]
    }
   ],
   "source": [
    "print(my_dict)\n",
    "print(type(my_dict))"
   ]
  },
  {
   "cell_type": "markdown",
   "id": "9f879fc8",
   "metadata": {},
   "source": [
    "---"
   ]
  }
 ],
 "metadata": {
  "kernelspec": {
   "display_name": "Python 3",
   "language": "python",
   "name": "python3"
  },
  "language_info": {
   "codemirror_mode": {
    "name": "ipython",
    "version": 3
   },
   "file_extension": ".py",
   "mimetype": "text/x-python",
   "name": "python",
   "nbconvert_exporter": "python",
   "pygments_lexer": "ipython3",
   "version": "3.8.10"
  },
  "toc": {
   "base_numbering": 1,
   "nav_menu": {},
   "number_sections": true,
   "sideBar": true,
   "skip_h1_title": false,
   "title_cell": "Table of Contents",
   "title_sidebar": "Contents",
   "toc_cell": false,
   "toc_position": {
    "height": "calc(100% - 180px)",
    "left": "10px",
    "top": "150px",
    "width": "189.719px"
   },
   "toc_section_display": true,
   "toc_window_display": true
  },
  "varInspector": {
   "cols": {
    "lenName": 16,
    "lenType": 16,
    "lenVar": 40
   },
   "kernels_config": {
    "python": {
     "delete_cmd_postfix": "",
     "delete_cmd_prefix": "del ",
     "library": "var_list.py",
     "varRefreshCmd": "print(var_dic_list())"
    },
    "r": {
     "delete_cmd_postfix": ") ",
     "delete_cmd_prefix": "rm(",
     "library": "var_list.r",
     "varRefreshCmd": "cat(var_dic_list()) "
    }
   },
   "types_to_exclude": [
    "module",
    "function",
    "builtin_function_or_method",
    "instance",
    "_Feature"
   ],
   "window_display": false
  }
 },
 "nbformat": 4,
 "nbformat_minor": 5
}
