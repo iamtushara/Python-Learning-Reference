{
 "cells": [
  {
   "cell_type": "markdown",
   "id": "3fb5e5ea",
   "metadata": {},
   "source": [
    "# Sets"
   ]
  },
  {
   "cell_type": "code",
   "execution_count": 1,
   "id": "bd11a1a3",
   "metadata": {
    "ExecuteTime": {
     "end_time": "2021-10-25T12:17:20.069489Z",
     "start_time": "2021-10-25T12:17:20.059475Z"
    }
   },
   "outputs": [],
   "source": [
    "salary = 3.14\n",
    "\n",
    "my_set = {1, 2, 3, 4, 3, 3, 4, 3, 4, 3, 4}"
   ]
  },
  {
   "cell_type": "code",
   "execution_count": 2,
   "id": "63bf38ab",
   "metadata": {
    "ExecuteTime": {
     "end_time": "2021-10-25T12:17:20.085473Z",
     "start_time": "2021-10-25T12:17:20.073474Z"
    }
   },
   "outputs": [
    {
     "name": "stdout",
     "output_type": "stream",
     "text": [
      "{1, 2, 3, 4}\n",
      "<class 'set'>\n"
     ]
    }
   ],
   "source": [
    "print(my_set)\n",
    "print(type(my_set))"
   ]
  },
  {
   "cell_type": "markdown",
   "id": "21a172f2",
   "metadata": {},
   "source": [
    "## Ordering\n",
    "\n",
    "<font color=red>does not support ordering"
   ]
  },
  {
   "cell_type": "code",
   "execution_count": 3,
   "id": "dff20e2a",
   "metadata": {
    "ExecuteTime": {
     "end_time": "2021-10-25T12:17:20.495501Z",
     "start_time": "2021-10-25T12:17:20.089471Z"
    }
   },
   "outputs": [
    {
     "ename": "TypeError",
     "evalue": "'set' object is not subscriptable",
     "output_type": "error",
     "traceback": [
      "\u001b[1;31m---------------------------------------------------------------------------\u001b[0m",
      "\u001b[1;31mTypeError\u001b[0m                                 Traceback (most recent call last)",
      "\u001b[1;32mC:\\Users\\TUSHAR~1\\AppData\\Local\\Temp/ipykernel_15024/1425178351.py\u001b[0m in \u001b[0;36m<module>\u001b[1;34m\u001b[0m\n\u001b[1;32m----> 1\u001b[1;33m \u001b[0mmy_set\u001b[0m\u001b[1;33m[\u001b[0m\u001b[1;33m:\u001b[0m\u001b[1;33m]\u001b[0m\u001b[1;33m\u001b[0m\u001b[1;33m\u001b[0m\u001b[0m\n\u001b[0m",
      "\u001b[1;31mTypeError\u001b[0m: 'set' object is not subscriptable"
     ]
    }
   ],
   "source": [
    "my_set[:]"
   ]
  },
  {
   "cell_type": "markdown",
   "id": "eb5241d5",
   "metadata": {},
   "source": [
    "## Mutability\n",
    "\n",
    "<font color=blue> Supports mutability"
   ]
  },
  {
   "cell_type": "code",
   "execution_count": 4,
   "id": "a393b412",
   "metadata": {
    "ExecuteTime": {
     "end_time": "2021-10-25T12:17:24.983640Z",
     "start_time": "2021-10-25T12:17:24.974639Z"
    }
   },
   "outputs": [
    {
     "name": "stdout",
     "output_type": "stream",
     "text": [
      "{1, 2, 3, 4}\n",
      "{1, 3, 4, 10}\n"
     ]
    }
   ],
   "source": [
    "print(my_set)\n",
    "my_set.add(10)\n",
    "my_set.add(4)\n",
    "my_set.remove(2)\n",
    "print(my_set)"
   ]
  },
  {
   "cell_type": "code",
   "execution_count": null,
   "id": "8623e26d",
   "metadata": {},
   "outputs": [],
   "source": []
  }
 ],
 "metadata": {
  "kernelspec": {
   "display_name": "Python [conda env:iocl-python-training]",
   "language": "python",
   "name": "conda-env-iocl-python-training-py"
  },
  "language_info": {
   "codemirror_mode": {
    "name": "ipython",
    "version": 3
   },
   "file_extension": ".py",
   "mimetype": "text/x-python",
   "name": "python",
   "nbconvert_exporter": "python",
   "pygments_lexer": "ipython3",
   "version": "3.9.7"
  },
  "toc": {
   "base_numbering": 1,
   "nav_menu": {},
   "number_sections": true,
   "sideBar": true,
   "skip_h1_title": false,
   "title_cell": "Table of Contents",
   "title_sidebar": "Contents",
   "toc_cell": false,
   "toc_position": {},
   "toc_section_display": true,
   "toc_window_display": false
  },
  "varInspector": {
   "cols": {
    "lenName": 16,
    "lenType": 16,
    "lenVar": 40
   },
   "kernels_config": {
    "python": {
     "delete_cmd_postfix": "",
     "delete_cmd_prefix": "del ",
     "library": "var_list.py",
     "varRefreshCmd": "print(var_dic_list())"
    },
    "r": {
     "delete_cmd_postfix": ") ",
     "delete_cmd_prefix": "rm(",
     "library": "var_list.r",
     "varRefreshCmd": "cat(var_dic_list()) "
    }
   },
   "types_to_exclude": [
    "module",
    "function",
    "builtin_function_or_method",
    "instance",
    "_Feature"
   ],
   "window_display": false
  }
 },
 "nbformat": 4,
 "nbformat_minor": 5
}
