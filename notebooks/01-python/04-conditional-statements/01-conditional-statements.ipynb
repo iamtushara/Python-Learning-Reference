{
 "cells": [
  {
   "cell_type": "markdown",
   "id": "696e11cb",
   "metadata": {},
   "source": [
    "# Conditional Statements"
   ]
  },
  {
   "cell_type": "markdown",
   "id": "956496cb",
   "metadata": {},
   "source": [
    "Introduction to Conditional Statements in Python"
   ]
  },
  {
   "cell_type": "markdown",
   "id": "fef00a1b",
   "metadata": {},
   "source": [
    "# Syntax"
   ]
  },
  {
   "cell_type": "code",
   "execution_count": 1,
   "id": "e02e358a",
   "metadata": {
    "ExecuteTime": {
     "end_time": "2021-10-26T08:55:39.553322Z",
     "start_time": "2021-10-26T08:55:39.527358Z"
    }
   },
   "outputs": [
    {
     "data": {
      "text/plain": [
       "True"
      ]
     },
     "execution_count": 1,
     "metadata": {},
     "output_type": "execute_result"
    }
   ],
   "source": [
    "2 < 4"
   ]
  },
  {
   "cell_type": "raw",
   "id": "2d68cdbe",
   "metadata": {},
   "source": [
    "if condition1:    # this the required\n",
    "    \n",
    "    statement1(s)\n",
    "    \n",
    "elif condition2:  # optional\n",
    "\n",
    "    statement2(s)\n",
    "    \n",
    "elif condition3:  # optional\n",
    "\n",
    "    statement3(s)\n",
    "    \n",
    "    \n",
    "else:             # optional\n",
    "    \n",
    "    statement4(s)"
   ]
  },
  {
   "cell_type": "markdown",
   "id": "6f6c8d22",
   "metadata": {},
   "source": [
    "# Examples"
   ]
  },
  {
   "cell_type": "code",
   "execution_count": 2,
   "id": "26999161",
   "metadata": {
    "ExecuteTime": {
     "end_time": "2021-10-26T08:55:39.564321Z",
     "start_time": "2021-10-26T08:55:39.556320Z"
    }
   },
   "outputs": [
    {
     "name": "stdout",
     "output_type": "stream",
     "text": [
      "End of program\n"
     ]
    }
   ],
   "source": [
    "var = 11\n",
    "\n",
    "if False:\n",
    "    \n",
    "    # this will get executed only if the above condition is True\n",
    "    print('the number is EVEN')\n",
    "    \n",
    "    \n",
    "print(\"End of program\")    "
   ]
  },
  {
   "cell_type": "markdown",
   "id": "5c1abf41",
   "metadata": {},
   "source": [
    "##### Write a program to take a numeric input from the user and check if its ODD or EVEN"
   ]
  },
  {
   "cell_type": "code",
   "execution_count": 3,
   "id": "51bedbe7",
   "metadata": {
    "ExecuteTime": {
     "end_time": "2021-10-26T08:55:44.187326Z",
     "start_time": "2021-10-26T08:55:39.567322Z"
    }
   },
   "outputs": [
    {
     "name": "stdout",
     "output_type": "stream",
     "text": [
      "enter a number to check: 89\n",
      "the number is ODD\n",
      "End of program\n"
     ]
    }
   ],
   "source": [
    "var = input(\"enter a number to check: \")\n",
    "var = int(var)\n",
    "\n",
    "if var%2==0:\n",
    "    # this will get executed only if the above condition is True\n",
    "    print('the number is EVEN')\n",
    "else:\n",
    "    print('the number is ODD')\n",
    "    \n",
    "print(\"End of program\")    "
   ]
  },
  {
   "cell_type": "markdown",
   "id": "9926ba05",
   "metadata": {},
   "source": [
    "###### Write a program to take the marks of a student and print his/her grades, given that\n",
    "\n",
    "A : [100, 80]  \n",
    "B : (80, 70]  \n",
    "C : (70, 45]  \n",
    "Fail  "
   ]
  },
  {
   "cell_type": "code",
   "execution_count": 5,
   "id": "d3cf53e3",
   "metadata": {
    "ExecuteTime": {
     "end_time": "2021-10-26T08:56:32.646532Z",
     "start_time": "2021-10-26T08:56:30.640387Z"
    }
   },
   "outputs": [
    {
     "name": "stdout",
     "output_type": "stream",
     "text": [
      "please enter the marks you obtained: 78\n",
      "your grade is:\n",
      "B\n"
     ]
    }
   ],
   "source": [
    "# Taking an input from the user\n",
    "marks = input(\"please enter the marks you obtained: \")\n",
    "\n",
    "# Converting the str input to float\n",
    "marks = float(marks)\n",
    "\n",
    "# print the grades\n",
    "if marks <= 100 and marks >= 80:\n",
    "    print('your grade is:')\n",
    "    print(\"A\")\n",
    "\n",
    "elif marks < 80 and marks >= 70:\n",
    "    print('your grade is:')\n",
    "    print(\"B\")\n",
    "\n",
    "elif marks < 70 and marks >= 45:\n",
    "    print('your grade is:')\n",
    "    print('C')\n",
    "\n",
    "elif marks < 45 and marks >= 0:\n",
    "    print('Fail')\n",
    "    \n",
    "else:\n",
    "    print(\"Invalid Marks!\")"
   ]
  },
  {
   "cell_type": "markdown",
   "id": "7f81785a",
   "metadata": {},
   "source": [
    "---"
   ]
  }
 ],
 "metadata": {
  "kernelspec": {
   "display_name": "Python [conda env:iocl-python-training]",
   "language": "python",
   "name": "conda-env-iocl-python-training-py"
  },
  "language_info": {
   "codemirror_mode": {
    "name": "ipython",
    "version": 3
   },
   "file_extension": ".py",
   "mimetype": "text/x-python",
   "name": "python",
   "nbconvert_exporter": "python",
   "pygments_lexer": "ipython3",
   "version": "3.9.7"
  },
  "toc": {
   "base_numbering": 1,
   "nav_menu": {},
   "number_sections": true,
   "sideBar": true,
   "skip_h1_title": false,
   "title_cell": "Table of Contents",
   "title_sidebar": "Contents",
   "toc_cell": false,
   "toc_position": {},
   "toc_section_display": true,
   "toc_window_display": false
  },
  "varInspector": {
   "cols": {
    "lenName": 16,
    "lenType": 16,
    "lenVar": 40
   },
   "kernels_config": {
    "python": {
     "delete_cmd_postfix": "",
     "delete_cmd_prefix": "del ",
     "library": "var_list.py",
     "varRefreshCmd": "print(var_dic_list())"
    },
    "r": {
     "delete_cmd_postfix": ") ",
     "delete_cmd_prefix": "rm(",
     "library": "var_list.r",
     "varRefreshCmd": "cat(var_dic_list()) "
    }
   },
   "types_to_exclude": [
    "module",
    "function",
    "builtin_function_or_method",
    "instance",
    "_Feature"
   ],
   "window_display": false
  }
 },
 "nbformat": 4,
 "nbformat_minor": 5
}
