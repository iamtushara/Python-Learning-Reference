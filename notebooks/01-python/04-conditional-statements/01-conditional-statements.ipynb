{
 "cells": [
  {
   "cell_type": "markdown",
   "id": "696e11cb",
   "metadata": {},
   "source": [
    "# Conditional Statements"
   ]
  },
  {
   "cell_type": "markdown",
   "id": "956496cb",
   "metadata": {},
   "source": [
    "Introduction to Conditional Statements in Python"
   ]
  },
  {
   "cell_type": "markdown",
   "id": "fef00a1b",
   "metadata": {},
   "source": [
    "# Syntax"
   ]
  },
  {
   "cell_type": "code",
   "execution_count": 1,
   "id": "c8d26480",
   "metadata": {
    "ExecuteTime": {
     "end_time": "2021-10-26T07:38:17.477593Z",
     "start_time": "2021-10-26T07:38:17.459591Z"
    }
   },
   "outputs": [
    {
     "data": {
      "text/plain": [
       "True"
      ]
     },
     "execution_count": 1,
     "metadata": {},
     "output_type": "execute_result"
    }
   ],
   "source": [
    "2 < 4"
   ]
  },
  {
   "cell_type": "raw",
   "id": "f53d6ec8",
   "metadata": {},
   "source": [
    "if condition1:\n",
    "    \n",
    "    statement(s)\n",
    "    \n",
    "elif condition2:\n",
    "\n",
    "    statement(s)\n",
    "    \n",
    "elif condition3:\n",
    "\n",
    "    statement(s)\n",
    "    \n",
    "else:\n",
    "    \n",
    "    statement(s)"
   ]
  },
  {
   "cell_type": "markdown",
   "id": "6f6c8d22",
   "metadata": {},
   "source": [
    "# Examples"
   ]
  },
  {
   "cell_type": "raw",
   "id": "cea2293d",
   "metadata": {},
   "source": [
    "Write a program to take the marks of a student and print his/her grades, given that\n",
    "\n",
    "A : [100, 80]\n",
    "B : (80, 70]\n",
    "C : (70, 45]\n",
    "Fail"
   ]
  },
  {
   "cell_type": "code",
   "execution_count": 5,
   "id": "4d82e764",
   "metadata": {
    "ExecuteTime": {
     "end_time": "2021-10-26T07:50:49.372795Z",
     "start_time": "2021-10-26T07:50:44.426048Z"
    }
   },
   "outputs": [
    {
     "name": "stdout",
     "output_type": "stream",
     "text": [
      "please enter the marks you obtained: 75\n",
      "B\n"
     ]
    }
   ],
   "source": [
    "# Taking an input from the user\n",
    "marks = input(\"please enter the marks you obtained: \")\n",
    "\n",
    "# Converting the str input to float\n",
    "marks = float(marks)\n",
    "\n",
    "# print the grades\n",
    "if marks <= 100 and marks >= 80:\n",
    "    \n",
    "    print(\"A\")\n",
    "    \n",
    "elif marks < 80 and marks >= 70:\n",
    "    \n",
    "    print(\"B\")\n",
    "    \n",
    "elif marks < 70 and marks >= 45:\n",
    "    \n",
    "    print('C')\n",
    "    \n",
    "else:\n",
    "    \n",
    "    print(\"Fail\")"
   ]
  },
  {
   "cell_type": "code",
   "execution_count": null,
   "id": "d2cbeecd",
   "metadata": {},
   "outputs": [],
   "source": []
  },
  {
   "cell_type": "code",
   "execution_count": null,
   "id": "8158d464",
   "metadata": {},
   "outputs": [],
   "source": []
  }
 ],
 "metadata": {
  "kernelspec": {
   "display_name": "Python [conda env:iocl-python-training]",
   "language": "python",
   "name": "conda-env-iocl-python-training-py"
  },
  "language_info": {
   "codemirror_mode": {
    "name": "ipython",
    "version": 3
   },
   "file_extension": ".py",
   "mimetype": "text/x-python",
   "name": "python",
   "nbconvert_exporter": "python",
   "pygments_lexer": "ipython3",
   "version": "3.9.7"
  },
  "toc": {
   "base_numbering": 1,
   "nav_menu": {},
   "number_sections": true,
   "sideBar": true,
   "skip_h1_title": false,
   "title_cell": "Table of Contents",
   "title_sidebar": "Contents",
   "toc_cell": false,
   "toc_position": {},
   "toc_section_display": true,
   "toc_window_display": false
  },
  "varInspector": {
   "cols": {
    "lenName": 16,
    "lenType": 16,
    "lenVar": 40
   },
   "kernels_config": {
    "python": {
     "delete_cmd_postfix": "",
     "delete_cmd_prefix": "del ",
     "library": "var_list.py",
     "varRefreshCmd": "print(var_dic_list())"
    },
    "r": {
     "delete_cmd_postfix": ") ",
     "delete_cmd_prefix": "rm(",
     "library": "var_list.r",
     "varRefreshCmd": "cat(var_dic_list()) "
    }
   },
   "types_to_exclude": [
    "module",
    "function",
    "builtin_function_or_method",
    "instance",
    "_Feature"
   ],
   "window_display": false
  }
 },
 "nbformat": 4,
 "nbformat_minor": 5
}
