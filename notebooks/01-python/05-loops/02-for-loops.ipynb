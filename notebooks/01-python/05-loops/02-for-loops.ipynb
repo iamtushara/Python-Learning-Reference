{
 "cells": [
  {
   "cell_type": "markdown",
   "id": "73e612ba",
   "metadata": {},
   "source": [
    "# `for` loops"
   ]
  },
  {
   "cell_type": "markdown",
   "id": "53f2c9dd",
   "metadata": {},
   "source": [
    "introduction to for loops"
   ]
  },
  {
   "cell_type": "markdown",
   "id": "a1d454bb",
   "metadata": {},
   "source": [
    "# Syntax"
   ]
  },
  {
   "cell_type": "raw",
   "id": "c9de0b76",
   "metadata": {},
   "source": [
    "for identifier in iterable:\n",
    "    \n",
    "    # these will be repeated\n",
    "    statements()"
   ]
  },
  {
   "cell_type": "markdown",
   "id": "11d1c964",
   "metadata": {},
   "source": [
    "# Examples"
   ]
  },
  {
   "cell_type": "code",
   "execution_count": 3,
   "id": "78df032a",
   "metadata": {
    "ExecuteTime": {
     "end_time": "2021-10-26T09:13:29.102202Z",
     "start_time": "2021-10-26T09:13:29.094201Z"
    }
   },
   "outputs": [],
   "source": [
    "# these are not iterables\n",
    "var_int = 34\n",
    "var_bool = False\n",
    "var_float = 123.345\n",
    "\n",
    "# these are iterables\n",
    "var_str = \"12345\"\n",
    "var_list = [1, 2, 3]\n",
    "var_tuple = (1, 2, 3)\n",
    "var_set = {1, 2, 3}\n",
    "var_dict = {'k1': 'v1', 'k2': 'v2'}"
   ]
  },
  {
   "cell_type": "code",
   "execution_count": 7,
   "id": "4696694c",
   "metadata": {
    "ExecuteTime": {
     "end_time": "2021-10-26T09:15:34.376447Z",
     "start_time": "2021-10-26T09:15:34.369453Z"
    }
   },
   "outputs": [
    {
     "name": "stdout",
     "output_type": "stream",
     "text": [
      "t\n",
      "u\n",
      "s\n",
      "h\n",
      "a\n",
      "r\n",
      " \n",
      "a\n",
      "n\n",
      "a\n",
      "n\n",
      "d\n"
     ]
    }
   ],
   "source": [
    "for i in \"tushar anand\":\n",
    "    print(i)"
   ]
  },
  {
   "cell_type": "code",
   "execution_count": 10,
   "id": "51085fb0",
   "metadata": {
    "ExecuteTime": {
     "end_time": "2021-10-26T09:19:04.547215Z",
     "start_time": "2021-10-26T09:19:04.541213Z"
    }
   },
   "outputs": [
    {
     "name": "stdout",
     "output_type": "stream",
     "text": [
      "1\n",
      "<class 'int'>\n",
      "\n",
      "1\n",
      "<class 'int'>\n",
      "\n",
      "1\n",
      "<class 'int'>\n",
      "\n",
      "True\n",
      "<class 'bool'>\n",
      "\n",
      "3.14\n",
      "<class 'float'>\n",
      "\n",
      "13\n",
      "<class 'int'>\n",
      "\n",
      "tushar\n",
      "<class 'str'>\n",
      "\n"
     ]
    }
   ],
   "source": [
    "for i in [1, 1, 1, True, 3.14, 13, \"tushar\"]:\n",
    "    print(i)\n",
    "    print(type(i))\n",
    "    print()"
   ]
  },
  {
   "cell_type": "code",
   "execution_count": 11,
   "id": "fac0e097",
   "metadata": {
    "ExecuteTime": {
     "end_time": "2021-10-26T09:19:26.072819Z",
     "start_time": "2021-10-26T09:19:26.066818Z"
    }
   },
   "outputs": [
    {
     "name": "stdout",
     "output_type": "stream",
     "text": [
      "1\n",
      "1\n",
      "1\n",
      "True\n",
      "3.14\n",
      "13\n",
      "tushar\n"
     ]
    }
   ],
   "source": [
    "for i in (1, 1, 1, True, 3.14, 13, \"tushar\"):\n",
    "    print(i)"
   ]
  },
  {
   "cell_type": "code",
   "execution_count": 28,
   "id": "3fba8f66",
   "metadata": {
    "ExecuteTime": {
     "end_time": "2021-10-26T09:24:04.514780Z",
     "start_time": "2021-10-26T09:24:04.506775Z"
    }
   },
   "outputs": [
    {
     "name": "stdout",
     "output_type": "stream",
     "text": [
      "True\n",
      "3.14\n",
      "4\n",
      "6\n",
      "19\n",
      "Tushar\n"
     ]
    }
   ],
   "source": [
    "for item in {'Tushar', 3.14, 4, 6, True, 19}:\n",
    "    print(item)"
   ]
  },
  {
   "cell_type": "code",
   "execution_count": 30,
   "id": "20e4ca7b",
   "metadata": {
    "ExecuteTime": {
     "end_time": "2021-10-26T09:27:05.308402Z",
     "start_time": "2021-10-26T09:27:05.302399Z"
    }
   },
   "outputs": [
    {
     "data": {
      "text/plain": [
       "{'k1': 'v1', 'k2': 'v2'}"
      ]
     },
     "execution_count": 30,
     "metadata": {},
     "output_type": "execute_result"
    }
   ],
   "source": [
    "var_dict"
   ]
  },
  {
   "cell_type": "code",
   "execution_count": 31,
   "id": "260ca21a",
   "metadata": {
    "ExecuteTime": {
     "end_time": "2021-10-26T09:27:22.523520Z",
     "start_time": "2021-10-26T09:27:22.518346Z"
    }
   },
   "outputs": [
    {
     "name": "stdout",
     "output_type": "stream",
     "text": [
      "k1\n",
      "k2\n"
     ]
    }
   ],
   "source": [
    "for i in var_dict:\n",
    "    print(i)"
   ]
  },
  {
   "cell_type": "code",
   "execution_count": 34,
   "id": "4d634e1e",
   "metadata": {
    "ExecuteTime": {
     "end_time": "2021-10-26T09:28:16.869627Z",
     "start_time": "2021-10-26T09:28:16.862627Z"
    }
   },
   "outputs": [
    {
     "data": {
      "text/plain": [
       "dict_items([('k1', 'v1'), ('k2', 'v2')])"
      ]
     },
     "execution_count": 34,
     "metadata": {},
     "output_type": "execute_result"
    }
   ],
   "source": [
    "var_dict.items()"
   ]
  },
  {
   "cell_type": "raw",
   "id": "4140d8a9",
   "metadata": {},
   "source": [
    "i = ('k1', 'v1') # earlier\n",
    "key, value = ('k1', 'v1')"
   ]
  },
  {
   "cell_type": "code",
   "execution_count": 58,
   "id": "cb994176",
   "metadata": {
    "ExecuteTime": {
     "end_time": "2021-10-26T09:34:30.640302Z",
     "start_time": "2021-10-26T09:34:30.634272Z"
    }
   },
   "outputs": [
    {
     "name": "stdout",
     "output_type": "stream",
     "text": [
      "the key is: k1 and the value is v1\n",
      "the key is: k2 and the value is v2\n"
     ]
    }
   ],
   "source": [
    "for key, value in var_dict.items():\n",
    "    print(f\"the key is: {key} and the value is {value}\")"
   ]
  },
  {
   "cell_type": "code",
   "execution_count": 60,
   "id": "7fd5c3fd",
   "metadata": {
    "ExecuteTime": {
     "end_time": "2021-10-26T09:36:19.689826Z",
     "start_time": "2021-10-26T09:36:19.682824Z"
    }
   },
   "outputs": [
    {
     "name": "stdout",
     "output_type": "stream",
     "text": [
      "the key is: k1 and the value is v1\n",
      "the key is: k2 and the value is v2\n"
     ]
    }
   ],
   "source": [
    "for x in var_dict:\n",
    "    print(f\"the key is: {x} and the value is {var_dict[x]}\")"
   ]
  },
  {
   "cell_type": "markdown",
   "id": "e613b816",
   "metadata": {},
   "source": [
    "# `continue`, `break`, `pass`"
   ]
  },
  {
   "cell_type": "markdown",
   "id": "493f5ffc",
   "metadata": {},
   "source": [
    "## continue"
   ]
  },
  {
   "cell_type": "markdown",
   "id": "e017aa34",
   "metadata": {},
   "source": [
    "##### WAP to only print the multiples of 5"
   ]
  },
  {
   "cell_type": "code",
   "execution_count": 1,
   "id": "34f1cf11",
   "metadata": {
    "ExecuteTime": {
     "end_time": "2021-10-26T10:21:53.135208Z",
     "start_time": "2021-10-26T10:21:53.127211Z"
    }
   },
   "outputs": [
    {
     "name": "stdout",
     "output_type": "stream",
     "text": [
      "30\n",
      "45\n",
      "50\n"
     ]
    }
   ],
   "source": [
    "given_list = [2, 30, 45, 23, 43, 50]\n",
    "\n",
    "for num in given_list:\n",
    "    if num%5 == 0:\n",
    "        print(num)"
   ]
  },
  {
   "cell_type": "code",
   "execution_count": 3,
   "id": "cb20656f",
   "metadata": {
    "ExecuteTime": {
     "end_time": "2021-10-26T10:24:02.334256Z",
     "start_time": "2021-10-26T10:24:02.326254Z"
    }
   },
   "outputs": [
    {
     "name": "stdout",
     "output_type": "stream",
     "text": [
      "30\n",
      "45\n",
      "50\n"
     ]
    }
   ],
   "source": [
    "given_list = [2, 30, 45, 23, 43, 50]\n",
    "\n",
    "for num in given_list:\n",
    "    if num%5 != 0:\n",
    "        continue\n",
    "    print(num)"
   ]
  },
  {
   "cell_type": "markdown",
   "id": "b00109b8",
   "metadata": {},
   "source": [
    "## break"
   ]
  },
  {
   "cell_type": "code",
   "execution_count": 9,
   "id": "1b71b408",
   "metadata": {
    "ExecuteTime": {
     "end_time": "2021-10-26T10:30:59.247439Z",
     "start_time": "2021-10-26T10:30:59.239349Z"
    }
   },
   "outputs": [
    {
     "name": "stdout",
     "output_type": "stream",
     "text": [
      "abc\n"
     ]
    }
   ],
   "source": [
    "names = ['abc', 'def', 'ghi']\n",
    "\n",
    "for name in names:\n",
    "    print(name)\n",
    "    break"
   ]
  },
  {
   "cell_type": "markdown",
   "id": "d7069bf6",
   "metadata": {},
   "source": [
    "## pass"
   ]
  },
  {
   "cell_type": "code",
   "execution_count": 6,
   "id": "7bcac9a2",
   "metadata": {
    "ExecuteTime": {
     "end_time": "2021-10-26T10:29:19.414888Z",
     "start_time": "2021-10-26T10:29:19.409886Z"
    }
   },
   "outputs": [],
   "source": [
    "for i in given_list:\n",
    "    pass"
   ]
  },
  {
   "cell_type": "code",
   "execution_count": 7,
   "id": "53827985",
   "metadata": {
    "ExecuteTime": {
     "end_time": "2021-10-26T10:29:41.522656Z",
     "start_time": "2021-10-26T10:29:41.518654Z"
    }
   },
   "outputs": [],
   "source": [
    "if given_list== [1, 2, 3]:\n",
    "    pass"
   ]
  },
  {
   "cell_type": "markdown",
   "id": "b3b4fc75",
   "metadata": {},
   "source": [
    "# Practice Questions"
   ]
  },
  {
   "cell_type": "markdown",
   "id": "13e2737d",
   "metadata": {},
   "source": [
    "##### Write a program to find the squares of all the numbers of a given list"
   ]
  },
  {
   "cell_type": "code",
   "execution_count": null,
   "id": "993275d9",
   "metadata": {},
   "outputs": [],
   "source": []
  },
  {
   "cell_type": "markdown",
   "id": "be949eaf",
   "metadata": {},
   "source": [
    "##### WAP to check the data type of each value of a list"
   ]
  },
  {
   "cell_type": "code",
   "execution_count": null,
   "id": "bd7b1448",
   "metadata": {},
   "outputs": [],
   "source": []
  },
  {
   "cell_type": "markdown",
   "id": "c4b97014",
   "metadata": {},
   "source": [
    "##### WAP to filter only the even numbers from a list and store them in another list"
   ]
  },
  {
   "cell_type": "code",
   "execution_count": 66,
   "id": "aaa39c64",
   "metadata": {
    "ExecuteTime": {
     "end_time": "2021-10-26T09:47:47.549193Z",
     "start_time": "2021-10-26T09:47:47.540192Z"
    }
   },
   "outputs": [
    {
     "name": "stdout",
     "output_type": "stream",
     "text": [
      "the value 23 is ODD\n",
      "the value 45 is ODD\n",
      "the value 12 is EVEN\n",
      "the value 26 is EVEN\n",
      "the value 34 is EVEN\n",
      "the value 56 is EVEN\n",
      "the value 12 is EVEN\n",
      "the value 34 is EVEN\n",
      "the value 78 is EVEN\n",
      "the value 45 is ODD\n",
      "\n",
      "[12, 26, 34, 56, 12, 34, 78]\n"
     ]
    }
   ],
   "source": [
    "given_list = [23, 45, 12, 26, 34, 56, 12, 34, 78, 45]\n",
    "list_of_even_numbers = []\n",
    "\n",
    "for num in given_list:\n",
    "    if num%2==0:\n",
    "        print(f\"the value {num} is EVEN\")\n",
    "        list_of_even_numbers.append(num)\n",
    "    else:\n",
    "        print(f\"the value {num} is ODD\")\n",
    "\n",
    "print()\n",
    "print(list_of_even_numbers)"
   ]
  },
  {
   "cell_type": "code",
   "execution_count": null,
   "id": "fccd33fe",
   "metadata": {},
   "outputs": [],
   "source": []
  }
 ],
 "metadata": {
  "kernelspec": {
   "display_name": "Python [conda env:iocl-python-training]",
   "language": "python",
   "name": "conda-env-iocl-python-training-py"
  },
  "language_info": {
   "codemirror_mode": {
    "name": "ipython",
    "version": 3
   },
   "file_extension": ".py",
   "mimetype": "text/x-python",
   "name": "python",
   "nbconvert_exporter": "python",
   "pygments_lexer": "ipython3",
   "version": "3.9.7"
  },
  "toc": {
   "base_numbering": 1,
   "nav_menu": {},
   "number_sections": true,
   "sideBar": true,
   "skip_h1_title": false,
   "title_cell": "Table of Contents",
   "title_sidebar": "Contents",
   "toc_cell": false,
   "toc_position": {},
   "toc_section_display": true,
   "toc_window_display": false
  },
  "varInspector": {
   "cols": {
    "lenName": 16,
    "lenType": 16,
    "lenVar": 40
   },
   "kernels_config": {
    "python": {
     "delete_cmd_postfix": "",
     "delete_cmd_prefix": "del ",
     "library": "var_list.py",
     "varRefreshCmd": "print(var_dic_list())"
    },
    "r": {
     "delete_cmd_postfix": ") ",
     "delete_cmd_prefix": "rm(",
     "library": "var_list.r",
     "varRefreshCmd": "cat(var_dic_list()) "
    }
   },
   "types_to_exclude": [
    "module",
    "function",
    "builtin_function_or_method",
    "instance",
    "_Feature"
   ],
   "window_display": false
  }
 },
 "nbformat": 4,
 "nbformat_minor": 5
}
