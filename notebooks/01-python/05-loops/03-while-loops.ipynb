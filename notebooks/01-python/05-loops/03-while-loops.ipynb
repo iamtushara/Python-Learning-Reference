{
 "cells": [
  {
   "cell_type": "markdown",
   "id": "2c0bc5ca",
   "metadata": {},
   "source": [
    "# `while` loops"
   ]
  },
  {
   "cell_type": "markdown",
   "id": "2021ba23",
   "metadata": {},
   "source": [
    "introduction to while loops"
   ]
  },
  {
   "cell_type": "markdown",
   "id": "3d14c048",
   "metadata": {},
   "source": [
    "# Syntax"
   ]
  },
  {
   "cell_type": "raw",
   "id": "40854a50",
   "metadata": {},
   "source": [
    "while condition:\n",
    "    statement(s)"
   ]
  },
  {
   "cell_type": "markdown",
   "id": "011ca52c",
   "metadata": {},
   "source": [
    "# Examples"
   ]
  },
  {
   "cell_type": "markdown",
   "id": "6e45d7c0",
   "metadata": {},
   "source": [
    "##### login program without the `while` loop"
   ]
  },
  {
   "cell_type": "code",
   "execution_count": 1,
   "id": "545dd6c1",
   "metadata": {
    "ExecuteTime": {
     "end_time": "2021-10-26T10:00:17.653950Z",
     "start_time": "2021-10-26T10:00:12.955129Z"
    }
   },
   "outputs": [
    {
     "name": "stdout",
     "output_type": "stream",
     "text": [
      "enter username: tushar\n",
      "enter password: anand\n",
      "Login Successful\n"
     ]
    }
   ],
   "source": [
    "CORRECT_USERNAME = 'tushar'\n",
    "CORRECT_PASSWORD = 'anand'\n",
    "\n",
    "username = input(\"enter username: \")\n",
    "password = input(\"enter password: \")\n",
    "\n",
    "if username == CORRECT_USERNAME and password == CORRECT_PASSWORD:\n",
    "    print(\"Login Successful\")\n",
    "else:\n",
    "    print(\"Login Failed\")"
   ]
  },
  {
   "cell_type": "markdown",
   "id": "a09d5b1e",
   "metadata": {},
   "source": [
    "##### login program with the `while` loop"
   ]
  },
  {
   "cell_type": "code",
   "execution_count": 2,
   "id": "ce3c7713",
   "metadata": {
    "ExecuteTime": {
     "end_time": "2021-10-26T10:09:34.033841Z",
     "start_time": "2021-10-26T10:09:00.859470Z"
    }
   },
   "outputs": [
    {
     "name": "stdout",
     "output_type": "stream",
     "text": [
      "enter username: tushar anand\n",
      "enter password: ghfg\n",
      "Login Failed\n",
      "enter username: data\n",
      "enter password: science\n",
      "Login Failed\n",
      "enter username: tushar\n",
      "enter password: anand\n",
      "Login Successful\n"
     ]
    }
   ],
   "source": [
    "login_not_successful = True\n",
    "CORRECT_USERNAME = 'tushar'\n",
    "CORRECT_PASSWORD = 'anand'\n",
    "\n",
    "while login_not_successful:\n",
    "    username = input(\"enter username: \")\n",
    "    password = input(\"enter password: \")\n",
    "\n",
    "    if username == CORRECT_USERNAME and password == CORRECT_PASSWORD:\n",
    "        print(\"Login Successful\")\n",
    "        login_not_successful = False\n",
    "\n",
    "    else:\n",
    "        print(\"Login Failed\")"
   ]
  },
  {
   "cell_type": "code",
   "execution_count": 2,
   "id": "9ac155da",
   "metadata": {
    "ExecuteTime": {
     "end_time": "2021-10-26T10:32:14.944427Z",
     "start_time": "2021-10-26T10:32:04.610701Z"
    }
   },
   "outputs": [
    {
     "name": "stdout",
     "output_type": "stream",
     "text": [
      "enter username: jgj\n",
      "enter password: sdf\n",
      "Login Failed\n",
      "enter username: sdg\n",
      "enter password: sdfge\n",
      "Login Failed\n",
      "enter username: tushar\n",
      "enter password: anand\n",
      "Login Successful\n"
     ]
    }
   ],
   "source": [
    "CORRECT_USERNAME = 'tushar'\n",
    "CORRECT_PASSWORD = 'anand'\n",
    "\n",
    "while True:\n",
    "    username = input(\"enter username: \")\n",
    "    password = input(\"enter password: \")\n",
    "\n",
    "    if username == CORRECT_USERNAME and password == CORRECT_PASSWORD:\n",
    "        print(\"Login Successful\")\n",
    "        break\n",
    "    else:\n",
    "        print(\"Login Failed\")"
   ]
  }
 ],
 "metadata": {
  "kernelspec": {
   "display_name": "Python [conda env:root] *",
   "language": "python",
   "name": "conda-root-py"
  },
  "language_info": {
   "codemirror_mode": {
    "name": "ipython",
    "version": 3
   },
   "file_extension": ".py",
   "mimetype": "text/x-python",
   "name": "python",
   "nbconvert_exporter": "python",
   "pygments_lexer": "ipython3",
   "version": "3.8.10"
  },
  "toc": {
   "base_numbering": 1,
   "nav_menu": {},
   "number_sections": true,
   "sideBar": true,
   "skip_h1_title": false,
   "title_cell": "Table of Contents",
   "title_sidebar": "Contents",
   "toc_cell": false,
   "toc_position": {},
   "toc_section_display": true,
   "toc_window_display": false
  },
  "varInspector": {
   "cols": {
    "lenName": 16,
    "lenType": 16,
    "lenVar": 40
   },
   "kernels_config": {
    "python": {
     "delete_cmd_postfix": "",
     "delete_cmd_prefix": "del ",
     "library": "var_list.py",
     "varRefreshCmd": "print(var_dic_list())"
    },
    "r": {
     "delete_cmd_postfix": ") ",
     "delete_cmd_prefix": "rm(",
     "library": "var_list.r",
     "varRefreshCmd": "cat(var_dic_list()) "
    }
   },
   "types_to_exclude": [
    "module",
    "function",
    "builtin_function_or_method",
    "instance",
    "_Feature"
   ],
   "window_display": false
  }
 },
 "nbformat": 4,
 "nbformat_minor": 5
}
